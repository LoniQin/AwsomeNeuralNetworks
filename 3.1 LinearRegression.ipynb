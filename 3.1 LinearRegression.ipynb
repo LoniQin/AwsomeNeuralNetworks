{
 "cells": [
  {
   "cell_type": "markdown",
   "metadata": {},
   "source": [
    "## 线性回归的矢量计算表达式\n",
    "线性回归的矢量计算式为：\n",
    "\n",
    "$\\hat{y} = Xw + b$\n",
    "\n",
    "损失函数为:\n",
    "\n",
    "$l(\\theta) = \\frac{1}{2n}(\\hat{y} - y)^T(\\hat{y} - y)$\n",
    "\n",
    "线性回归的矢量计算式实现方式如下:"
   ]
  },
  {
   "cell_type": "code",
   "execution_count": 45,
   "metadata": {},
   "outputs": [
    {
     "name": "stdout",
     "output_type": "stream",
     "text": [
      "\n[[ 5.]\n [11.]\n [17.]]\n<NDArray 3x1 @cpu(0)>\n"
     ]
    }
   ],
   "source": [
    "from mxnet import nd\n",
    "X = nd.array([[1, 2], [3, 4], [5, 6]])\n",
    "w = nd.array([[1], [2]])\n",
    "b = nd.array([[1], [1]])\n",
    "y = nd.array([[4], [12], [8]])\n",
    "y_pred = nd.dot(X, w)\n",
    "print(y_pred)"
   ]
  },
  {
   "cell_type": "markdown",
   "metadata": {},
   "source": [
    "损失函数的计算方式如下:"
   ]
  },
  {
   "cell_type": "code",
   "execution_count": 46,
   "metadata": {},
   "outputs": [
    {
     "data": {
      "text/plain": [
       "13.833333333333334"
      ]
     },
     "execution_count": 46,
     "metadata": {},
     "output_type": "execute_result"
    }
   ],
   "source": [
    "delta = y - y_pred\n",
    "loss = nd.dot(nd.transpose(delta), delta)[0].asscalar()  / (2 * y.shape[0])\n",
    "loss"
   ]
  }
 ],
 "metadata": {
  "kernelspec": {
   "display_name": "Python 2",
   "language": "python",
   "name": "python2"
  },
  "language_info": {
   "codemirror_mode": {
    "name": "ipython",
    "version": 2.0
   },
   "file_extension": ".py",
   "mimetype": "text/x-python",
   "name": "python",
   "nbconvert_exporter": "python",
   "pygments_lexer": "ipython2",
   "version": "2.7.6"
  }
 },
 "nbformat": 4,
 "nbformat_minor": 0
}