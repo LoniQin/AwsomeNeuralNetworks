{
  "nbformat": 4,
  "nbformat_minor": 0,
  "metadata": {
    "kernelspec": {
      "display_name": "Python 3",
      "language": "python",
      "name": "python3"
    },
    "language_info": {
      "codemirror_mode": {
        "name": "ipython",
        "version": 3
      },
      "file_extension": ".py",
      "mimetype": "text/x-python",
      "name": "python",
      "nbconvert_exporter": "python",
      "pygments_lexer": "ipython3",
      "version": "3.8.6"
    },
    "colab": {
      "name": "KNN MNIST Classifier.ipynb",
      "provenance": [],
      "collapsed_sections": [],
      "include_colab_link": true
    }
  },
  "cells": [
    {
      "cell_type": "markdown",
      "metadata": {
        "id": "view-in-github",
        "colab_type": "text"
      },
      "source": [
        "<a href=\"https://colab.research.google.com/github/LoniQin/deep_learning_notebooks/blob/master/KNN_MNIST_Classifier.ipynb\" target=\"_parent\"><img src=\"https://colab.research.google.com/assets/colab-badge.svg\" alt=\"Open In Colab\"/></a>"
      ]
    },
    {
      "cell_type": "markdown",
      "metadata": {
        "button": false,
        "new_sheet": false,
        "run_control": {
          "read_only": false
        },
        "id": "orZiPBzgY8AR"
      },
      "source": [
        "## Load required packages\n"
      ]
    },
    {
      "cell_type": "code",
      "metadata": {
        "button": false,
        "new_sheet": false,
        "run_control": {
          "read_only": false
        },
        "id": "Xj6f_5C7Y8AS"
      },
      "source": [
        "import numpy as np\n",
        "import numpy as np\n",
        "from tensorflow.keras.datasets import mnist\n",
        "from sklearn.neighbors import KNeighborsClassifier\n",
        "import time"
      ],
      "execution_count": 1,
      "outputs": []
    },
    {
      "cell_type": "markdown",
      "metadata": {
        "button": false,
        "new_sheet": false,
        "run_control": {
          "read_only": false
        },
        "id": "z-gV-zkeY8AU"
      },
      "source": [
        "### Load Data\n"
      ]
    },
    {
      "cell_type": "code",
      "metadata": {
        "button": false,
        "new_sheet": false,
        "run_control": {
          "read_only": false
        },
        "id": "Tllje8R-Y8AU",
        "colab": {
          "base_uri": "https://localhost:8080/"
        },
        "outputId": "a89f8fc8-d90d-473b-bb52-1dc88bab519e"
      },
      "source": [
        "(X_train, y_train), (X_test, y_test) = mnist.load_data()"
      ],
      "execution_count": 2,
      "outputs": [
        {
          "output_type": "stream",
          "text": [
            "Downloading data from https://storage.googleapis.com/tensorflow/tf-keras-datasets/mnist.npz\n",
            "11493376/11490434 [==============================] - 0s 0us/step\n"
          ],
          "name": "stdout"
        }
      ]
    },
    {
      "cell_type": "markdown",
      "metadata": {
        "button": false,
        "new_sheet": false,
        "run_control": {
          "read_only": false
        },
        "id": "2Rn01MtsY8Aa"
      },
      "source": [
        "### Preprocess Data\n"
      ]
    },
    {
      "cell_type": "code",
      "metadata": {
        "button": false,
        "new_sheet": false,
        "run_control": {
          "read_only": false
        },
        "id": "YC7A4I5wY8As"
      },
      "source": [
        "X_train = X_train.reshape((X_train.shape[0], -1))\n",
        "X_test = X_test.reshape((X_test.shape[0], -1))"
      ],
      "execution_count": 3,
      "outputs": []
    },
    {
      "cell_type": "code",
      "metadata": {
        "colab": {
          "base_uri": "https://localhost:8080/"
        },
        "id": "pnY3MjzSfC_1",
        "outputId": "f496c8ab-3595-45d4-e1d9-cb16df51e29a"
      },
      "source": [
        "print(X_train.shape)\n",
        "print(X_test.shape)"
      ],
      "execution_count": 4,
      "outputs": [
        {
          "output_type": "stream",
          "text": [
            "(60000, 784)\n",
            "(10000, 784)\n"
          ],
          "name": "stdout"
        }
      ]
    },
    {
      "cell_type": "markdown",
      "metadata": {
        "button": false,
        "new_sheet": false,
        "run_control": {
          "read_only": false
        },
        "id": "d2e4gcmMY8As"
      },
      "source": [
        "### Train the Model"
      ]
    },
    {
      "cell_type": "code",
      "metadata": {
        "button": false,
        "new_sheet": false,
        "run_control": {
          "read_only": false
        },
        "id": "6HXek3ZgY8As"
      },
      "source": [
        "\n",
        "model = KNeighborsClassifier(n_neighbors = 10).fit(X_train, y_train)"
      ],
      "execution_count": 5,
      "outputs": []
    },
    {
      "cell_type": "markdown",
      "metadata": {
        "id": "VRFhp51YlVxv"
      },
      "source": [
        "### Evaluate the Model\n",
        "KNN Classifier can be very inefficient, so I just choose 1000 samples randomly to estimate its accuracy. Finally I get about 96% test accuracy which is not bad."
      ]
    },
    {
      "cell_type": "code",
      "metadata": {
        "colab": {
          "base_uri": "https://localhost:8080/"
        },
        "id": "wQSZej2wi8fL",
        "outputId": "d17f127f-4163-4e6c-8589-27315864ac0b"
      },
      "source": [
        "begin = time.time()\n",
        "indices = np.random.choice(X_test.shape[0], size=1000)\n",
        "accuracy = (model.predict(X_test[indices]) == y_test[indices]).mean()\n",
        "print(\"Accuracy:%.2f\"%(accuracy))\n",
        "print(\"Elapsed time:%.2fs\"%(time.time() - begin))"
      ],
      "execution_count": 15,
      "outputs": [
        {
          "output_type": "stream",
          "text": [
            "Accuracy:0.96\n",
            "Elapsed time:91.50s\n"
          ],
          "name": "stdout"
        }
      ]
    }
  ]
}