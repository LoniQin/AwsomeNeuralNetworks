{
  "nbformat": 4,
  "nbformat_minor": 0,
  "metadata": {
    "coursera": {
      "course_slug": "tensor-flow-2-1",
      "graded_item_id": "mtZ4n",
      "launcher_item_id": "WphgK"
    },
    "kernelspec": {
      "display_name": "Python 3",
      "language": "python",
      "name": "python3"
    },
    "language_info": {
      "codemirror_mode": {
        "name": "ipython",
        "version": 3
      },
      "file_extension": ".py",
      "mimetype": "text/x-python",
      "name": "python",
      "nbconvert_exporter": "python",
      "pygments_lexer": "ipython3",
      "version": "3.8.5"
    },
    "colab": {
      "name": "Iris DecisionTree_classifier.ipynb",
      "provenance": [],
      "collapsed_sections": [],
      "include_colab_link": true
    }
  },
  "cells": [
    {
      "cell_type": "markdown",
      "metadata": {
        "id": "view-in-github",
        "colab_type": "text"
      },
      "source": [
        "<a href=\"https://colab.research.google.com/github/LoniQin/deep_learning_notebooks/blob/master/machine-learning/Iris_DecisionTree_classifier.ipynb\" target=\"_parent\"><img src=\"https://colab.research.google.com/assets/colab-badge.svg\" alt=\"Open In Colab\"/></a>"
      ]
    },
    {
      "cell_type": "markdown",
      "metadata": {
        "id": "fOVvP95x_Vcz"
      },
      "source": [
        "#Iris Decision Tree Classfier"
      ]
    },
    {
      "cell_type": "markdown",
      "metadata": {
        "id": "EuiunupO_Vc8"
      },
      "source": [
        "## Import Dependencies"
      ]
    },
    {
      "cell_type": "code",
      "metadata": {
        "id": "w8H9haYM_Vc9"
      },
      "source": [
        "import numpy as np\n",
        "from sklearn import datasets, model_selection \n",
        "%matplotlib inline\n",
        "from sklearn.tree import DecisionTreeClassifier\n",
        "from sklearn.model_selection import train_test_split\n",
        "from sklearn.metrics import accuracy_score"
      ],
      "execution_count": 6,
      "outputs": []
    },
    {
      "cell_type": "markdown",
      "metadata": {
        "id": "tdeMMtD5_Vc-"
      },
      "source": [
        "#### The Iris dataset\n",
        "\n",
        "The [Iris dataset](https://scikit-learn.org/stable/auto_examples/datasets/plot_iris_dataset.html) consists of 50 samples from each of three species of Iris (Iris setosa, Iris virginica and Iris versicolor). Four features were measured from each sample: the length and the width of the sepals and petals, in centimeters. "
      ]
    },
    {
      "cell_type": "markdown",
      "metadata": {
        "id": "QRO5XxYI_Vc-"
      },
      "source": [
        "#### Load and preprocess the data\n",
        "\n",
        "First read in the Iris dataset using `datasets.load_iris()`, and split the dataset into training and test sets."
      ]
    },
    {
      "cell_type": "code",
      "metadata": {
        "id": "qARqY_Fa_Vc_"
      },
      "source": [
        "iris_data = datasets.load_iris()\n",
        "train_data, test_data, train_targets, test_targets = train_test_split(iris_data['data'], iris_data['target'], test_size=0.2)"
      ],
      "execution_count": 2,
      "outputs": []
    },
    {
      "cell_type": "code",
      "metadata": {
        "colab": {
          "base_uri": "https://localhost:8080/"
        },
        "id": "H05-cnBaafda",
        "outputId": "99764afe-ea3a-412d-c8c6-e18238cfae3d"
      },
      "source": [
        "print(train_data[:10])"
      ],
      "execution_count": 3,
      "outputs": [
        {
          "output_type": "stream",
          "text": [
            "[[5.1 3.7 1.5 0.4]\n",
            " [5.7 2.8 4.5 1.3]\n",
            " [5.  3.4 1.5 0.2]\n",
            " [6.9 3.2 5.7 2.3]\n",
            " [7.7 3.  6.1 2.3]\n",
            " [4.3 3.  1.1 0.1]\n",
            " [4.9 2.5 4.5 1.7]\n",
            " [5.2 3.4 1.4 0.2]\n",
            " [6.7 3.1 4.4 1.4]\n",
            " [5.5 4.2 1.4 0.2]]\n"
          ],
          "name": "stdout"
        }
      ]
    },
    {
      "cell_type": "code",
      "metadata": {
        "colab": {
          "base_uri": "https://localhost:8080/"
        },
        "id": "-aOm_G-YZCd0",
        "outputId": "e53bd855-57c0-4642-ac1a-c1ba41aae8a1"
      },
      "source": [
        "print(test_targets[:10])"
      ],
      "execution_count": 4,
      "outputs": [
        {
          "output_type": "stream",
          "text": [
            "[1 2 1 0 1 1 0 0 0 0]\n"
          ],
          "name": "stdout"
        }
      ]
    },
    {
      "cell_type": "markdown",
      "metadata": {
        "id": "ySXUFzk2_VdA"
      },
      "source": [
        "#### Build and train the Model"
      ]
    },
    {
      "cell_type": "code",
      "metadata": {
        "id": "FN02yTmfcDsf"
      },
      "source": [
        "model = DecisionTreeClassifier(max_depth=4)\n",
        "model.fit(train_data, train_targets)\n",
        "test_accuracy = accuracy_score(test_targets, model.predict(test_data))"
      ],
      "execution_count": 9,
      "outputs": []
    },
    {
      "cell_type": "markdown",
      "metadata": {
        "id": "6HJ09m8BZR1e"
      },
      "source": [
        "## Accuracy"
      ]
    },
    {
      "cell_type": "code",
      "metadata": {
        "colab": {
          "base_uri": "https://localhost:8080/"
        },
        "id": "Fl4vCIouYsfP",
        "outputId": "f1c9ac8b-2cfc-4c11-b84d-b61e560ba3bb"
      },
      "source": [
        "\n",
        "train_accuracy = accuracy_score(train_targets, model.predict(train_data))\n",
        "print(\"Train Accuracy:\", train_accuracy)\n",
        "test_accuracy = accuracy_score(test_targets, model.predict(test_data))\n",
        "print(\"Test Accuracy:\", test_accuracy)"
      ],
      "execution_count": 10,
      "outputs": [
        {
          "output_type": "stream",
          "text": [
            "Train Accuracy: 0.9916666666666667\n",
            "Test Accuracy: 1.0\n"
          ],
          "name": "stdout"
        }
      ]
    }
  ]
}