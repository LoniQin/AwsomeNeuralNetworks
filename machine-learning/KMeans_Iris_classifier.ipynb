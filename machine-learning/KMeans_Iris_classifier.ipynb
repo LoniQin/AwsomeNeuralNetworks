{
  "nbformat": 4,
  "nbformat_minor": 0,
  "metadata": {
    "coursera": {
      "course_slug": "tensor-flow-2-1",
      "graded_item_id": "mtZ4n",
      "launcher_item_id": "WphgK"
    },
    "kernelspec": {
      "display_name": "Python 3",
      "language": "python",
      "name": "python3"
    },
    "language_info": {
      "codemirror_mode": {
        "name": "ipython",
        "version": 3
      },
      "file_extension": ".py",
      "mimetype": "text/x-python",
      "name": "python",
      "nbconvert_exporter": "python",
      "pygments_lexer": "ipython3",
      "version": "3.8.5"
    },
    "colab": {
      "name": "KMeans Iris_classifier.ipynb",
      "provenance": [],
      "collapsed_sections": [],
      "include_colab_link": true
    }
  },
  "cells": [
    {
      "cell_type": "markdown",
      "metadata": {
        "id": "view-in-github",
        "colab_type": "text"
      },
      "source": [
        "<a href=\"https://colab.research.google.com/github/LoniQin/deep_learning_notebooks/blob/master/machine-learning/KMeans_Iris_classifier.ipynb\" target=\"_parent\"><img src=\"https://colab.research.google.com/assets/colab-badge.svg\" alt=\"Open In Colab\"/></a>"
      ]
    },
    {
      "cell_type": "markdown",
      "metadata": {
        "id": "fOVvP95x_Vcz"
      },
      "source": [
        "# KMeans Iris Classfier"
      ]
    },
    {
      "cell_type": "markdown",
      "metadata": {
        "id": "EuiunupO_Vc8"
      },
      "source": [
        "## Import Dependencies"
      ]
    },
    {
      "cell_type": "code",
      "metadata": {
        "id": "w8H9haYM_Vc9"
      },
      "source": [
        "import numpy as np\n",
        "from sklearn import datasets, model_selection \n",
        "%matplotlib inline\n",
        "from sklearn.cluster import KMeans\n",
        "from sklearn.model_selection import train_test_split"
      ],
      "execution_count": 11,
      "outputs": []
    },
    {
      "cell_type": "markdown",
      "metadata": {
        "id": "tdeMMtD5_Vc-"
      },
      "source": [
        "#### The Iris dataset\n",
        "\n",
        "The [Iris dataset](https://scikit-learn.org/stable/auto_examples/datasets/plot_iris_dataset.html) consists of 50 samples from each of three species of Iris (Iris setosa, Iris virginica and Iris versicolor). Four features were measured from each sample: the length and the width of the sepals and petals, in centimeters. "
      ]
    },
    {
      "cell_type": "markdown",
      "metadata": {
        "id": "QRO5XxYI_Vc-"
      },
      "source": [
        "#### Load and preprocess the data\n",
        "\n",
        "First read in the Iris dataset using `datasets.load_iris()`, and split the dataset into training and test sets."
      ]
    },
    {
      "cell_type": "code",
      "metadata": {
        "id": "qARqY_Fa_Vc_"
      },
      "source": [
        "iris_data = datasets.load_iris()\n",
        "train_data, test_data, train_targets, test_targets = train_test_split(iris_data['data'], iris_data['target'], test_size=0.2)"
      ],
      "execution_count": 47,
      "outputs": []
    },
    {
      "cell_type": "code",
      "metadata": {
        "colab": {
          "base_uri": "https://localhost:8080/"
        },
        "id": "H05-cnBaafda",
        "outputId": "323b4de3-8bbe-406c-a46a-9de19e12121d"
      },
      "source": [
        "print(train_data[:10])"
      ],
      "execution_count": 64,
      "outputs": [
        {
          "output_type": "stream",
          "text": [
            "[[5.5 3.5 1.3 0.2]\n",
            " [7.2 3.  5.8 1.6]\n",
            " [6.3 2.9 5.6 1.8]\n",
            " [4.6 3.6 1.  0.2]\n",
            " [5.7 3.  4.2 1.2]\n",
            " [5.7 4.4 1.5 0.4]\n",
            " [5.6 2.7 4.2 1.3]\n",
            " [6.4 3.2 4.5 1.5]\n",
            " [4.9 2.5 4.5 1.7]\n",
            " [7.7 2.6 6.9 2.3]]\n"
          ],
          "name": "stdout"
        }
      ]
    },
    {
      "cell_type": "code",
      "metadata": {
        "colab": {
          "base_uri": "https://localhost:8080/"
        },
        "id": "-aOm_G-YZCd0",
        "outputId": "785bc5c2-0927-4d65-8214-0732f76d399c"
      },
      "source": [
        "print(test_targets[:10])"
      ],
      "execution_count": 65,
      "outputs": [
        {
          "output_type": "stream",
          "text": [
            "[1 1 0 1 0 1 2 2 1 0]\n"
          ],
          "name": "stdout"
        }
      ]
    },
    {
      "cell_type": "markdown",
      "metadata": {
        "id": "ySXUFzk2_VdA"
      },
      "source": [
        "#### Build and train the Model\n",
        "KMeans algorithm is very unstable, so iterate the training loop to search for best model."
      ]
    },
    {
      "cell_type": "code",
      "metadata": {
        "id": "FN02yTmfcDsf"
      },
      "source": [
        "best_accuracy = 0.0\n",
        "best_model = None\n",
        "for i in range(10):\n",
        "  model = KMeans(init='random', n_clusters=3, n_init=20, algorithm='elkan')\n",
        "  model.fit(train_data, train_targets)\n",
        "  test_accuracy = accuracy_score(test_targets, model.predict(test_data))\n",
        "  if test_accuracy > best_accuracy:\n",
        "    best_model = model\n",
        "    best_accuracy = test_accuracy"
      ],
      "execution_count": 83,
      "outputs": []
    },
    {
      "cell_type": "markdown",
      "metadata": {
        "id": "6HJ09m8BZR1e"
      },
      "source": [
        "## Accuracy"
      ]
    },
    {
      "cell_type": "code",
      "metadata": {
        "colab": {
          "base_uri": "https://localhost:8080/"
        },
        "id": "Fl4vCIouYsfP",
        "outputId": "9f96356e-2f50-452d-cf35-ef8948a81141"
      },
      "source": [
        "from sklearn.metrics import accuracy_score\n",
        "train_accuracy = accuracy_score(train_targets, best_model.predict(train_data))\n",
        "print(\"Train Accuracy:\", train_accuracy)\n",
        "test_accuracy = accuracy_score(test_targets, best_model.predict(test_data))\n",
        "print(\"Test Accuracy:\", test_accuracy)"
      ],
      "execution_count": 84,
      "outputs": [
        {
          "output_type": "stream",
          "text": [
            "Train Accuracy: 0.8916666666666667\n",
            "Test Accuracy: 0.8666666666666667\n"
          ],
          "name": "stdout"
        }
      ]
    }
  ]
}