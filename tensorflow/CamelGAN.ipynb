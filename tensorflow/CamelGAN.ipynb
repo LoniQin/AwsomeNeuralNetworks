{
  "nbformat": 4,
  "nbformat_minor": 0,
  "metadata": {
    "kernelspec": {
      "name": "python3",
      "display_name": "Python 3"
    },
    "colab": {
      "name": "Copy of CamelGAN.ipynb",
      "provenance": [],
      "collapsed_sections": [],
      "toc_visible": true,
      "include_colab_link": true
    },
    "language_info": {
      "name": "python"
    },
    "accelerator": "GPU"
  },
  "cells": [
    {
      "cell_type": "markdown",
      "metadata": {
        "id": "view-in-github",
        "colab_type": "text"
      },
      "source": [
        "<a href=\"https://colab.research.google.com/github/LoniQin/deep_learning_notebooks/blob/master/tensorflow/CamelGAN.ipynb\" target=\"_parent\"><img src=\"https://colab.research.google.com/assets/colab-badge.svg\" alt=\"Open In Colab\"/></a>"
      ]
    },
    {
      "cell_type": "markdown",
      "metadata": {
        "id": "a_6uA04k9Aa5"
      },
      "source": [
        "# GAN Training"
      ]
    },
    {
      "cell_type": "markdown",
      "metadata": {
        "id": "zQWh9wXy9Aa6"
      },
      "source": [
        "## Importing Libraries"
      ]
    },
    {
      "cell_type": "code",
      "metadata": {
        "id": "NKAwH0rH9Aa7"
      },
      "source": [
        "import os\n",
        "import numpy as np\n",
        "import json\n",
        "import pickle as pkl\n",
        "import matplotlib.pyplot as plt\n",
        "import tensorflow as tf\n",
        "from tensorflow.keras.layers import Input, Conv2D, Flatten, Dense, Conv2DTranspose, Reshape, Lambda, Activation, BatchNormalization, LeakyReLU, Dropout, ZeroPadding2D, UpSampling2D\n",
        "from tensorflow.keras.models import Model, Sequential\n",
        "from tensorflow.keras import backend as K\n",
        "from tensorflow.keras.optimizers import Adam, RMSprop\n",
        "from tensorflow.keras.utils import plot_model\n",
        "from tensorflow.keras.preprocessing.image import ImageDataGenerator\n",
        "from tensorflow.keras.initializers import RandomNormal"
      ],
      "execution_count": 31,
      "outputs": []
    },
    {
      "cell_type": "markdown",
      "metadata": {
        "id": "uau7QQLY3cUt"
      },
      "source": [
        "## Mounting Google Drive\n",
        "For convenience we mount a Google Drive so that we can read and write a Goolge Drive."
      ]
    },
    {
      "cell_type": "code",
      "metadata": {
        "id": "vh8jI2eHLQEm"
      },
      "source": [
        "drive_path = \"/content/drive\"\n",
        "data_path = drive_path + \"/MyDrive/data\""
      ],
      "execution_count": 32,
      "outputs": []
    },
    {
      "cell_type": "code",
      "metadata": {
        "colab": {
          "base_uri": "https://localhost:8080/"
        },
        "id": "agpzYqu0JN8k",
        "outputId": "7af3b3d2-1a33-479c-d4c2-dddf873bab03"
      },
      "source": [
        "from google.colab import drive\n",
        "drive.mount(drive_path)"
      ],
      "execution_count": 33,
      "outputs": [
        {
          "output_type": "stream",
          "text": [
            "Drive already mounted at /content/drive; to attempt to forcibly remount, call drive.mount(\"/content/drive\", force_remount=True).\n"
          ],
          "name": "stdout"
        }
      ]
    },
    {
      "cell_type": "markdown",
      "metadata": {
        "id": "wEh1vnWP9Nlm"
      },
      "source": [
        "## Defining a GAN"
      ]
    },
    {
      "cell_type": "code",
      "metadata": {
        "id": "p7pVl1c89LmU"
      },
      "source": [
        "class WGAN():\n",
        "    def __init__(self\n",
        "        , input_dim\n",
        "        , critic_conv_filters\n",
        "        , critic_conv_kernel_size\n",
        "        , critic_conv_strides\n",
        "        , critic_batch_norm_momentum\n",
        "        , critic_activation\n",
        "        , critic_dropout_rate\n",
        "        , critic_learning_rate\n",
        "        , generator_initial_dense_layer_size\n",
        "        , generator_upsample\n",
        "        , generator_conv_filters\n",
        "        , generator_conv_kernel_size\n",
        "        , generator_conv_strides\n",
        "        , generator_batch_norm_momentum\n",
        "        , generator_activation\n",
        "        , generator_dropout_rate\n",
        "        , generator_learning_rate\n",
        "        , optimiser\n",
        "        , z_dim\n",
        "        ):\n",
        "\n",
        "        self.name = 'gan'\n",
        "\n",
        "        self.input_dim = input_dim\n",
        "        self.critic_conv_filters = critic_conv_filters\n",
        "        self.critic_conv_kernel_size = critic_conv_kernel_size\n",
        "        self.critic_conv_strides = critic_conv_strides\n",
        "        self.critic_batch_norm_momentum = critic_batch_norm_momentum\n",
        "        self.critic_activation = critic_activation\n",
        "        self.critic_dropout_rate = critic_dropout_rate\n",
        "        self.critic_learning_rate = critic_learning_rate\n",
        "\n",
        "        self.generator_initial_dense_layer_size = generator_initial_dense_layer_size\n",
        "        self.generator_upsample = generator_upsample\n",
        "        self.generator_conv_filters = generator_conv_filters\n",
        "        self.generator_conv_kernel_size = generator_conv_kernel_size\n",
        "        self.generator_conv_strides = generator_conv_strides\n",
        "        self.generator_batch_norm_momentum = generator_batch_norm_momentum\n",
        "        self.generator_activation = generator_activation\n",
        "        self.generator_dropout_rate = generator_dropout_rate\n",
        "        self.generator_learning_rate = generator_learning_rate\n",
        "        \n",
        "        self.optimiser = optimiser\n",
        "\n",
        "        self.z_dim = z_dim\n",
        "\n",
        "        \n",
        "\n",
        "        self.n_layers_critic = len(critic_conv_filters)\n",
        "        self.n_layers_generator = len(generator_conv_filters)\n",
        "\n",
        "        self.weight_init = RandomNormal(mean=0., stddev=0.02)\n",
        "\n",
        "        self.d_losses = []\n",
        "        self.g_losses = []\n",
        "\n",
        "        self.epoch = 0\n",
        "\n",
        "    \n",
        "        self._build_critic()\n",
        "        self._build_generator()\n",
        "\n",
        "        self._build_adversarial()\n",
        "\n",
        "    def wasserstein(self, y_true, y_pred):\n",
        "        return - K.mean(y_true * y_pred)\n",
        "\n",
        "    def get_activation(self, activation):\n",
        "        if activation == 'leaky_relu':\n",
        "            layer = LeakyReLU(alpha = 0.2)\n",
        "        else:\n",
        "            layer = Activation(activation)\n",
        "        return layer\n",
        "\n",
        "    def _build_critic(self):\n",
        "\n",
        "        ### THE critic\n",
        "        critic_input = Input(shape=self.input_dim, name='critic_input')\n",
        "\n",
        "        x = critic_input\n",
        "\n",
        "        for i in range(self.n_layers_critic):\n",
        "\n",
        "            x = Conv2D(\n",
        "                filters = self.critic_conv_filters[i]\n",
        "                , kernel_size = self.critic_conv_kernel_size[i]\n",
        "                , strides = self.critic_conv_strides[i]\n",
        "                , padding = 'same'\n",
        "                , name = 'critic_conv_' + str(i)\n",
        "                , kernel_initializer = self.weight_init\n",
        "                )(x)\n",
        "\n",
        "            if self.critic_batch_norm_momentum and i > 0:\n",
        "                x = BatchNormalization(momentum = self.critic_batch_norm_momentum)(x)\n",
        "\n",
        "            x = self.get_activation(self.critic_activation)(x)\n",
        "\n",
        "            if self.critic_dropout_rate:\n",
        "                x = Dropout(rate = self.critic_dropout_rate)(x)\n",
        "\n",
        "        x = Flatten()(x)\n",
        "\n",
        "        critic_output = Dense(1, activation=None\n",
        "        , kernel_initializer = self.weight_init\n",
        "        )(x)\n",
        "\n",
        "        self.critic = Model(critic_input, critic_output)\n",
        "\n",
        "\n",
        "\n",
        "    def _build_generator(self):\n",
        "\n",
        "        ### THE generator\n",
        "\n",
        "        generator_input = Input(shape=(self.z_dim,), name='generator_input')\n",
        "\n",
        "        x = generator_input\n",
        "\n",
        "        x = Dense(np.prod(self.generator_initial_dense_layer_size)\n",
        "        ,kernel_initializer = self.weight_init\n",
        "        )(x)\n",
        "\n",
        "        \n",
        "        if self.generator_batch_norm_momentum:\n",
        "            x = BatchNormalization(momentum = self.generator_batch_norm_momentum)(x)\n",
        "\n",
        "        x = self.get_activation(self.generator_activation)(x)\n",
        "\n",
        "        x = Reshape(self.generator_initial_dense_layer_size)(x)\n",
        "\n",
        "        if self.generator_dropout_rate:\n",
        "            x = Dropout(rate = self.generator_dropout_rate)(x)\n",
        "\n",
        "        for i in range(self.n_layers_generator):\n",
        "\n",
        "            if self.generator_upsample[i] == 2:\n",
        "                x = UpSampling2D()(x)\n",
        "                x = Conv2D(\n",
        "                filters = self.generator_conv_filters[i]\n",
        "                , kernel_size = self.generator_conv_kernel_size[i]\n",
        "                , padding = 'same'\n",
        "                , name = 'generator_conv_' + str(i)\n",
        "                , kernel_initializer = self.weight_init\n",
        "                )(x)\n",
        "            else:\n",
        "\n",
        "                x = Conv2DTranspose(\n",
        "                    filters = self.generator_conv_filters[i]\n",
        "                    , kernel_size = self.generator_conv_kernel_size[i]\n",
        "                    , padding = 'same'\n",
        "                    , strides = self.generator_conv_strides[i]\n",
        "                    , name = 'generator_conv_' + str(i)\n",
        "                    , kernel_initializer = self.weight_init\n",
        "                    )(x)\n",
        "\n",
        "            if i < self.n_layers_generator - 1:\n",
        "\n",
        "                if self.generator_batch_norm_momentum:\n",
        "                    x = BatchNormalization(momentum = self.generator_batch_norm_momentum)(x)\n",
        "\n",
        "                x = self.get_activation(self.generator_activation)(x)\n",
        "            \n",
        "            else:\n",
        "                x = Activation('tanh')(x)\n",
        "\n",
        "\n",
        "        generator_output = x\n",
        "\n",
        "        self.generator = Model(generator_input, generator_output)\n",
        "\n",
        "\n",
        "    def get_opti(self, lr):\n",
        "        if self.optimiser == 'adam':\n",
        "            opti = Adam(lr=lr, beta_1=0.5)\n",
        "        elif self.optimiser == 'rmsprop':\n",
        "            opti = RMSprop(lr=lr)\n",
        "        else:\n",
        "            opti = Adam(lr=lr)\n",
        "\n",
        "        return opti\n",
        "\n",
        "    def set_trainable(self, m, val):\n",
        "        m.trainable = val\n",
        "        for l in m.layers:\n",
        "            l.trainable = val\n",
        "\n",
        "\n",
        "    def _build_adversarial(self):\n",
        "        \n",
        "        ### COMPILE critic\n",
        "\n",
        "        self.critic.compile(\n",
        "            optimizer=self.get_opti(self.critic_learning_rate) \n",
        "            , loss = self.wasserstein\n",
        "        )\n",
        "        \n",
        "        ### COMPILE THE FULL GAN\n",
        "\n",
        "        self.set_trainable(self.critic, False)\n",
        "\n",
        "        model_input = Input(shape=(self.z_dim,), name='model_input')\n",
        "        model_output = self.critic(self.generator(model_input))\n",
        "        self.model = Model(model_input, model_output)\n",
        "        \n",
        "        self.model.compile(\n",
        "            optimizer=self.get_opti(self.generator_learning_rate)\n",
        "            , loss=self.wasserstein\n",
        "            )\n",
        "\n",
        "        self.set_trainable(self.critic, True)\n",
        "\n",
        "\n",
        "\n",
        "    \n",
        "    def train_critic(self, x_train, batch_size, clip_threshold, using_generator):\n",
        "\n",
        "        valid = np.ones((batch_size,1))\n",
        "        fake = -np.ones((batch_size,1))\n",
        "\n",
        "        if using_generator:\n",
        "            true_imgs = next(x_train)[0]\n",
        "            if true_imgs.shape[0] != batch_size:\n",
        "                true_imgs = next(x_train)[0]\n",
        "        else:\n",
        "            idx = np.random.randint(0, x_train.shape[0], batch_size)\n",
        "            true_imgs = x_train[idx]\n",
        "        \n",
        "        \n",
        "        noise = np.random.normal(0, 1, (batch_size, self.z_dim))\n",
        "        gen_imgs = self.generator.predict(noise)\n",
        "\n",
        "        d_loss_real =   self.critic.train_on_batch(true_imgs, valid)\n",
        "        d_loss_fake =   self.critic.train_on_batch(gen_imgs, fake)\n",
        "        d_loss = 0.5 * (d_loss_real + d_loss_fake)\n",
        "\n",
        "        for l in self.critic.layers:\n",
        "            weights = l.get_weights()\n",
        "            weights = [np.clip(w, -clip_threshold, clip_threshold) for w in weights]\n",
        "            l.set_weights(weights)\n",
        "\n",
        "        return [d_loss, d_loss_real, d_loss_fake]\n",
        "\n",
        "    def train_generator(self, batch_size):\n",
        "        valid = np.ones((batch_size,1))\n",
        "        noise = np.random.normal(0, 1, (batch_size, self.z_dim))\n",
        "        return self.model.train_on_batch(noise, valid)\n",
        "\n",
        "\n",
        "    def train(self, x_train, batch_size, epochs, run_folder, print_every_n_batches = 10\n",
        "        , n_critic = 5\n",
        "        , clip_threshold = 0.01\n",
        "        , using_generator = False):\n",
        "\n",
        "        for epoch in range(self.epoch, self.epoch + epochs):\n",
        "\n",
        "            for _ in range(n_critic):\n",
        "                d_loss = self.train_critic(x_train, batch_size, clip_threshold, using_generator)\n",
        "\n",
        "            g_loss = self.train_generator(batch_size)\n",
        "               \n",
        "            # Plot the progress\n",
        "            \n",
        "            self.d_losses.append(d_loss)\n",
        "            self.g_losses.append(g_loss)\n",
        "\n",
        "            # If at save interval => save generated image samples\n",
        "            if epoch % print_every_n_batches == 0:\n",
        "                print (\"%d [D loss: (%.3f)(R %.3f, F %.3f)]  [G loss: %.3f] \" % (epoch, d_loss[0], d_loss[1], d_loss[2], g_loss))\n",
        "                self.sample_images(run_folder)\n",
        "                self.model.save_weights(os.path.join(run_folder, 'weights/weights.h5'))\n",
        "                self.save_model(run_folder)\n",
        "            \n",
        "            self.epoch+=1\n",
        "\n",
        "    def sample_images(self, run_folder):\n",
        "        r, c = 5, 5\n",
        "        noise = np.random.normal(0, 1, (r * c, self.z_dim))\n",
        "        gen_imgs = self.generator.predict(noise)\n",
        "\n",
        "        #Rescale images 0 - 1\n",
        "\n",
        "        gen_imgs = 0.5 * (gen_imgs + 1)\n",
        "        gen_imgs = np.clip(gen_imgs, 0, 1)\n",
        "\n",
        "        fig, axs = plt.subplots(r, c, figsize=(15,15))\n",
        "        cnt = 0\n",
        "\n",
        "        for i in range(r):\n",
        "            for j in range(c):\n",
        "                axs[i,j].imshow(np.squeeze(gen_imgs[cnt, :,:,:]), cmap = 'gray_r')\n",
        "                axs[i,j].axis('off')\n",
        "                cnt += 1\n",
        "        fig.savefig(os.path.join(run_folder, \"images/sample_%d.png\" % self.epoch))\n",
        "        plt.close()\n",
        "\n",
        "    def plot_model(self, run_folder):\n",
        "        plot_model(self.model, to_file=os.path.join(run_folder ,'viz/model.png'), show_shapes = True, show_layer_names = True)\n",
        "        plot_model(self.critic, to_file=os.path.join(run_folder ,'viz/critic.png'), show_shapes = True, show_layer_names = True)\n",
        "        plot_model(self.generator, to_file=os.path.join(run_folder ,'viz/generator.png'), show_shapes = True, show_layer_names = True)\n",
        "\n",
        "\n",
        "\n",
        "            \n",
        "    def save(self, folder):\n",
        "\n",
        "            with open(os.path.join(folder, 'params.pkl'), 'wb') as f:\n",
        "                pickle.dump([\n",
        "                    self.input_dim\n",
        "                    , self.critic_conv_filters\n",
        "                    , self.critic_conv_kernel_size\n",
        "                    , self.critic_conv_strides\n",
        "                    , self.critic_batch_norm_momentum\n",
        "                    , self.critic_activation\n",
        "                    , self.critic_dropout_rate\n",
        "                    , self.critic_learning_rate\n",
        "                    , self.generator_initial_dense_layer_size\n",
        "                    , self.generator_upsample\n",
        "                    , self.generator_conv_filters\n",
        "                    , self.generator_conv_kernel_size\n",
        "                    , self.generator_conv_strides\n",
        "                    , self.generator_batch_norm_momentum\n",
        "                    , self.generator_activation\n",
        "                    , self.generator_dropout_rate\n",
        "                    , self.generator_learning_rate\n",
        "                    , self.optimiser\n",
        "                    , self.z_dim\n",
        "                    ], f)\n",
        "\n",
        "            self.plot_model(folder)\n",
        "\n",
        "    def save_model(self, run_folder):\n",
        "        self.model.save(os.path.join(run_folder, 'model.h5'))\n",
        "        self.critic.save(os.path.join(run_folder, 'critic.h5'))\n",
        "        self.generator.save(os.path.join(run_folder, 'generator.h5'))\n",
        "\n",
        "    def load_weights(self, filepath):\n",
        "        self.model.load_weights(filepath)\n",
        "\n",
        "        \n",
        "\n",
        "\n"
      ],
      "execution_count": 34,
      "outputs": []
    },
    {
      "cell_type": "markdown",
      "metadata": {
        "id": "j0XzckFe7bhN"
      },
      "source": [
        "## Creating directories if needed"
      ]
    },
    {
      "cell_type": "code",
      "metadata": {
        "id": "f2UxTk9W9Aa7"
      },
      "source": [
        "# run params\n",
        "SECTION = 'gan'\n",
        "RUN_ID = '0002'\n",
        "DATA_NAME = 'camel'\n",
        "RUN_FOLDER = data_path + '/{}/'.format(SECTION)\n",
        "RUN_FOLDER += '_'.join([RUN_ID, DATA_NAME])\n",
        "\n",
        "if not os.path.exists(RUN_FOLDER):\n",
        "    os.mkdir(RUN_FOLDER)\n",
        "    os.mkdir(os.path.join(RUN_FOLDER, 'viz'))\n",
        "    os.mkdir(os.path.join(RUN_FOLDER, 'images'))\n",
        "    os.mkdir(os.path.join(RUN_FOLDER, 'weights'))"
      ],
      "execution_count": 35,
      "outputs": []
    },
    {
      "cell_type": "markdown",
      "metadata": {
        "id": "UW_WKWkh9Aa7"
      },
      "source": [
        "## Loading the data"
      ]
    },
    {
      "cell_type": "code",
      "metadata": {
        "id": "jusFDXEu9Aa7"
      },
      "source": [
        "x_train = np.load(data_path + \"/full-numpy_bitmap-camel.npy\")\n",
        "x_train = x_train.reshape((x_train.shape[0], 28, 28, 1))"
      ],
      "execution_count": 36,
      "outputs": []
    },
    {
      "cell_type": "code",
      "metadata": {
        "colab": {
          "base_uri": "https://localhost:8080/"
        },
        "id": "0bwfXnSt9Aa8",
        "outputId": "9716e38c-9ee2-4605-f5fb-54bc18e49616"
      },
      "source": [
        "x_train.shape"
      ],
      "execution_count": 37,
      "outputs": [
        {
          "output_type": "execute_result",
          "data": {
            "text/plain": [
              "(121399, 28, 28, 1)"
            ]
          },
          "metadata": {
            "tags": []
          },
          "execution_count": 37
        }
      ]
    },
    {
      "cell_type": "code",
      "metadata": {
        "id": "f5iu8mGN5cD7"
      },
      "source": [
        "batch_size = 64\n",
        "image_width = 32"
      ],
      "execution_count": 38,
      "outputs": []
    },
    {
      "cell_type": "code",
      "metadata": {
        "id": "g76p-1oF5iDY",
        "colab": {
          "base_uri": "https://localhost:8080/"
        },
        "outputId": "353b68de-4a54-4431-bc2a-dc29c880ad9f"
      },
      "source": [
        "train_imgs = []\n",
        "for i in range(x_train.shape[0]):\n",
        "  train_imgs.append(tf.image.resize(x_train[i, :, :], [image_width, image_width]))\n",
        "images = np.array(train_imgs)\n",
        "print(images.shape)"
      ],
      "execution_count": 39,
      "outputs": [
        {
          "output_type": "stream",
          "text": [
            "(121399, 32, 32, 1)\n"
          ],
          "name": "stdout"
        }
      ]
    },
    {
      "cell_type": "markdown",
      "metadata": {
        "id": "fP9pxurK4IuT"
      },
      "source": [
        "Now we plot some random images."
      ]
    },
    {
      "cell_type": "code",
      "metadata": {
        "colab": {
          "base_uri": "https://localhost:8080/",
          "height": 283
        },
        "id": "C5IdlrWu9Aa8",
        "outputId": "10869b18-649f-43b9-eb2d-34d3cb6974c0"
      },
      "source": [
        "index = np.random.randint(low=0,high=x_train.shape[0])\n",
        "plt.imshow(images[index,:,:,0], cmap = 'gray')"
      ],
      "execution_count": 43,
      "outputs": [
        {
          "output_type": "execute_result",
          "data": {
            "text/plain": [
              "<matplotlib.image.AxesImage at 0x7fa4fd168f10>"
            ]
          },
          "metadata": {
            "tags": []
          },
          "execution_count": 43
        },
        {
          "output_type": "display_data",
          "data": {
            "image/png": "[encoded data removed]",
            "text/plain": [
              "<Figure size 432x288 with 1 Axes>"
            ]
          },
          "metadata": {
            "tags": [],
            "needs_background": "light"
          }
        }
      ]
    },
    {
      "cell_type": "code",
      "metadata": {
        "id": "tSyVpZtr6Dsk"
      },
      "source": [
        "data_gen = ImageDataGenerator(preprocessing_function=lambda x: (x.astype('float32') - 127.5) / 127.5)\n",
        "x_train = data_gen.flow(\n",
        "    x=images,\n",
        "    y=np.ones(images.shape[0]),\n",
        "    batch_size = batch_size, \n",
        "    shuffle = True\n",
        ")"
      ],
      "execution_count": 44,
      "outputs": []
    },
    {
      "cell_type": "markdown",
      "metadata": {
        "id": "B8ehXO2E9Aa8"
      },
      "source": [
        "## Building the Model"
      ]
    },
    {
      "cell_type": "code",
      "metadata": {
        "id": "qZI78SKy9Aa8"
      },
      "source": [
        "gan = WGAN(input_dim = (image_width,image_width,1)\n",
        "            , critic_conv_filters = [image_width,image_width * 2,image_width * 4,image_width * 4]\n",
        "            , critic_conv_kernel_size = [5,5,5,5]\n",
        "            , critic_conv_strides = [2,2,2,1]\n",
        "            , critic_batch_norm_momentum = None\n",
        "            , critic_activation = 'leaky_relu'\n",
        "            , critic_dropout_rate = None\n",
        "            , critic_learning_rate = 0.00005\n",
        "            , generator_initial_dense_layer_size = (4, 4, image_width * 4)\n",
        "            , generator_upsample = [2,2, 2,1]\n",
        "            , generator_conv_filters = [image_width * 4,image_width * 2,image_width,1]\n",
        "            , generator_conv_kernel_size = [5,5,5,5]\n",
        "            , generator_conv_strides = [1,1, 1,1]\n",
        "            , generator_batch_norm_momentum = 0.8\n",
        "            , generator_activation = 'leaky_relu'\n",
        "            , generator_dropout_rate = None\n",
        "            , generator_learning_rate = 0.00005\n",
        "            , optimiser = 'rmsprop'\n",
        "            , z_dim = 100\n",
        "            )"
      ],
      "execution_count": 45,
      "outputs": []
    },
    {
      "cell_type": "code",
      "metadata": {
        "colab": {
          "base_uri": "https://localhost:8080/"
        },
        "id": "2JsGOpPf9Aa8",
        "outputId": "cf850960-4769-4876-a181-787fe740ae43"
      },
      "source": [
        "gan.critic.summary()"
      ],
      "execution_count": 46,
      "outputs": [
        {
          "output_type": "stream",
          "text": [
            "Model: \"model_3\"\n",
            "_________________________________________________________________\n",
            "Layer (type)                 Output Shape              Param #   \n",
            "=================================================================\n",
            "critic_input (InputLayer)    [(None, 32, 32, 1)]       0         \n",
            "_________________________________________________________________\n",
            "critic_conv_0 (Conv2D)       (None, 16, 16, 32)        832       \n",
            "_________________________________________________________________\n",
            "leaky_re_lu_8 (LeakyReLU)    (None, 16, 16, 32)        0         \n",
            "_________________________________________________________________\n",
            "critic_conv_1 (Conv2D)       (None, 8, 8, 64)          51264     \n",
            "_________________________________________________________________\n",
            "leaky_re_lu_9 (LeakyReLU)    (None, 8, 8, 64)          0         \n",
            "_________________________________________________________________\n",
            "critic_conv_2 (Conv2D)       (None, 4, 4, 128)         204928    \n",
            "_________________________________________________________________\n",
            "leaky_re_lu_10 (LeakyReLU)   (None, 4, 4, 128)         0         \n",
            "_________________________________________________________________\n",
            "critic_conv_3 (Conv2D)       (None, 4, 4, 128)         409728    \n",
            "_________________________________________________________________\n",
            "leaky_re_lu_11 (LeakyReLU)   (None, 4, 4, 128)         0         \n",
            "_________________________________________________________________\n",
            "flatten_1 (Flatten)          (None, 2048)              0         \n",
            "_________________________________________________________________\n",
            "dense_2 (Dense)              (None, 1)                 2049      \n",
            "=================================================================\n",
            "Total params: 668,801\n",
            "Trainable params: 668,801\n",
            "Non-trainable params: 0\n",
            "_________________________________________________________________\n"
          ],
          "name": "stdout"
        }
      ]
    },
    {
      "cell_type": "code",
      "metadata": {
        "colab": {
          "base_uri": "https://localhost:8080/"
        },
        "id": "UDRXqSQG9Aa8",
        "outputId": "4ef1e252-626e-4fcb-f98d-9a432c0d03f9"
      },
      "source": [
        "gan.generator.summary()"
      ],
      "execution_count": 47,
      "outputs": [
        {
          "output_type": "stream",
          "text": [
            "Model: \"model_4\"\n",
            "_________________________________________________________________\n",
            "Layer (type)                 Output Shape              Param #   \n",
            "=================================================================\n",
            "generator_input (InputLayer) [(None, 100)]             0         \n",
            "_________________________________________________________________\n",
            "dense_3 (Dense)              (None, 2048)              206848    \n",
            "_________________________________________________________________\n",
            "batch_normalization_4 (Batch (None, 2048)              8192      \n",
            "_________________________________________________________________\n",
            "leaky_re_lu_12 (LeakyReLU)   (None, 2048)              0         \n",
            "_________________________________________________________________\n",
            "reshape_1 (Reshape)          (None, 4, 4, 128)         0         \n",
            "_________________________________________________________________\n",
            "up_sampling2d_3 (UpSampling2 (None, 8, 8, 128)         0         \n",
            "_________________________________________________________________\n",
            "generator_conv_0 (Conv2D)    (None, 8, 8, 128)         409728    \n",
            "_________________________________________________________________\n",
            "batch_normalization_5 (Batch (None, 8, 8, 128)         512       \n",
            "_________________________________________________________________\n",
            "leaky_re_lu_13 (LeakyReLU)   (None, 8, 8, 128)         0         \n",
            "_________________________________________________________________\n",
            "up_sampling2d_4 (UpSampling2 (None, 16, 16, 128)       0         \n",
            "_________________________________________________________________\n",
            "generator_conv_1 (Conv2D)    (None, 16, 16, 64)        204864    \n",
            "_________________________________________________________________\n",
            "batch_normalization_6 (Batch (None, 16, 16, 64)        256       \n",
            "_________________________________________________________________\n",
            "leaky_re_lu_14 (LeakyReLU)   (None, 16, 16, 64)        0         \n",
            "_________________________________________________________________\n",
            "up_sampling2d_5 (UpSampling2 (None, 32, 32, 64)        0         \n",
            "_________________________________________________________________\n",
            "generator_conv_2 (Conv2D)    (None, 32, 32, 32)        51232     \n",
            "_________________________________________________________________\n",
            "batch_normalization_7 (Batch (None, 32, 32, 32)        128       \n",
            "_________________________________________________________________\n",
            "leaky_re_lu_15 (LeakyReLU)   (None, 32, 32, 32)        0         \n",
            "_________________________________________________________________\n",
            "generator_conv_3 (Conv2DTran (None, 32, 32, 1)         801       \n",
            "_________________________________________________________________\n",
            "activation_1 (Activation)    (None, 32, 32, 1)         0         \n",
            "=================================================================\n",
            "Total params: 882,561\n",
            "Trainable params: 878,017\n",
            "Non-trainable params: 4,544\n",
            "_________________________________________________________________\n"
          ],
          "name": "stdout"
        }
      ]
    },
    {
      "cell_type": "markdown",
      "metadata": {
        "id": "QP4IlAfT4uN9"
      },
      "source": [
        "## Loading Weights if needed"
      ]
    },
    {
      "cell_type": "code",
      "metadata": {
        "id": "hVxabk9b4u0Z"
      },
      "source": [
        "weight_path = os.path.join(RUN_FOLDER, 'weights/weights.h5')\n",
        "if os.path.exists(weight_path):\n",
        "  gan.load_weights(weight_path)"
      ],
      "execution_count": 48,
      "outputs": []
    },
    {
      "cell_type": "markdown",
      "metadata": {
        "id": "yOFmJz8O9Aa9"
      },
      "source": [
        "## Training the GAN"
      ]
    },
    {
      "cell_type": "code",
      "metadata": {
        "id": "2UjCmsop9Aa9"
      },
      "source": [
        "epochs = 1001\n",
        "print_every_n_batches = 10"
      ],
      "execution_count": 49,
      "outputs": []
    },
    {
      "cell_type": "code",
      "metadata": {
        "scrolled": false,
        "colab": {
          "base_uri": "https://localhost:8080/"
        },
        "id": "vydVg6Gb9Aa9",
        "outputId": "fc816730-591d-4354-82f3-8bcca5617dda"
      },
      "source": [
        "gan.train(     \n",
        "    x_train\n",
        "    , batch_size = batch_size\n",
        "    , epochs = epochs\n",
        "    , run_folder = RUN_FOLDER\n",
        "    , print_every_n_batches = print_every_n_batches\n",
        "    , using_generator = True\n",
        ")"
      ],
      "execution_count": 50,
      "outputs": [
        {
          "output_type": "stream",
          "text": [
            "0 [D loss: (-0.061)(R -1.333, F 1.212)]  [G loss: -0.654] \n",
            "10 [D loss: (-0.109)(R -1.215, F 0.997)]  [G loss: -0.599] \n",
            "20 [D loss: (-0.122)(R -0.992, F 0.748)]  [G loss: -0.355] \n",
            "30 [D loss: (-0.103)(R -0.950, F 0.743)]  [G loss: -0.339] \n",
            "40 [D loss: (-0.122)(R -0.948, F 0.705)]  [G loss: -0.327] \n",
            "50 [D loss: (-0.142)(R -0.954, F 0.671)]  [G loss: -0.363] \n",
            "60 [D loss: (-0.145)(R -0.955, F 0.666)]  [G loss: -0.259] \n",
            "70 [D loss: (-0.127)(R -0.971, F 0.716)]  [G loss: -0.342] \n",
            "80 [D loss: (-0.084)(R -0.922, F 0.754)]  [G loss: -0.375] \n",
            "90 [D loss: (-0.095)(R -0.878, F 0.688)]  [G loss: -0.308] \n",
            "100 [D loss: (-0.099)(R -0.898, F 0.699)]  [G loss: -0.312] \n",
            "110 [D loss: (-0.089)(R -0.827, F 0.649)]  [G loss: -0.272] \n",
            "120 [D loss: (-0.103)(R -0.921, F 0.715)]  [G loss: -0.308] \n",
            "130 [D loss: (-0.093)(R -0.788, F 0.601)]  [G loss: -0.213] \n",
            "140 [D loss: (-0.092)(R -0.885, F 0.701)]  [G loss: -0.301] \n",
            "150 [D loss: (-0.085)(R -0.833, F 0.663)]  [G loss: -0.278] \n",
            "160 [D loss: (-0.133)(R -0.892, F 0.626)]  [G loss: -0.306] \n",
            "170 [D loss: (-0.099)(R -0.848, F 0.650)]  [G loss: -0.273] \n",
            "180 [D loss: (-0.095)(R -0.787, F 0.596)]  [G loss: -0.241] \n",
            "190 [D loss: (-0.076)(R -0.651, F 0.499)]  [G loss: -0.159] \n",
            "200 [D loss: (-0.087)(R -0.821, F 0.648)]  [G loss: -0.282] \n",
            "210 [D loss: (-0.065)(R -0.709, F 0.578)]  [G loss: -0.200] \n",
            "220 [D loss: (-0.101)(R -0.708, F 0.506)]  [G loss: -0.195] \n",
            "230 [D loss: (-0.072)(R -0.769, F 0.625)]  [G loss: -0.255] \n",
            "240 [D loss: (-0.102)(R -0.704, F 0.500)]  [G loss: -0.180] \n",
            "250 [D loss: (-0.089)(R -0.669, F 0.491)]  [G loss: -0.103] \n",
            "260 [D loss: (-0.072)(R -0.650, F 0.505)]  [G loss: -0.171] \n",
            "270 [D loss: (-0.039)(R -0.572, F 0.495)]  [G loss: -0.148] \n",
            "280 [D loss: (-0.058)(R -0.577, F 0.461)]  [G loss: -0.111] \n",
            "290 [D loss: (-0.054)(R -0.629, F 0.521)]  [G loss: -0.122] \n",
            "300 [D loss: (-0.034)(R -0.558, F 0.490)]  [G loss: -0.124] \n",
            "310 [D loss: (-0.045)(R -0.583, F 0.494)]  [G loss: -0.138] \n",
            "320 [D loss: (-0.077)(R -0.586, F 0.432)]  [G loss: -0.092] \n",
            "330 [D loss: (-0.062)(R -0.680, F 0.556)]  [G loss: -0.194] \n",
            "340 [D loss: (-0.073)(R -0.597, F 0.451)]  [G loss: -0.124] \n",
            "350 [D loss: (-0.046)(R -0.573, F 0.482)]  [G loss: -0.111] \n",
            "360 [D loss: (-0.034)(R -0.483, F 0.415)]  [G loss: -0.079] \n",
            "370 [D loss: (-0.060)(R -0.558, F 0.439)]  [G loss: -0.113] \n",
            "380 [D loss: (-0.063)(R -0.584, F 0.457)]  [G loss: -0.128] \n",
            "390 [D loss: (-0.044)(R -0.525, F 0.436)]  [G loss: -0.121] \n",
            "400 [D loss: (-0.064)(R -0.520, F 0.393)]  [G loss: -0.125] \n",
            "410 [D loss: (-0.065)(R -0.513, F 0.383)]  [G loss: -0.086] \n",
            "420 [D loss: (-0.055)(R -0.477, F 0.368)]  [G loss: -0.085] \n",
            "430 [D loss: (-0.053)(R -0.448, F 0.343)]  [G loss: -0.074] \n",
            "440 [D loss: (-0.086)(R -0.630, F 0.458)]  [G loss: -0.154] \n",
            "450 [D loss: (-0.062)(R -0.556, F 0.431)]  [G loss: -0.113] \n",
            "460 [D loss: (-0.058)(R -0.494, F 0.378)]  [G loss: -0.077] \n",
            "470 [D loss: (-0.053)(R -0.557, F 0.451)]  [G loss: -0.122] \n",
            "480 [D loss: (-0.059)(R -0.453, F 0.335)]  [G loss: -0.062] \n",
            "490 [D loss: (-0.037)(R -0.473, F 0.400)]  [G loss: -0.081] \n",
            "500 [D loss: (-0.066)(R -0.475, F 0.342)]  [G loss: -0.093] \n",
            "510 [D loss: (-0.092)(R -0.556, F 0.371)]  [G loss: -0.090] \n",
            "520 [D loss: (-0.055)(R -0.541, F 0.431)]  [G loss: -0.102] \n",
            "530 [D loss: (-0.068)(R -0.508, F 0.372)]  [G loss: -0.112] \n",
            "540 [D loss: (-0.053)(R -0.400, F 0.294)]  [G loss: -0.023] \n",
            "550 [D loss: (-0.075)(R -0.464, F 0.313)]  [G loss: -0.095] \n",
            "560 [D loss: (-0.053)(R -0.413, F 0.307)]  [G loss: -0.051] \n",
            "570 [D loss: (-0.007)(R -0.392, F 0.378)]  [G loss: -0.062] \n",
            "580 [D loss: (-0.034)(R -0.417, F 0.349)]  [G loss: -0.047] \n",
            "590 [D loss: (-0.036)(R -0.415, F 0.342)]  [G loss: -0.055] \n",
            "600 [D loss: (-0.069)(R -0.468, F 0.329)]  [G loss: -0.097] \n",
            "610 [D loss: (-0.031)(R -0.436, F 0.375)]  [G loss: -0.086] \n",
            "620 [D loss: (-0.060)(R -0.381, F 0.260)]  [G loss: -0.033] \n",
            "630 [D loss: (-0.042)(R -0.451, F 0.368)]  [G loss: -0.069] \n",
            "640 [D loss: (-0.037)(R -0.366, F 0.293)]  [G loss: -0.048] \n",
            "650 [D loss: (-0.036)(R -0.406, F 0.334)]  [G loss: -0.057] \n",
            "660 [D loss: (-0.070)(R -0.477, F 0.337)]  [G loss: -0.078] \n",
            "670 [D loss: (-0.043)(R -0.344, F 0.258)]  [G loss: -0.026] \n",
            "680 [D loss: (-0.053)(R -0.408, F 0.302)]  [G loss: -0.076] \n",
            "690 [D loss: (-0.049)(R -0.382, F 0.284)]  [G loss: -0.057] \n",
            "700 [D loss: (-0.031)(R -0.372, F 0.310)]  [G loss: -0.063] \n",
            "710 [D loss: (-0.051)(R -0.383, F 0.282)]  [G loss: -0.037] \n",
            "720 [D loss: (-0.033)(R -0.362, F 0.297)]  [G loss: -0.050] \n",
            "730 [D loss: (-0.044)(R -0.336, F 0.248)]  [G loss: -0.004] \n",
            "740 [D loss: (-0.049)(R -0.345, F 0.248)]  [G loss: -0.041] \n",
            "750 [D loss: (-0.074)(R -0.459, F 0.311)]  [G loss: -0.091] \n",
            "760 [D loss: (-0.051)(R -0.372, F 0.270)]  [G loss: -0.036] \n",
            "770 [D loss: (-0.030)(R -0.338, F 0.277)]  [G loss: -0.045] \n",
            "780 [D loss: (-0.039)(R -0.284, F 0.206)]  [G loss: -0.014] \n",
            "790 [D loss: (-0.036)(R -0.291, F 0.219)]  [G loss: -0.009] \n",
            "800 [D loss: (-0.048)(R -0.349, F 0.253)]  [G loss: -0.039] \n",
            "810 [D loss: (-0.041)(R -0.322, F 0.240)]  [G loss: -0.040] \n",
            "820 [D loss: (-0.044)(R -0.336, F 0.247)]  [G loss: -0.017] \n",
            "830 [D loss: (-0.047)(R -0.289, F 0.194)]  [G loss: -0.033] \n",
            "840 [D loss: (-0.062)(R -0.347, F 0.224)]  [G loss: -0.043] \n",
            "850 [D loss: (-0.039)(R -0.364, F 0.286)]  [G loss: -0.060] \n",
            "860 [D loss: (-0.043)(R -0.378, F 0.292)]  [G loss: -0.075] \n",
            "870 [D loss: (-0.028)(R -0.283, F 0.228)]  [G loss: -0.053] \n",
            "880 [D loss: (-0.069)(R -0.406, F 0.268)]  [G loss: -0.089] \n",
            "890 [D loss: (-0.039)(R -0.377, F 0.300)]  [G loss: -0.051] \n",
            "900 [D loss: (-0.039)(R -0.356, F 0.278)]  [G loss: -0.043] \n",
            "910 [D loss: (-0.065)(R -0.355, F 0.225)]  [G loss: -0.025] \n",
            "920 [D loss: (-0.048)(R -0.313, F 0.218)]  [G loss: -0.033] \n",
            "930 [D loss: (-0.041)(R -0.327, F 0.246)]  [G loss: -0.046] \n",
            "940 [D loss: (-0.040)(R -0.295, F 0.215)]  [G loss: -0.015] \n",
            "950 [D loss: (-0.031)(R -0.326, F 0.264)]  [G loss: -0.038] \n",
            "960 [D loss: (-0.036)(R -0.341, F 0.269)]  [G loss: -0.050] \n",
            "970 [D loss: (-0.057)(R -0.377, F 0.262)]  [G loss: -0.041] \n",
            "980 [D loss: (-0.029)(R -0.296, F 0.238)]  [G loss: -0.047] \n",
            "990 [D loss: (-0.035)(R -0.315, F 0.245)]  [G loss: -0.061] \n",
            "1000 [D loss: (-0.035)(R -0.334, F 0.264)]  [G loss: -0.039] \n"
          ],
          "name": "stdout"
        }
      ]
    },
    {
      "cell_type": "code",
      "metadata": {
        "id": "0uWeQAt0-ZoT",
        "colab": {
          "base_uri": "https://localhost:8080/"
        },
        "outputId": "f904eb23-353e-46eb-b6ee-c2c1e14bf143"
      },
      "source": [
        "gan.g_losses[0]"
      ],
      "execution_count": 51,
      "outputs": [
        {
          "output_type": "execute_result",
          "data": {
            "text/plain": [
              "-0.6535800099372864"
            ]
          },
          "metadata": {
            "tags": []
          },
          "execution_count": 51
        }
      ]
    },
    {
      "cell_type": "code",
      "metadata": {
        "colab": {
          "base_uri": "https://localhost:8080/",
          "height": 289
        },
        "id": "98cbEL7r9Aa9",
        "outputId": "9b8f5716-34e0-4543-ac44-c1d3a58393d6"
      },
      "source": [
        "fig = plt.figure()\n",
        "plt.plot([x[0] for x in gan.d_losses], color='black', linewidth=0.25)\n",
        "\n",
        "plt.plot([x[1] for x in gan.d_losses], color='green', linewidth=0.25)\n",
        "plt.plot([x[2] for x in gan.d_losses], color='red', linewidth=0.25)\n",
        "plt.plot([x for x in gan.g_losses], color='orange', linewidth=0.25)\n",
        "\n",
        "plt.xlabel('batch', fontsize=18)\n",
        "plt.ylabel('loss', fontsize=16)\n",
        "\n",
        "plt.show()\n"
      ],
      "execution_count": 52,
      "outputs": [
        {
          "output_type": "display_data",
          "data": {
            "image/png": "[encoded data removed]",
            "text/plain": [
              "<Figure size 432x288 with 1 Axes>"
            ]
          },
          "metadata": {
            "tags": [],
            "needs_background": "light"
          }
        }
      ]
    },
    {
      "cell_type": "code",
      "metadata": {
        "colab": {
          "base_uri": "https://localhost:8080/",
          "height": 281
        },
        "id": "4lkePybT9Aa9",
        "outputId": "526fe9bf-df00-4b80-f131-4a98b2b86ab8"
      },
      "source": [
        "fig = plt.figure()\n",
        "plt.plot([x[0] for x in gan.d_losses], color='black')\n",
        "\n",
        "plt.plot([x[1] for x in gan.d_losses], color='green')\n",
        "plt.plot([x[2] for x in gan.d_losses], color='red')\n",
        "plt.plot(gan.g_losses, color='orange')\n",
        "plt.xlabel('batch')\n",
        "plt.ylabel('accuracy')\n",
        "plt.show()"
      ],
      "execution_count": 53,
      "outputs": [
        {
          "output_type": "display_data",
          "data": {
            "image/png": "[encoded data removed]",
            "text/plain": [
              "<Figure size 432x288 with 1 Axes>"
            ]
          },
          "metadata": {
            "tags": [],
            "needs_background": "light"
          }
        }
      ]
    },
    {
      "cell_type": "markdown",
      "metadata": {
        "id": "HMKebtnfM7-r"
      },
      "source": [
        "## Displaying generated images\n",
        "Now we display the latest images this GAN generated. "
      ]
    },
    {
      "cell_type": "code",
      "metadata": {
        "id": "vyi1cHyh9Aa9",
        "colab": {
          "base_uri": "https://localhost:8080/"
        },
        "outputId": "7be41678-7640-4a1e-da0c-b30c4c23b483"
      },
      "source": [
        "import PIL\n",
        "image_path = os.path.join(RUN_FOLDER, 'images/sample_1000.png')\n",
        "image = PIL.Image.open(image_path).convert('L')\n",
        "image_tensor = np.array(image)\n",
        "print(image_tensor.shape)"
      ],
      "execution_count": 54,
      "outputs": [
        {
          "output_type": "stream",
          "text": [
            "(1080, 1080)\n"
          ],
          "name": "stdout"
        }
      ]
    },
    {
      "cell_type": "code",
      "metadata": {
        "colab": {
          "base_uri": "https://localhost:8080/",
          "height": 269
        },
        "id": "Sduc2ZctOBAW",
        "outputId": "da4ddbe7-20af-488c-fddb-6d81fee04481"
      },
      "source": [
        "plt.imshow(image_tensor)\n",
        "plt.show()"
      ],
      "execution_count": 55,
      "outputs": [
        {
          "output_type": "display_data",
          "data": {
            "image/png": "[encoded data removed]",
            "text/plain": [
              "<Figure size 432x288 with 1 Axes>"
            ]
          },
          "metadata": {
            "tags": [],
            "needs_background": "light"
          }
        }
      ]
    }
  ]
}