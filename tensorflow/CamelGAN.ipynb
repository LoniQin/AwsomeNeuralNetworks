{
  "nbformat": 4,
  "nbformat_minor": 0,
  "metadata": {
    "kernelspec": {
      "display_name": "gdl_code",
      "language": "python",
      "name": "gdl_code"
    },
    "language_info": {
      "codemirror_mode": {
        "name": "ipython",
        "version": 3
      },
      "file_extension": ".py",
      "mimetype": "text/x-python",
      "name": "python",
      "nbconvert_exporter": "python",
      "pygments_lexer": "ipython3",
      "version": "3.6.5"
    },
    "colab": {
      "name": "CamelGAN.ipynb",
      "provenance": [],
      "collapsed_sections": [],
      "toc_visible": true,
      "include_colab_link": true
    }
  },
  "cells": [
    {
      "cell_type": "markdown",
      "metadata": {
        "id": "view-in-github",
        "colab_type": "text"
      },
      "source": [
        "<a href=\"https://colab.research.google.com/github/LoniQin/deep_learning_notebooks/blob/master/tensorflow/CamelGAN.ipynb\" target=\"_parent\"><img src=\"https://colab.research.google.com/assets/colab-badge.svg\" alt=\"Open In Colab\"/></a>"
      ]
    },
    {
      "cell_type": "markdown",
      "metadata": {
        "id": "a_6uA04k9Aa5"
      },
      "source": [
        "# GAN Training"
      ]
    },
    {
      "cell_type": "markdown",
      "metadata": {
        "id": "zQWh9wXy9Aa6"
      },
      "source": [
        "## Importing Libraries"
      ]
    },
    {
      "cell_type": "code",
      "metadata": {
        "id": "NKAwH0rH9Aa7"
      },
      "source": [
        "import os\n",
        "import numpy as np\n",
        "import json\n",
        "import pickle as pkl\n",
        "import matplotlib.pyplot as plt\n",
        "from tensorflow.keras.layers import Input, Conv2D, Flatten, Dense, Conv2DTranspose, Reshape, Lambda, Activation, BatchNormalization, LeakyReLU, Dropout, ZeroPadding2D, UpSampling2D\n",
        "from tensorflow.keras.models import Model, Sequential\n",
        "from tensorflow.keras import backend as K\n",
        "from tensorflow.keras.optimizers import Adam, RMSprop\n",
        "from tensorflow.keras.utils import plot_model\n",
        "from tensorflow.keras.initializers import RandomNormal"
      ],
      "execution_count": 173,
      "outputs": []
    },
    {
      "cell_type": "markdown",
      "metadata": {
        "id": "uau7QQLY3cUt"
      },
      "source": [
        "## Mounting Google Drive\n",
        "For convenience we mount a Google Drive so that we can read and write a Goolge Drive."
      ]
    },
    {
      "cell_type": "code",
      "metadata": {
        "id": "vh8jI2eHLQEm"
      },
      "source": [
        "drive_path = \"/content/drive\"\n",
        "data_path = drive_path + \"/MyDrive/data\""
      ],
      "execution_count": 174,
      "outputs": []
    },
    {
      "cell_type": "code",
      "metadata": {
        "colab": {
          "base_uri": "https://localhost:8080/"
        },
        "id": "agpzYqu0JN8k",
        "outputId": "b0185c42-259b-4332-d06f-b8d743fef5ce"
      },
      "source": [
        "from google.colab import drive\n",
        "drive.mount(drive_path)"
      ],
      "execution_count": 175,
      "outputs": [
        {
          "output_type": "stream",
          "text": [
            "Drive already mounted at /content/drive; to attempt to forcibly remount, call drive.mount(\"/content/drive\", force_remount=True).\n"
          ],
          "name": "stdout"
        }
      ]
    },
    {
      "cell_type": "markdown",
      "metadata": {
        "id": "wEh1vnWP9Nlm"
      },
      "source": [
        "## Defining a GAN"
      ]
    },
    {
      "cell_type": "code",
      "metadata": {
        "id": "p7pVl1c89LmU"
      },
      "source": [
        "class GAN():\n",
        "    def __init__(self\n",
        "        , input_dim\n",
        "        , discriminator_conv_filters\n",
        "        , discriminator_conv_kernel_size\n",
        "        , discriminator_conv_strides\n",
        "        , discriminator_batch_norm_momentum\n",
        "        , discriminator_activation\n",
        "        , discriminator_dropout_rate\n",
        "        , discriminator_learning_rate\n",
        "        , generator_initial_dense_layer_size\n",
        "        , generator_upsample\n",
        "        , generator_conv_filters\n",
        "        , generator_conv_kernel_size\n",
        "        , generator_conv_strides\n",
        "        , generator_batch_norm_momentum\n",
        "        , generator_activation\n",
        "        , generator_dropout_rate\n",
        "        , generator_learning_rate\n",
        "        , optimiser\n",
        "        , z_dim\n",
        "        ):\n",
        "\n",
        "        self.name = 'gan'\n",
        "\n",
        "        self.input_dim = input_dim\n",
        "        self.discriminator_conv_filters = discriminator_conv_filters\n",
        "        self.discriminator_conv_kernel_size = discriminator_conv_kernel_size\n",
        "        self.discriminator_conv_strides = discriminator_conv_strides\n",
        "        self.discriminator_batch_norm_momentum = discriminator_batch_norm_momentum\n",
        "        self.discriminator_activation = discriminator_activation\n",
        "        self.discriminator_dropout_rate = discriminator_dropout_rate\n",
        "        self.discriminator_learning_rate = discriminator_learning_rate\n",
        "\n",
        "        self.generator_initial_dense_layer_size = generator_initial_dense_layer_size\n",
        "        self.generator_upsample = generator_upsample\n",
        "        self.generator_conv_filters = generator_conv_filters\n",
        "        self.generator_conv_kernel_size = generator_conv_kernel_size\n",
        "        self.generator_conv_strides = generator_conv_strides\n",
        "        self.generator_batch_norm_momentum = generator_batch_norm_momentum\n",
        "        self.generator_activation = generator_activation\n",
        "        self.generator_dropout_rate = generator_dropout_rate\n",
        "        self.generator_learning_rate = generator_learning_rate\n",
        "        \n",
        "        self.optimiser = optimiser\n",
        "        self.z_dim = z_dim\n",
        "\n",
        "        self.n_layers_discriminator = len(discriminator_conv_filters)\n",
        "        self.n_layers_generator = len(generator_conv_filters)\n",
        "\n",
        "        self.weight_init = RandomNormal(mean=0., stddev=0.02)\n",
        "\n",
        "        self.d_losses = []\n",
        "        self.g_losses = []\n",
        "\n",
        "        self.epoch = 0\n",
        "\n",
        "        self._build_discriminator()\n",
        "        self._build_generator()\n",
        "\n",
        "        self._build_adversarial()\n",
        "\n",
        "    def get_activation(self, activation):\n",
        "        if activation == 'leaky_relu':\n",
        "            layer = LeakyReLU(alpha = 0.2)\n",
        "        else:\n",
        "            layer = Activation(activation)\n",
        "        return layer\n",
        "\n",
        "    def _build_discriminator(self):\n",
        "\n",
        "        ### THE discriminator\n",
        "        discriminator_input = Input(shape=self.input_dim, name='discriminator_input')\n",
        "\n",
        "        x = discriminator_input\n",
        "\n",
        "        for i in range(self.n_layers_discriminator):\n",
        "\n",
        "            x = Conv2D(\n",
        "                filters = self.discriminator_conv_filters[i]\n",
        "                , kernel_size = self.discriminator_conv_kernel_size[i]\n",
        "                , strides = self.discriminator_conv_strides[i]\n",
        "                , padding = 'same'\n",
        "                , name = 'discriminator_conv_' + str(i)\n",
        "                , kernel_initializer = self.weight_init\n",
        "                )(x)\n",
        "\n",
        "            if self.discriminator_batch_norm_momentum and i > 0:\n",
        "                x = BatchNormalization(momentum = self.discriminator_batch_norm_momentum)(x)\n",
        "\n",
        "            x = self.get_activation(self.discriminator_activation)(x)\n",
        "\n",
        "            if self.discriminator_dropout_rate:\n",
        "                x = Dropout(rate = self.discriminator_dropout_rate)(x)\n",
        "\n",
        "        x = Flatten()(x)\n",
        "        \n",
        "        discriminator_output = Dense(1, activation='sigmoid', kernel_initializer = self.weight_init)(x)\n",
        "\n",
        "        self.discriminator = Model(discriminator_input, discriminator_output)\n",
        "\n",
        "\n",
        "    def _build_generator(self):\n",
        "\n",
        "        ### THE generator\n",
        "\n",
        "        generator_input = Input(shape=(self.z_dim,), name='generator_input')\n",
        "\n",
        "        x = generator_input\n",
        "\n",
        "        x = Dense(np.prod(self.generator_initial_dense_layer_size), kernel_initializer = self.weight_init)(x)\n",
        "\n",
        "        if self.generator_batch_norm_momentum:\n",
        "            x = BatchNormalization(momentum = self.generator_batch_norm_momentum)(x)\n",
        "\n",
        "        x = self.get_activation(self.generator_activation)(x)\n",
        "\n",
        "        x = Reshape(self.generator_initial_dense_layer_size)(x)\n",
        "\n",
        "        if self.generator_dropout_rate:\n",
        "            x = Dropout(rate = self.generator_dropout_rate)(x)\n",
        "\n",
        "        for i in range(self.n_layers_generator):\n",
        "\n",
        "            if self.generator_upsample[i] == 2:\n",
        "                x = UpSampling2D()(x)\n",
        "                x = Conv2D(\n",
        "                    filters = self.generator_conv_filters[i]\n",
        "                    , kernel_size = self.generator_conv_kernel_size[i]\n",
        "                    , padding = 'same'\n",
        "                    , name = 'generator_conv_' + str(i)\n",
        "                    , kernel_initializer = self.weight_init\n",
        "                )(x)\n",
        "            else:\n",
        "\n",
        "                x = Conv2DTranspose(\n",
        "                    filters = self.generator_conv_filters[i]\n",
        "                    , kernel_size = self.generator_conv_kernel_size[i]\n",
        "                    , padding = 'same'\n",
        "                    , strides = self.generator_conv_strides[i]\n",
        "                    , name = 'generator_conv_' + str(i)\n",
        "                    , kernel_initializer = self.weight_init\n",
        "                    )(x)\n",
        "\n",
        "            if i < self.n_layers_generator - 1:\n",
        "\n",
        "                if self.generator_batch_norm_momentum:\n",
        "                    x = BatchNormalization(momentum = self.generator_batch_norm_momentum)(x)\n",
        "\n",
        "                x = self.get_activation(self.generator_activation)(x)\n",
        "                    \n",
        "                \n",
        "            else:\n",
        "\n",
        "                x = Activation('tanh')(x)\n",
        "\n",
        "\n",
        "        generator_output = x\n",
        "\n",
        "        self.generator = Model(generator_input, generator_output)\n",
        "\n",
        "       \n",
        "    def get_opti(self, lr):\n",
        "        if self.optimiser == 'adam':\n",
        "            opti = Adam(lr=lr, beta_1=0.5)\n",
        "        elif self.optimiser == 'rmsprop':\n",
        "            opti = RMSprop(lr=lr)\n",
        "        else:\n",
        "            opti = Adam(lr=lr)\n",
        "\n",
        "        return opti\n",
        "\n",
        "    def set_trainable(self, m, val):\n",
        "        m.trainable = val\n",
        "        for l in m.layers:\n",
        "            l.trainable = val\n",
        "\n",
        "\n",
        "    def _build_adversarial(self):\n",
        "        \n",
        "        ### COMPILE DISCRIMINATOR\n",
        "\n",
        "        self.discriminator.compile(\n",
        "        optimizer=self.get_opti(self.discriminator_learning_rate)  \n",
        "        , loss = 'binary_crossentropy'\n",
        "        ,  metrics = ['accuracy']\n",
        "        )\n",
        "        \n",
        "        ### COMPILE THE FULL GAN\n",
        "\n",
        "        self.set_trainable(self.discriminator, False)\n",
        "\n",
        "        model_input = Input(shape=(self.z_dim,), name='model_input')\n",
        "        model_output = self.discriminator(self.generator(model_input))\n",
        "        self.model = Model(model_input, model_output)\n",
        "\n",
        "        self.model.compile(optimizer=self.get_opti(self.generator_learning_rate) , loss='binary_crossentropy', metrics=['accuracy'])\n",
        "\n",
        "        self.set_trainable(self.discriminator, True)\n",
        "\n",
        "\n",
        "\n",
        "    \n",
        "    def train_discriminator(self, x_train, batch_size, using_generator):\n",
        "\n",
        "        valid = np.ones((batch_size,1))\n",
        "        fake = np.zeros((batch_size,1))\n",
        "\n",
        "        if using_generator:\n",
        "            true_imgs = next(x_train)[0]\n",
        "            if true_imgs.shape[0] != batch_size:\n",
        "                true_imgs = next(x_train)[0]\n",
        "        else:\n",
        "            idx = np.random.randint(0, x_train.shape[0], batch_size)\n",
        "            true_imgs = x_train[idx]\n",
        "        \n",
        "        noise = np.random.normal(0, 1, (batch_size, self.z_dim))\n",
        "        gen_imgs = self.generator.predict(noise)\n",
        "\n",
        "        d_loss_real, d_acc_real =   self.discriminator.train_on_batch(true_imgs, valid)\n",
        "        d_loss_fake, d_acc_fake =   self.discriminator.train_on_batch(gen_imgs, fake)\n",
        "        d_loss =  0.5 * (d_loss_real + d_loss_fake)\n",
        "        d_acc = 0.5 * (d_acc_real + d_acc_fake)\n",
        "\n",
        "        return [d_loss, d_loss_real, d_loss_fake, d_acc, d_acc_real, d_acc_fake]\n",
        "\n",
        "    def train_generator(self, batch_size):\n",
        "        valid = np.ones((batch_size,1))\n",
        "        noise = np.random.normal(0, 1, (batch_size, self.z_dim))\n",
        "        return self.model.train_on_batch(noise, valid)\n",
        "\n",
        "\n",
        "    def train(self, x_train, batch_size, epochs, run_folder\n",
        "    , print_every_n_batches = 50\n",
        "    , using_generator = False):\n",
        "\n",
        "        for epoch in range(self.epoch, self.epoch + epochs):\n",
        "\n",
        "            d = self.train_discriminator(x_train, batch_size, using_generator)\n",
        "            g = self.train_generator(batch_size)\n",
        "            self.d_losses.append(d)\n",
        "            self.g_losses.append(g)\n",
        "\n",
        "            if (epoch + 1) % print_every_n_batches == 0:\n",
        "                print (\"%d [D loss: (%.3f)(R %.3f, F %.3f)] [D acc: (%.3f)(%.3f, %.3f)] [G loss: %.3f] [G acc: %.3f]\" % (epoch + 1, d[0], d[1], d[2], d[3], d[4], d[5], g[0], g[1]))\n",
        "                self.sample_images(run_folder)\n",
        "                self.model.save_weights(os.path.join(run_folder, 'weights/weights.h5'))\n",
        "                self.save_model(run_folder)\n",
        "\n",
        "            self.epoch += 1\n",
        "\n",
        "    \n",
        "    def sample_images(self, run_folder):\n",
        "        r, c = 5, 5\n",
        "        noise = np.random.normal(0, 1, (r * c, self.z_dim))\n",
        "        gen_imgs = self.generator.predict(noise)\n",
        "\n",
        "        gen_imgs = 0.5 * (gen_imgs + 1)\n",
        "        gen_imgs = np.clip(gen_imgs, 0, 1)\n",
        "\n",
        "        fig, axs = plt.subplots(r, c, figsize=(15,15))\n",
        "        cnt = 0\n",
        "\n",
        "        for i in range(r):\n",
        "            for j in range(c):\n",
        "                axs[i,j].imshow(np.squeeze(gen_imgs[cnt, :,:,:]), cmap = 'gray')\n",
        "                axs[i,j].axis('off')\n",
        "                cnt += 1\n",
        "        fig.savefig(os.path.join(run_folder, \"images/sample_%d.png\" % (self.epoch + 1)))\n",
        "        plt.close()\n",
        "\n",
        "\n",
        "\n",
        "\n",
        "    \n",
        "    def plot_model(self, run_folder):\n",
        "        plot_model(self.model, to_file=os.path.join(run_folder ,'viz/model.png'), show_shapes = True, show_layer_names = True)\n",
        "        plot_model(self.discriminator, to_file=os.path.join(run_folder ,'viz/discriminator.png'), show_shapes = True, show_layer_names = True)\n",
        "        plot_model(self.generator, to_file=os.path.join(run_folder ,'viz/generator.png'), show_shapes = True, show_layer_names = True)\n",
        "\n",
        "\n",
        "\n",
        "    def save(self, folder):\n",
        "\n",
        "        with open(os.path.join(folder, 'params.pkl'), 'wb') as f:\n",
        "            pkl.dump([\n",
        "                self.input_dim\n",
        "                , self.discriminator_conv_filters\n",
        "                , self.discriminator_conv_kernel_size\n",
        "                , self.discriminator_conv_strides\n",
        "                , self.discriminator_batch_norm_momentum\n",
        "                , self.discriminator_activation\n",
        "                , self.discriminator_dropout_rate\n",
        "                , self.discriminator_learning_rate\n",
        "                , self.generator_initial_dense_layer_size\n",
        "                , self.generator_upsample\n",
        "                , self.generator_conv_filters\n",
        "                , self.generator_conv_kernel_size\n",
        "                , self.generator_conv_strides\n",
        "                , self.generator_batch_norm_momentum\n",
        "                , self.generator_activation\n",
        "                , self.generator_dropout_rate\n",
        "                , self.generator_learning_rate\n",
        "                , self.optimiser\n",
        "                , self.z_dim\n",
        "                ], f)\n",
        "\n",
        "        self.plot_model(folder)\n",
        "\n",
        "    def save_model(self, run_folder):\n",
        "        self.model.save(os.path.join(run_folder, 'model.h5'))\n",
        "        self.discriminator.save(os.path.join(run_folder, 'discriminator.h5'))\n",
        "        self.generator.save(os.path.join(run_folder, 'generator.h5'))\n",
        "\n",
        "    def load_weights(self, filepath):\n",
        "        self.model.load_weights(filepath)\n",
        "\n",
        "\n",
        "        \n",
        "\n",
        "\n"
      ],
      "execution_count": 176,
      "outputs": []
    },
    {
      "cell_type": "markdown",
      "metadata": {
        "id": "j0XzckFe7bhN"
      },
      "source": [
        "## Creating directories if needed"
      ]
    },
    {
      "cell_type": "code",
      "metadata": {
        "id": "f2UxTk9W9Aa7"
      },
      "source": [
        "# run params\n",
        "SECTION = 'gan'\n",
        "RUN_ID = '0001'\n",
        "DATA_NAME = 'camel'\n",
        "RUN_FOLDER = data_path + '/{}/'.format(SECTION)\n",
        "RUN_FOLDER += '_'.join([RUN_ID, DATA_NAME])\n",
        "\n",
        "if not os.path.exists(RUN_FOLDER):\n",
        "    os.mkdir(RUN_FOLDER)\n",
        "    os.mkdir(os.path.join(RUN_FOLDER, 'viz'))\n",
        "    os.mkdir(os.path.join(RUN_FOLDER, 'images'))\n",
        "    os.mkdir(os.path.join(RUN_FOLDER, 'weights'))"
      ],
      "execution_count": 177,
      "outputs": []
    },
    {
      "cell_type": "markdown",
      "metadata": {
        "id": "UW_WKWkh9Aa7"
      },
      "source": [
        "## Loading the data"
      ]
    },
    {
      "cell_type": "code",
      "metadata": {
        "id": "jusFDXEu9Aa7"
      },
      "source": [
        "x_train = np.load(data_path + \"/full-numpy_bitmap-camel.npy\")\n",
        "x_train = x_train.reshape((x_train.shape[0], 28, 28, 1))"
      ],
      "execution_count": 178,
      "outputs": []
    },
    {
      "cell_type": "code",
      "metadata": {
        "colab": {
          "base_uri": "https://localhost:8080/"
        },
        "id": "0bwfXnSt9Aa8",
        "outputId": "0ca0ed77-1e4b-45b2-839d-2e0e1f3c2aa4"
      },
      "source": [
        "x_train.shape"
      ],
      "execution_count": 179,
      "outputs": [
        {
          "output_type": "execute_result",
          "data": {
            "text/plain": [
              "(121399, 28, 28, 1)"
            ]
          },
          "metadata": {
            "tags": []
          },
          "execution_count": 179
        }
      ]
    },
    {
      "cell_type": "markdown",
      "metadata": {
        "id": "fP9pxurK4IuT"
      },
      "source": [
        "Now we plot some random images."
      ]
    },
    {
      "cell_type": "code",
      "metadata": {
        "colab": {
          "base_uri": "https://localhost:8080/",
          "height": 282
        },
        "id": "C5IdlrWu9Aa8",
        "outputId": "9d6c5399-3763-463a-c43c-97c9952de128"
      },
      "source": [
        "index = np.random.randint(low=0,high=x_train.shape[0])\n",
        "plt.imshow(x_train[index,:,:,0], cmap = 'gray')"
      ],
      "execution_count": 182,
      "outputs": [
        {
          "output_type": "execute_result",
          "data": {
            "text/plain": [
              "<matplotlib.image.AxesImage at 0x7f61b7226a90>"
            ]
          },
          "metadata": {
            "tags": []
          },
          "execution_count": 182
        },
        {
          "output_type": "display_data",
          "data": {
            "image/png": "[encoded data removed]",
            "text/plain": [
              "<Figure size 432x288 with 1 Axes>"
            ]
          },
          "metadata": {
            "tags": [],
            "needs_background": "light"
          }
        }
      ]
    },
    {
      "cell_type": "markdown",
      "metadata": {
        "id": "B8ehXO2E9Aa8"
      },
      "source": [
        "## Building the Model"
      ]
    },
    {
      "cell_type": "code",
      "metadata": {
        "id": "qZI78SKy9Aa8"
      },
      "source": [
        "gan = GAN(input_dim = (28,28,1)\n",
        "        , discriminator_conv_filters = [64,64,128,128]\n",
        "        , discriminator_conv_kernel_size = [5,5,5,5]\n",
        "        , discriminator_conv_strides = [2,2,2,1]\n",
        "        , discriminator_batch_norm_momentum = None\n",
        "        , discriminator_activation = 'relu'\n",
        "        , discriminator_dropout_rate = 0.4\n",
        "        , discriminator_learning_rate = 1e-4\n",
        "        , generator_initial_dense_layer_size = (7, 7, 64)\n",
        "        , generator_upsample = [2,2, 1, 1]\n",
        "        , generator_conv_filters = [128,64, 64,1]\n",
        "        , generator_conv_kernel_size = [5,5,5,5]\n",
        "        , generator_conv_strides = [1,1, 1, 1]\n",
        "        , generator_batch_norm_momentum = 0.9\n",
        "        , generator_activation = 'relu'\n",
        "        , generator_dropout_rate = None\n",
        "        , generator_learning_rate = 1e-3\n",
        "        , optimiser = 'rmsprop'\n",
        "        , z_dim = 100\n",
        "        )"
      ],
      "execution_count": 184,
      "outputs": []
    },
    {
      "cell_type": "code",
      "metadata": {
        "colab": {
          "base_uri": "https://localhost:8080/"
        },
        "id": "2JsGOpPf9Aa8",
        "outputId": "e55d16d5-446d-4f0d-cb3e-06a703dbb8ab"
      },
      "source": [
        "gan.discriminator.summary()"
      ],
      "execution_count": 185,
      "outputs": [
        {
          "output_type": "stream",
          "text": [
            "Model: \"model_21\"\n",
            "_________________________________________________________________\n",
            "Layer (type)                 Output Shape              Param #   \n",
            "=================================================================\n",
            "discriminator_input (InputLa [(None, 28, 28, 1)]       0         \n",
            "_________________________________________________________________\n",
            "discriminator_conv_0 (Conv2D (None, 14, 14, 64)        1664      \n",
            "_________________________________________________________________\n",
            "activation_63 (Activation)   (None, 14, 14, 64)        0         \n",
            "_________________________________________________________________\n",
            "dropout_28 (Dropout)         (None, 14, 14, 64)        0         \n",
            "_________________________________________________________________\n",
            "discriminator_conv_1 (Conv2D (None, 7, 7, 64)          102464    \n",
            "_________________________________________________________________\n",
            "activation_64 (Activation)   (None, 7, 7, 64)          0         \n",
            "_________________________________________________________________\n",
            "dropout_29 (Dropout)         (None, 7, 7, 64)          0         \n",
            "_________________________________________________________________\n",
            "discriminator_conv_2 (Conv2D (None, 4, 4, 128)         204928    \n",
            "_________________________________________________________________\n",
            "activation_65 (Activation)   (None, 4, 4, 128)         0         \n",
            "_________________________________________________________________\n",
            "dropout_30 (Dropout)         (None, 4, 4, 128)         0         \n",
            "_________________________________________________________________\n",
            "discriminator_conv_3 (Conv2D (None, 4, 4, 128)         409728    \n",
            "_________________________________________________________________\n",
            "activation_66 (Activation)   (None, 4, 4, 128)         0         \n",
            "_________________________________________________________________\n",
            "dropout_31 (Dropout)         (None, 4, 4, 128)         0         \n",
            "_________________________________________________________________\n",
            "flatten_7 (Flatten)          (None, 2048)              0         \n",
            "_________________________________________________________________\n",
            "dense_14 (Dense)             (None, 1)                 2049      \n",
            "=================================================================\n",
            "Total params: 720,833\n",
            "Trainable params: 720,833\n",
            "Non-trainable params: 0\n",
            "_________________________________________________________________\n"
          ],
          "name": "stdout"
        }
      ]
    },
    {
      "cell_type": "code",
      "metadata": {
        "colab": {
          "base_uri": "https://localhost:8080/"
        },
        "id": "UDRXqSQG9Aa8",
        "outputId": "d31d9370-94ec-4429-fc7a-5bfe36a8369e"
      },
      "source": [
        "gan.generator.summary()"
      ],
      "execution_count": 163,
      "outputs": [
        {
          "output_type": "stream",
          "text": [
            "Model: \"model_16\"\n",
            "_________________________________________________________________\n",
            "Layer (type)                 Output Shape              Param #   \n",
            "=================================================================\n",
            "generator_input (InputLayer) [(None, 100)]             0         \n",
            "_________________________________________________________________\n",
            "dense_11 (Dense)             (None, 3136)              316736    \n",
            "_________________________________________________________________\n",
            "batch_normalization_20 (Batc (None, 3136)              12544     \n",
            "_________________________________________________________________\n",
            "activation_49 (Activation)   (None, 3136)              0         \n",
            "_________________________________________________________________\n",
            "reshape_5 (Reshape)          (None, 7, 7, 64)          0         \n",
            "_________________________________________________________________\n",
            "up_sampling2d_10 (UpSampling (None, 14, 14, 64)        0         \n",
            "_________________________________________________________________\n",
            "generator_conv_0 (Conv2D)    (None, 14, 14, 128)       204928    \n",
            "_________________________________________________________________\n",
            "batch_normalization_21 (Batc (None, 14, 14, 128)       512       \n",
            "_________________________________________________________________\n",
            "activation_50 (Activation)   (None, 14, 14, 128)       0         \n",
            "_________________________________________________________________\n",
            "up_sampling2d_11 (UpSampling (None, 28, 28, 128)       0         \n",
            "_________________________________________________________________\n",
            "generator_conv_1 (Conv2D)    (None, 28, 28, 64)        204864    \n",
            "_________________________________________________________________\n",
            "batch_normalization_22 (Batc (None, 28, 28, 64)        256       \n",
            "_________________________________________________________________\n",
            "activation_51 (Activation)   (None, 28, 28, 64)        0         \n",
            "_________________________________________________________________\n",
            "generator_conv_2 (Conv2DTran (None, 28, 28, 64)        102464    \n",
            "_________________________________________________________________\n",
            "batch_normalization_23 (Batc (None, 28, 28, 64)        256       \n",
            "_________________________________________________________________\n",
            "activation_52 (Activation)   (None, 28, 28, 64)        0         \n",
            "_________________________________________________________________\n",
            "generator_conv_3 (Conv2DTran (None, 28, 28, 1)         1601      \n",
            "_________________________________________________________________\n",
            "activation_53 (Activation)   (None, 28, 28, 1)         0         \n",
            "=================================================================\n",
            "Total params: 844,161\n",
            "Trainable params: 837,377\n",
            "Non-trainable params: 6,784\n",
            "_________________________________________________________________\n"
          ],
          "name": "stdout"
        }
      ]
    },
    {
      "cell_type": "markdown",
      "metadata": {
        "id": "QP4IlAfT4uN9"
      },
      "source": [
        "## Loading Weights if needed"
      ]
    },
    {
      "cell_type": "code",
      "metadata": {
        "id": "hVxabk9b4u0Z"
      },
      "source": [
        "weight_path = os.path.join(RUN_FOLDER, 'weights/weights.h5')\n",
        "if os.path.exists(weight_path):\n",
        "  gan.load_weights(weight_path)"
      ],
      "execution_count": 187,
      "outputs": []
    },
    {
      "cell_type": "markdown",
      "metadata": {
        "id": "yOFmJz8O9Aa9"
      },
      "source": [
        "## Training the GAN"
      ]
    },
    {
      "cell_type": "code",
      "metadata": {
        "id": "2UjCmsop9Aa9"
      },
      "source": [
        "BATCH_SIZE = 64\n",
        "EPOCHS = 100\n",
        "PRINT_EVERY_N_BATCHES = 10"
      ],
      "execution_count": 188,
      "outputs": []
    },
    {
      "cell_type": "code",
      "metadata": {
        "scrolled": false,
        "colab": {
          "base_uri": "https://localhost:8080/"
        },
        "id": "vydVg6Gb9Aa9",
        "outputId": "169a66eb-8064-4194-bc31-39bc9960d6cc"
      },
      "source": [
        "gan.train(     \n",
        "    x_train\n",
        "    , batch_size = BATCH_SIZE\n",
        "    , epochs = EPOCHS\n",
        "    , run_folder = RUN_FOLDER\n",
        "    , print_every_n_batches = PRINT_EVERY_N_BATCHES\n",
        ")"
      ],
      "execution_count": 189,
      "outputs": [
        {
          "output_type": "stream",
          "text": [
            "10 [D loss: (0.350)(R 0.002, F 0.698)] [D acc: (0.539)(1.000, 0.078)] [G loss: 0.686] [G acc: 0.875]\n",
            "20 [D loss: (0.336)(R 0.001, F 0.672)] [D acc: (1.000)(1.000, 1.000)] [G loss: 0.725] [G acc: 0.000]\n",
            "30 [D loss: (0.353)(R 0.003, F 0.703)] [D acc: (0.531)(1.000, 0.062)] [G loss: 0.689] [G acc: 0.781]\n",
            "40 [D loss: (0.341)(R 0.002, F 0.680)] [D acc: (1.000)(1.000, 1.000)] [G loss: 0.714] [G acc: 0.000]\n",
            "50 [D loss: (0.336)(R 0.003, F 0.670)] [D acc: (1.000)(1.000, 1.000)] [G loss: 0.737] [G acc: 0.000]\n",
            "60 [D loss: (0.323)(R 0.002, F 0.645)] [D acc: (1.000)(1.000, 1.000)] [G loss: 0.765] [G acc: 0.000]\n",
            "70 [D loss: (0.313)(R 0.001, F 0.625)] [D acc: (1.000)(1.000, 1.000)] [G loss: 0.779] [G acc: 0.000]\n",
            "80 [D loss: (0.297)(R 0.000, F 0.593)] [D acc: (1.000)(1.000, 1.000)] [G loss: 0.819] [G acc: 0.000]\n",
            "90 [D loss: (0.287)(R 0.016, F 0.559)] [D acc: (0.992)(0.984, 1.000)] [G loss: 0.861] [G acc: 0.000]\n",
            "100 [D loss: (0.247)(R 0.000, F 0.493)] [D acc: (1.000)(1.000, 1.000)] [G loss: 0.980] [G acc: 0.000]\n"
          ],
          "name": "stdout"
        }
      ]
    },
    {
      "cell_type": "code",
      "metadata": {
        "colab": {
          "base_uri": "https://localhost:8080/",
          "height": 291
        },
        "id": "98cbEL7r9Aa9",
        "outputId": "e6974f27-4ae0-4f09-a184-c782f6acd5e0"
      },
      "source": [
        "fig = plt.figure()\n",
        "plt.plot([x[0] for x in gan.d_losses], color='black', linewidth=0.25)\n",
        "\n",
        "plt.plot([x[1] for x in gan.d_losses], color='green', linewidth=0.25)\n",
        "plt.plot([x[2] for x in gan.d_losses], color='red', linewidth=0.25)\n",
        "plt.plot([x[0] for x in gan.g_losses], color='orange', linewidth=0.25)\n",
        "\n",
        "plt.xlabel('batch', fontsize=18)\n",
        "plt.ylabel('loss', fontsize=16)\n",
        "\n",
        "plt.xlim(0, 100)\n",
        "plt.ylim(0, 2)\n",
        "\n",
        "plt.show()\n"
      ],
      "execution_count": 190,
      "outputs": [
        {
          "output_type": "display_data",
          "data": {
            "image/png": "[encoded data removed]",
            "text/plain": [
              "<Figure size 432x288 with 1 Axes>"
            ]
          },
          "metadata": {
            "tags": [],
            "needs_background": "light"
          }
        }
      ]
    },
    {
      "cell_type": "code",
      "metadata": {
        "colab": {
          "base_uri": "https://localhost:8080/",
          "height": 287
        },
        "id": "4lkePybT9Aa9",
        "outputId": "39c0415c-9c63-4bdd-bd47-4787124dee2e"
      },
      "source": [
        "fig = plt.figure()\n",
        "plt.plot([x[3] for x in gan.d_losses], color='black', linewidth=0.25)\n",
        "plt.plot([x[4] for x in gan.d_losses], color='green', linewidth=0.25)\n",
        "plt.plot([x[5] for x in gan.d_losses], color='red', linewidth=0.25)\n",
        "plt.plot([x[1] for x in gan.g_losses], color='orange', linewidth=0.25)\n",
        "\n",
        "plt.xlabel('batch', fontsize=18)\n",
        "plt.ylabel('accuracy', fontsize=16)\n",
        "\n",
        "plt.xlim(0, 100)\n",
        "\n",
        "plt.show()"
      ],
      "execution_count": 192,
      "outputs": [
        {
          "output_type": "display_data",
          "data": {
            "image/png": "[encoded data removed]",
            "text/plain": [
              "<Figure size 432x288 with 1 Axes>"
            ]
          },
          "metadata": {
            "tags": [],
            "needs_background": "light"
          }
        }
      ]
    },
    {
      "cell_type": "markdown",
      "metadata": {
        "id": "HMKebtnfM7-r"
      },
      "source": [
        "## Displaying generated images\n",
        "Now we display the latest images this GAN generated. "
      ]
    },
    {
      "cell_type": "code",
      "metadata": {
        "id": "vyi1cHyh9Aa9",
        "colab": {
          "base_uri": "https://localhost:8080/"
        },
        "outputId": "f9a875a6-093a-4244-998b-c4c5f7f2fc7a"
      },
      "source": [
        "import PIL\n",
        "image_path = os.path.join(RUN_FOLDER, 'images/sample_100.png')\n",
        "image = PIL.Image.open(image_path).convert('L')\n",
        "image_tensor = np.array(image)\n",
        "print(image_tensor.shape)"
      ],
      "execution_count": 193,
      "outputs": [
        {
          "output_type": "stream",
          "text": [
            "(1080, 1080)\n"
          ],
          "name": "stdout"
        }
      ]
    },
    {
      "cell_type": "code",
      "metadata": {
        "colab": {
          "base_uri": "https://localhost:8080/",
          "height": 269
        },
        "id": "Sduc2ZctOBAW",
        "outputId": "4e30c4b2-3134-4091-94b7-5bed26d0879f"
      },
      "source": [
        "plt.imshow(image_tensor)\n",
        "plt.show()"
      ],
      "execution_count": 194,
      "outputs": [
        {
          "output_type": "display_data",
          "data": {
            "image/png": "[encoded data removed]",
            "text/plain": [
              "<Figure size 432x288 with 1 Axes>"
            ]
          },
          "metadata": {
            "tags": [],
            "needs_background": "light"
          }
        }
      ]
    },
    {
      "cell_type": "code",
      "metadata": {
        "id": "RF_t2p5l3Sck"
      },
      "source": [
        "gan.save(RUN_FOLDER)"
      ],
      "execution_count": 172,
      "outputs": []
    }
  ]
}