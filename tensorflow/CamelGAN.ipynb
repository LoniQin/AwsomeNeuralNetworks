{
  "nbformat": 4,
  "nbformat_minor": 0,
  "metadata": {
    "kernelspec": {
      "name": "python3",
      "display_name": "Python 3"
    },
    "colab": {
      "name": "Copy of CamelGAN.ipynb",
      "provenance": [],
      "collapsed_sections": [],
      "toc_visible": true,
      "include_colab_link": true
    },
    "language_info": {
      "name": "python"
    },
    "accelerator": "GPU"
  },
  "cells": [
    {
      "cell_type": "markdown",
      "metadata": {
        "id": "view-in-github",
        "colab_type": "text"
      },
      "source": [
        "<a href=\"https://colab.research.google.com/github/LoniQin/deep_learning_notebooks/blob/master/tensorflow/CamelGAN.ipynb\" target=\"_parent\"><img src=\"https://colab.research.google.com/assets/colab-badge.svg\" alt=\"Open In Colab\"/></a>"
      ]
    },
    {
      "cell_type": "markdown",
      "metadata": {
        "id": "a_6uA04k9Aa5"
      },
      "source": [
        "# GAN Training"
      ]
    },
    {
      "cell_type": "markdown",
      "metadata": {
        "id": "zQWh9wXy9Aa6"
      },
      "source": [
        "## Importing Libraries"
      ]
    },
    {
      "cell_type": "code",
      "metadata": {
        "id": "NKAwH0rH9Aa7"
      },
      "source": [
        "import os\n",
        "import numpy as np\n",
        "import json\n",
        "import pickle as pkl\n",
        "import matplotlib.pyplot as plt\n",
        "import tensorflow as tf\n",
        "from tensorflow.keras.layers import Input, Conv2D, Flatten, Dense, Conv2DTranspose, Reshape, Lambda, Activation, BatchNormalization, LeakyReLU, Dropout, ZeroPadding2D, UpSampling2D\n",
        "from tensorflow.keras.models import Model, Sequential\n",
        "from tensorflow.keras import backend as K\n",
        "from tensorflow.keras.optimizers import Adam, RMSprop\n",
        "from tensorflow.keras.utils import plot_model\n",
        "from tensorflow.keras.preprocessing.image import ImageDataGenerator\n",
        "from tensorflow.keras.initializers import RandomNormal"
      ],
      "execution_count": 1,
      "outputs": []
    },
    {
      "cell_type": "markdown",
      "metadata": {
        "id": "uau7QQLY3cUt"
      },
      "source": [
        "## Mounting Google Drive\n",
        "For convenience we mount a Google Drive so that we can read and write a Goolge Drive."
      ]
    },
    {
      "cell_type": "code",
      "metadata": {
        "id": "vh8jI2eHLQEm"
      },
      "source": [
        "drive_path = \"/content/drive\"\n",
        "data_path = drive_path + \"/MyDrive/data\""
      ],
      "execution_count": 2,
      "outputs": []
    },
    {
      "cell_type": "code",
      "metadata": {
        "colab": {
          "base_uri": "https://localhost:8080/"
        },
        "id": "agpzYqu0JN8k",
        "outputId": "e925495e-ca3f-4c04-9581-30886b1fdb22"
      },
      "source": [
        "from google.colab import drive\n",
        "drive.mount(drive_path)"
      ],
      "execution_count": 3,
      "outputs": [
        {
          "output_type": "stream",
          "text": [
            "Mounted at /content/drive\n"
          ],
          "name": "stdout"
        }
      ]
    },
    {
      "cell_type": "markdown",
      "metadata": {
        "id": "wEh1vnWP9Nlm"
      },
      "source": [
        "## Defining a GAN"
      ]
    },
    {
      "cell_type": "code",
      "metadata": {
        "id": "p7pVl1c89LmU"
      },
      "source": [
        "class WGAN():\n",
        "    def __init__(self\n",
        "        , input_dim\n",
        "        , critic_conv_filters\n",
        "        , critic_conv_kernel_size\n",
        "        , critic_conv_strides\n",
        "        , critic_batch_norm_momentum\n",
        "        , critic_activation\n",
        "        , critic_dropout_rate\n",
        "        , critic_learning_rate\n",
        "        , generator_initial_dense_layer_size\n",
        "        , generator_upsample\n",
        "        , generator_conv_filters\n",
        "        , generator_conv_kernel_size\n",
        "        , generator_conv_strides\n",
        "        , generator_batch_norm_momentum\n",
        "        , generator_activation\n",
        "        , generator_dropout_rate\n",
        "        , generator_learning_rate\n",
        "        , optimiser\n",
        "        , z_dim\n",
        "        ):\n",
        "\n",
        "        self.name = 'gan'\n",
        "\n",
        "        self.input_dim = input_dim\n",
        "        self.critic_conv_filters = critic_conv_filters\n",
        "        self.critic_conv_kernel_size = critic_conv_kernel_size\n",
        "        self.critic_conv_strides = critic_conv_strides\n",
        "        self.critic_batch_norm_momentum = critic_batch_norm_momentum\n",
        "        self.critic_activation = critic_activation\n",
        "        self.critic_dropout_rate = critic_dropout_rate\n",
        "        self.critic_learning_rate = critic_learning_rate\n",
        "\n",
        "        self.generator_initial_dense_layer_size = generator_initial_dense_layer_size\n",
        "        self.generator_upsample = generator_upsample\n",
        "        self.generator_conv_filters = generator_conv_filters\n",
        "        self.generator_conv_kernel_size = generator_conv_kernel_size\n",
        "        self.generator_conv_strides = generator_conv_strides\n",
        "        self.generator_batch_norm_momentum = generator_batch_norm_momentum\n",
        "        self.generator_activation = generator_activation\n",
        "        self.generator_dropout_rate = generator_dropout_rate\n",
        "        self.generator_learning_rate = generator_learning_rate\n",
        "        \n",
        "        self.optimiser = optimiser\n",
        "\n",
        "        self.z_dim = z_dim\n",
        "\n",
        "        \n",
        "\n",
        "        self.n_layers_critic = len(critic_conv_filters)\n",
        "        self.n_layers_generator = len(generator_conv_filters)\n",
        "\n",
        "        self.weight_init = RandomNormal(mean=0., stddev=0.02)\n",
        "\n",
        "        self.d_losses = []\n",
        "        self.g_losses = []\n",
        "\n",
        "        self.epoch = 0\n",
        "\n",
        "    \n",
        "        self._build_critic()\n",
        "        self._build_generator()\n",
        "\n",
        "        self._build_adversarial()\n",
        "\n",
        "    def wasserstein(self, y_true, y_pred):\n",
        "        return - K.mean(y_true * y_pred)\n",
        "\n",
        "    def get_activation(self, activation):\n",
        "        if activation == 'leaky_relu':\n",
        "            layer = LeakyReLU(alpha = 0.2)\n",
        "        else:\n",
        "            layer = Activation(activation)\n",
        "        return layer\n",
        "\n",
        "    def _build_critic(self):\n",
        "\n",
        "        ### THE critic\n",
        "        critic_input = Input(shape=self.input_dim, name='critic_input')\n",
        "\n",
        "        x = critic_input\n",
        "\n",
        "        for i in range(self.n_layers_critic):\n",
        "\n",
        "            x = Conv2D(\n",
        "                filters = self.critic_conv_filters[i]\n",
        "                , kernel_size = self.critic_conv_kernel_size[i]\n",
        "                , strides = self.critic_conv_strides[i]\n",
        "                , padding = 'same'\n",
        "                , name = 'critic_conv_' + str(i)\n",
        "                , kernel_initializer = self.weight_init\n",
        "                )(x)\n",
        "\n",
        "            if self.critic_batch_norm_momentum and i > 0:\n",
        "                x = BatchNormalization(momentum = self.critic_batch_norm_momentum)(x)\n",
        "\n",
        "            x = self.get_activation(self.critic_activation)(x)\n",
        "\n",
        "            if self.critic_dropout_rate:\n",
        "                x = Dropout(rate = self.critic_dropout_rate)(x)\n",
        "\n",
        "        x = Flatten()(x)\n",
        "\n",
        "        critic_output = Dense(1, activation=None\n",
        "        , kernel_initializer = self.weight_init\n",
        "        )(x)\n",
        "\n",
        "        self.critic = Model(critic_input, critic_output)\n",
        "\n",
        "\n",
        "\n",
        "    def _build_generator(self):\n",
        "\n",
        "        ### THE generator\n",
        "\n",
        "        generator_input = Input(shape=(self.z_dim,), name='generator_input')\n",
        "\n",
        "        x = generator_input\n",
        "\n",
        "        x = Dense(np.prod(self.generator_initial_dense_layer_size)\n",
        "        ,kernel_initializer = self.weight_init\n",
        "        )(x)\n",
        "\n",
        "        \n",
        "        if self.generator_batch_norm_momentum:\n",
        "            x = BatchNormalization(momentum = self.generator_batch_norm_momentum)(x)\n",
        "\n",
        "        x = self.get_activation(self.generator_activation)(x)\n",
        "\n",
        "        x = Reshape(self.generator_initial_dense_layer_size)(x)\n",
        "\n",
        "        if self.generator_dropout_rate:\n",
        "            x = Dropout(rate = self.generator_dropout_rate)(x)\n",
        "\n",
        "        for i in range(self.n_layers_generator):\n",
        "\n",
        "            if self.generator_upsample[i] == 2:\n",
        "                x = UpSampling2D()(x)\n",
        "                x = Conv2D(\n",
        "                filters = self.generator_conv_filters[i]\n",
        "                , kernel_size = self.generator_conv_kernel_size[i]\n",
        "                , padding = 'same'\n",
        "                , name = 'generator_conv_' + str(i)\n",
        "                , kernel_initializer = self.weight_init\n",
        "                )(x)\n",
        "            else:\n",
        "\n",
        "                x = Conv2DTranspose(\n",
        "                    filters = self.generator_conv_filters[i]\n",
        "                    , kernel_size = self.generator_conv_kernel_size[i]\n",
        "                    , padding = 'same'\n",
        "                    , strides = self.generator_conv_strides[i]\n",
        "                    , name = 'generator_conv_' + str(i)\n",
        "                    , kernel_initializer = self.weight_init\n",
        "                    )(x)\n",
        "\n",
        "            if i < self.n_layers_generator - 1:\n",
        "\n",
        "                if self.generator_batch_norm_momentum:\n",
        "                    x = BatchNormalization(momentum = self.generator_batch_norm_momentum)(x)\n",
        "\n",
        "                x = self.get_activation(self.generator_activation)(x)\n",
        "            \n",
        "            else:\n",
        "                x = Activation('tanh')(x)\n",
        "\n",
        "\n",
        "        generator_output = x\n",
        "\n",
        "        self.generator = Model(generator_input, generator_output)\n",
        "\n",
        "\n",
        "    def get_opti(self, lr):\n",
        "        if self.optimiser == 'adam':\n",
        "            opti = Adam(lr=lr, beta_1=0.5)\n",
        "        elif self.optimiser == 'rmsprop':\n",
        "            opti = RMSprop(lr=lr)\n",
        "        else:\n",
        "            opti = Adam(lr=lr)\n",
        "\n",
        "        return opti\n",
        "\n",
        "    def set_trainable(self, m, val):\n",
        "        m.trainable = val\n",
        "        for l in m.layers:\n",
        "            l.trainable = val\n",
        "\n",
        "\n",
        "    def _build_adversarial(self):\n",
        "        \n",
        "        ### COMPILE critic\n",
        "\n",
        "        self.critic.compile(\n",
        "            optimizer=self.get_opti(self.critic_learning_rate) \n",
        "            , loss = self.wasserstein\n",
        "        )\n",
        "        \n",
        "        ### COMPILE THE FULL GAN\n",
        "\n",
        "        self.set_trainable(self.critic, False)\n",
        "\n",
        "        model_input = Input(shape=(self.z_dim,), name='model_input')\n",
        "        model_output = self.critic(self.generator(model_input))\n",
        "        self.model = Model(model_input, model_output)\n",
        "        \n",
        "        self.model.compile(\n",
        "            optimizer=self.get_opti(self.generator_learning_rate)\n",
        "            , loss=self.wasserstein\n",
        "            )\n",
        "\n",
        "        self.set_trainable(self.critic, True)\n",
        "\n",
        "\n",
        "\n",
        "    \n",
        "    def train_critic(self, x_train, batch_size, clip_threshold, using_generator):\n",
        "\n",
        "        valid = np.ones((batch_size,1))\n",
        "        fake = -np.ones((batch_size,1))\n",
        "\n",
        "        if using_generator:\n",
        "            true_imgs = next(x_train)[0]\n",
        "            if true_imgs.shape[0] != batch_size:\n",
        "                true_imgs = next(x_train)[0]\n",
        "        else:\n",
        "            idx = np.random.randint(0, x_train.shape[0], batch_size)\n",
        "            true_imgs = x_train[idx]\n",
        "        \n",
        "        \n",
        "        noise = np.random.normal(0, 1, (batch_size, self.z_dim))\n",
        "        gen_imgs = self.generator.predict(noise)\n",
        "\n",
        "        d_loss_real =   self.critic.train_on_batch(true_imgs, valid)\n",
        "        d_loss_fake =   self.critic.train_on_batch(gen_imgs, fake)\n",
        "        d_loss = 0.5 * (d_loss_real + d_loss_fake)\n",
        "\n",
        "        for l in self.critic.layers:\n",
        "            weights = l.get_weights()\n",
        "            weights = [np.clip(w, -clip_threshold, clip_threshold) for w in weights]\n",
        "            l.set_weights(weights)\n",
        "\n",
        "        return [d_loss, d_loss_real, d_loss_fake]\n",
        "\n",
        "    def train_generator(self, batch_size):\n",
        "        valid = np.ones((batch_size,1))\n",
        "        noise = np.random.normal(0, 1, (batch_size, self.z_dim))\n",
        "        return self.model.train_on_batch(noise, valid)\n",
        "\n",
        "\n",
        "    def train(self, x_train, batch_size, epochs, run_folder, print_every_n_batches = 10\n",
        "        , n_critic = 5\n",
        "        , clip_threshold = 0.01\n",
        "        , using_generator = False):\n",
        "\n",
        "        for epoch in range(self.epoch, self.epoch + epochs):\n",
        "\n",
        "            for _ in range(n_critic):\n",
        "                d_loss = self.train_critic(x_train, batch_size, clip_threshold, using_generator)\n",
        "\n",
        "            g_loss = self.train_generator(batch_size)\n",
        "               \n",
        "            # Plot the progress\n",
        "            \n",
        "            self.d_losses.append(d_loss)\n",
        "            self.g_losses.append(g_loss)\n",
        "\n",
        "            # If at save interval => save generated image samples\n",
        "            if epoch % print_every_n_batches == 0:\n",
        "                print (\"%d [D loss: (%.3f)(R %.3f, F %.3f)]  [G loss: %.3f] \" % (epoch, d_loss[0], d_loss[1], d_loss[2], g_loss))\n",
        "                self.sample_images(run_folder)\n",
        "                self.model.save_weights(os.path.join(run_folder, 'weights/weights.h5'))\n",
        "                self.save_model(run_folder)\n",
        "            \n",
        "            self.epoch+=1\n",
        "\n",
        "    def sample_images(self, run_folder):\n",
        "        r, c = 5, 5\n",
        "        noise = np.random.normal(0, 1, (r * c, self.z_dim))\n",
        "        gen_imgs = self.generator.predict(noise)\n",
        "\n",
        "        #Rescale images 0 - 1\n",
        "\n",
        "        gen_imgs = 0.5 * (gen_imgs + 1)\n",
        "        gen_imgs = np.clip(gen_imgs, 0, 1)\n",
        "\n",
        "        fig, axs = plt.subplots(r, c, figsize=(15,15))\n",
        "        cnt = 0\n",
        "\n",
        "        for i in range(r):\n",
        "            for j in range(c):\n",
        "                axs[i,j].imshow(np.squeeze(gen_imgs[cnt, :,:,:]), cmap = 'gray_r')\n",
        "                axs[i,j].axis('off')\n",
        "                cnt += 1\n",
        "        fig.savefig(os.path.join(run_folder, \"images/sample_%d.png\" % self.epoch))\n",
        "        plt.close()\n",
        "\n",
        "    def plot_model(self, run_folder):\n",
        "        plot_model(self.model, to_file=os.path.join(run_folder ,'viz/model.png'), show_shapes = True, show_layer_names = True)\n",
        "        plot_model(self.critic, to_file=os.path.join(run_folder ,'viz/critic.png'), show_shapes = True, show_layer_names = True)\n",
        "        plot_model(self.generator, to_file=os.path.join(run_folder ,'viz/generator.png'), show_shapes = True, show_layer_names = True)\n",
        "\n",
        "\n",
        "\n",
        "            \n",
        "    def save(self, folder):\n",
        "\n",
        "            with open(os.path.join(folder, 'params.pkl'), 'wb') as f:\n",
        "                pickle.dump([\n",
        "                    self.input_dim\n",
        "                    , self.critic_conv_filters\n",
        "                    , self.critic_conv_kernel_size\n",
        "                    , self.critic_conv_strides\n",
        "                    , self.critic_batch_norm_momentum\n",
        "                    , self.critic_activation\n",
        "                    , self.critic_dropout_rate\n",
        "                    , self.critic_learning_rate\n",
        "                    , self.generator_initial_dense_layer_size\n",
        "                    , self.generator_upsample\n",
        "                    , self.generator_conv_filters\n",
        "                    , self.generator_conv_kernel_size\n",
        "                    , self.generator_conv_strides\n",
        "                    , self.generator_batch_norm_momentum\n",
        "                    , self.generator_activation\n",
        "                    , self.generator_dropout_rate\n",
        "                    , self.generator_learning_rate\n",
        "                    , self.optimiser\n",
        "                    , self.z_dim\n",
        "                    ], f)\n",
        "\n",
        "            self.plot_model(folder)\n",
        "\n",
        "    def save_model(self, run_folder):\n",
        "        self.model.save(os.path.join(run_folder, 'model.h5'))\n",
        "        self.critic.save(os.path.join(run_folder, 'critic.h5'))\n",
        "        self.generator.save(os.path.join(run_folder, 'generator.h5'))\n",
        "\n",
        "    def load_weights(self, filepath):\n",
        "        self.model.load_weights(filepath)\n",
        "\n",
        "        \n",
        "\n",
        "\n"
      ],
      "execution_count": 4,
      "outputs": []
    },
    {
      "cell_type": "markdown",
      "metadata": {
        "id": "j0XzckFe7bhN"
      },
      "source": [
        "## Creating directories if needed"
      ]
    },
    {
      "cell_type": "code",
      "metadata": {
        "id": "f2UxTk9W9Aa7"
      },
      "source": [
        "# run params\n",
        "SECTION = 'gan'\n",
        "RUN_ID = '0002'\n",
        "DATA_NAME = 'camel'\n",
        "RUN_FOLDER = data_path + '/{}/'.format(SECTION)\n",
        "RUN_FOLDER += '_'.join([RUN_ID, DATA_NAME])\n",
        "\n",
        "if not os.path.exists(RUN_FOLDER):\n",
        "    os.mkdir(RUN_FOLDER)\n",
        "    os.mkdir(os.path.join(RUN_FOLDER, 'viz'))\n",
        "    os.mkdir(os.path.join(RUN_FOLDER, 'images'))\n",
        "    os.mkdir(os.path.join(RUN_FOLDER, 'weights'))"
      ],
      "execution_count": 5,
      "outputs": []
    },
    {
      "cell_type": "markdown",
      "metadata": {
        "id": "UW_WKWkh9Aa7"
      },
      "source": [
        "## Loading the data"
      ]
    },
    {
      "cell_type": "code",
      "metadata": {
        "id": "jusFDXEu9Aa7"
      },
      "source": [
        "x_train = np.load(data_path + \"/full-numpy_bitmap-camel.npy\")\n",
        "x_train = x_train.reshape((x_train.shape[0], 28, 28, 1))"
      ],
      "execution_count": 6,
      "outputs": []
    },
    {
      "cell_type": "code",
      "metadata": {
        "colab": {
          "base_uri": "https://localhost:8080/"
        },
        "id": "0bwfXnSt9Aa8",
        "outputId": "39f97228-952b-45dd-ac68-2c9ed459ecc7"
      },
      "source": [
        "x_train.shape"
      ],
      "execution_count": 7,
      "outputs": [
        {
          "output_type": "execute_result",
          "data": {
            "text/plain": [
              "(121399, 28, 28, 1)"
            ]
          },
          "metadata": {
            "tags": []
          },
          "execution_count": 7
        }
      ]
    },
    {
      "cell_type": "code",
      "metadata": {
        "id": "f5iu8mGN5cD7"
      },
      "source": [
        "batch_size = 64\n",
        "image_width = 32"
      ],
      "execution_count": 8,
      "outputs": []
    },
    {
      "cell_type": "code",
      "metadata": {
        "id": "g76p-1oF5iDY",
        "colab": {
          "base_uri": "https://localhost:8080/"
        },
        "outputId": "8cebf02c-6d56-46d9-9219-9b4baf61476f"
      },
      "source": [
        "train_imgs = []\n",
        "for i in range(x_train.shape[0]):\n",
        "  train_imgs.append(tf.image.resize(x_train[i, :, :], [image_width, image_width]))\n",
        "images = np.array(train_imgs)\n",
        "print(images.shape)"
      ],
      "execution_count": 9,
      "outputs": [
        {
          "output_type": "stream",
          "text": [
            "(121399, 32, 32, 1)\n"
          ],
          "name": "stdout"
        }
      ]
    },
    {
      "cell_type": "markdown",
      "metadata": {
        "id": "fP9pxurK4IuT"
      },
      "source": [
        "Now we plot some random images."
      ]
    },
    {
      "cell_type": "code",
      "metadata": {
        "colab": {
          "base_uri": "https://localhost:8080/",
          "height": 283
        },
        "id": "C5IdlrWu9Aa8",
        "outputId": "816af37a-b462-4261-a9b7-6931ad83bccc"
      },
      "source": [
        "index = np.random.randint(low=0,high=x_train.shape[0])\n",
        "plt.imshow(images[index,:,:,0], cmap = 'gray')"
      ],
      "execution_count": 14,
      "outputs": [
        {
          "output_type": "execute_result",
          "data": {
            "text/plain": [
              "<matplotlib.image.AxesImage at 0x7fa5ba394f10>"
            ]
          },
          "metadata": {
            "tags": []
          },
          "execution_count": 14
        },
        {
          "output_type": "display_data",
          "data": {
            "image/png": "[encoded data removed]",
            "text/plain": [
              "<Figure size 432x288 with 1 Axes>"
            ]
          },
          "metadata": {
            "tags": [],
            "needs_background": "light"
          }
        }
      ]
    },
    {
      "cell_type": "code",
      "metadata": {
        "id": "tSyVpZtr6Dsk"
      },
      "source": [
        "data_gen = ImageDataGenerator(preprocessing_function=lambda x: (x.astype('float32') - 127.5) / 127.5)\n",
        "x_train = data_gen.flow(\n",
        "    x=images,\n",
        "    y=np.ones(images.shape[0]),\n",
        "    batch_size = batch_size, \n",
        "    shuffle = True\n",
        ")"
      ],
      "execution_count": 15,
      "outputs": []
    },
    {
      "cell_type": "markdown",
      "metadata": {
        "id": "B8ehXO2E9Aa8"
      },
      "source": [
        "## Building the Model"
      ]
    },
    {
      "cell_type": "code",
      "metadata": {
        "id": "qZI78SKy9Aa8"
      },
      "source": [
        "gan = WGAN(input_dim = (image_width,image_width,1)\n",
        "            , critic_conv_filters = [image_width,image_width * 2,image_width * 4,image_width * 4]\n",
        "            , critic_conv_kernel_size = [5,5,5,5]\n",
        "            , critic_conv_strides = [2,2,2,1]\n",
        "            , critic_batch_norm_momentum = None\n",
        "            , critic_activation = 'leaky_relu'\n",
        "            , critic_dropout_rate = None\n",
        "            , critic_learning_rate = 0.00005\n",
        "            , generator_initial_dense_layer_size = (4, 4, image_width * 4)\n",
        "            , generator_upsample = [2,2, 2,1]\n",
        "            , generator_conv_filters = [image_width * 4,image_width * 2,image_width,1]\n",
        "            , generator_conv_kernel_size = [5,5,5,5]\n",
        "            , generator_conv_strides = [1,1, 1,1]\n",
        "            , generator_batch_norm_momentum = 0.8\n",
        "            , generator_activation = 'leaky_relu'\n",
        "            , generator_dropout_rate = None\n",
        "            , generator_learning_rate = 0.00005\n",
        "            , optimiser = 'rmsprop'\n",
        "            , z_dim = 100\n",
        "            )"
      ],
      "execution_count": 16,
      "outputs": []
    },
    {
      "cell_type": "code",
      "metadata": {
        "colab": {
          "base_uri": "https://localhost:8080/"
        },
        "id": "2JsGOpPf9Aa8",
        "outputId": "5539ad09-29a3-42db-9e7b-41ce8325801c"
      },
      "source": [
        "gan.critic.summary()"
      ],
      "execution_count": 17,
      "outputs": [
        {
          "output_type": "stream",
          "text": [
            "Model: \"model\"\n",
            "_________________________________________________________________\n",
            "Layer (type)                 Output Shape              Param #   \n",
            "=================================================================\n",
            "critic_input (InputLayer)    [(None, 32, 32, 1)]       0         \n",
            "_________________________________________________________________\n",
            "critic_conv_0 (Conv2D)       (None, 16, 16, 32)        832       \n",
            "_________________________________________________________________\n",
            "leaky_re_lu (LeakyReLU)      (None, 16, 16, 32)        0         \n",
            "_________________________________________________________________\n",
            "critic_conv_1 (Conv2D)       (None, 8, 8, 64)          51264     \n",
            "_________________________________________________________________\n",
            "leaky_re_lu_1 (LeakyReLU)    (None, 8, 8, 64)          0         \n",
            "_________________________________________________________________\n",
            "critic_conv_2 (Conv2D)       (None, 4, 4, 128)         204928    \n",
            "_________________________________________________________________\n",
            "leaky_re_lu_2 (LeakyReLU)    (None, 4, 4, 128)         0         \n",
            "_________________________________________________________________\n",
            "critic_conv_3 (Conv2D)       (None, 4, 4, 128)         409728    \n",
            "_________________________________________________________________\n",
            "leaky_re_lu_3 (LeakyReLU)    (None, 4, 4, 128)         0         \n",
            "_________________________________________________________________\n",
            "flatten (Flatten)            (None, 2048)              0         \n",
            "_________________________________________________________________\n",
            "dense (Dense)                (None, 1)                 2049      \n",
            "=================================================================\n",
            "Total params: 668,801\n",
            "Trainable params: 668,801\n",
            "Non-trainable params: 0\n",
            "_________________________________________________________________\n"
          ],
          "name": "stdout"
        }
      ]
    },
    {
      "cell_type": "code",
      "metadata": {
        "colab": {
          "base_uri": "https://localhost:8080/"
        },
        "id": "UDRXqSQG9Aa8",
        "outputId": "3e4c9ed4-c844-4766-8c65-b584d00b4bc6"
      },
      "source": [
        "gan.generator.summary()"
      ],
      "execution_count": 18,
      "outputs": [
        {
          "output_type": "stream",
          "text": [
            "Model: \"model_1\"\n",
            "_________________________________________________________________\n",
            "Layer (type)                 Output Shape              Param #   \n",
            "=================================================================\n",
            "generator_input (InputLayer) [(None, 100)]             0         \n",
            "_________________________________________________________________\n",
            "dense_1 (Dense)              (None, 2048)              206848    \n",
            "_________________________________________________________________\n",
            "batch_normalization (BatchNo (None, 2048)              8192      \n",
            "_________________________________________________________________\n",
            "leaky_re_lu_4 (LeakyReLU)    (None, 2048)              0         \n",
            "_________________________________________________________________\n",
            "reshape (Reshape)            (None, 4, 4, 128)         0         \n",
            "_________________________________________________________________\n",
            "up_sampling2d (UpSampling2D) (None, 8, 8, 128)         0         \n",
            "_________________________________________________________________\n",
            "generator_conv_0 (Conv2D)    (None, 8, 8, 128)         409728    \n",
            "_________________________________________________________________\n",
            "batch_normalization_1 (Batch (None, 8, 8, 128)         512       \n",
            "_________________________________________________________________\n",
            "leaky_re_lu_5 (LeakyReLU)    (None, 8, 8, 128)         0         \n",
            "_________________________________________________________________\n",
            "up_sampling2d_1 (UpSampling2 (None, 16, 16, 128)       0         \n",
            "_________________________________________________________________\n",
            "generator_conv_1 (Conv2D)    (None, 16, 16, 64)        204864    \n",
            "_________________________________________________________________\n",
            "batch_normalization_2 (Batch (None, 16, 16, 64)        256       \n",
            "_________________________________________________________________\n",
            "leaky_re_lu_6 (LeakyReLU)    (None, 16, 16, 64)        0         \n",
            "_________________________________________________________________\n",
            "up_sampling2d_2 (UpSampling2 (None, 32, 32, 64)        0         \n",
            "_________________________________________________________________\n",
            "generator_conv_2 (Conv2D)    (None, 32, 32, 32)        51232     \n",
            "_________________________________________________________________\n",
            "batch_normalization_3 (Batch (None, 32, 32, 32)        128       \n",
            "_________________________________________________________________\n",
            "leaky_re_lu_7 (LeakyReLU)    (None, 32, 32, 32)        0         \n",
            "_________________________________________________________________\n",
            "generator_conv_3 (Conv2DTran (None, 32, 32, 1)         801       \n",
            "_________________________________________________________________\n",
            "activation (Activation)      (None, 32, 32, 1)         0         \n",
            "=================================================================\n",
            "Total params: 882,561\n",
            "Trainable params: 878,017\n",
            "Non-trainable params: 4,544\n",
            "_________________________________________________________________\n"
          ],
          "name": "stdout"
        }
      ]
    },
    {
      "cell_type": "markdown",
      "metadata": {
        "id": "QP4IlAfT4uN9"
      },
      "source": [
        "## Loading Weights if needed"
      ]
    },
    {
      "cell_type": "code",
      "metadata": {
        "id": "hVxabk9b4u0Z"
      },
      "source": [
        "weight_path = os.path.join(RUN_FOLDER, 'weights/weights.h5')\n",
        "if os.path.exists(weight_path):\n",
        "  gan.load_weights(weight_path)"
      ],
      "execution_count": 19,
      "outputs": []
    },
    {
      "cell_type": "markdown",
      "metadata": {
        "id": "yOFmJz8O9Aa9"
      },
      "source": [
        "## Training the GAN"
      ]
    },
    {
      "cell_type": "code",
      "metadata": {
        "id": "2UjCmsop9Aa9"
      },
      "source": [
        "epochs = 1001\n",
        "print_every_n_batches = 10"
      ],
      "execution_count": 21,
      "outputs": []
    },
    {
      "cell_type": "code",
      "metadata": {
        "scrolled": false,
        "colab": {
          "base_uri": "https://localhost:8080/"
        },
        "id": "vydVg6Gb9Aa9",
        "outputId": "bf36eb61-1118-4b59-8edc-4e24fe55fcf5"
      },
      "source": [
        "gan.train(     \n",
        "    x_train\n",
        "    , batch_size = batch_size\n",
        "    , epochs = epochs\n",
        "    , run_folder = RUN_FOLDER\n",
        "    , print_every_n_batches = print_every_n_batches\n",
        "    , using_generator = True\n",
        ")"
      ],
      "execution_count": 22,
      "outputs": [
        {
          "output_type": "stream",
          "text": [
            "0 [D loss: (0.031)(R -0.635, F 0.698)]  [G loss: -0.605] \n",
            "10 [D loss: (0.040)(R -0.351, F 0.430)]  [G loss: -0.370] \n",
            "20 [D loss: (0.009)(R -0.206, F 0.223)]  [G loss: -0.192] \n",
            "30 [D loss: (-0.001)(R -0.102, F 0.100)]  [G loss: -0.083] \n",
            "40 [D loss: (-0.014)(R -0.091, F 0.063)]  [G loss: -0.047] \n",
            "50 [D loss: (-0.051)(R -0.171, F 0.069)]  [G loss: -0.040] \n",
            "60 [D loss: (-0.028)(R -0.315, F 0.259)]  [G loss: -0.207] \n",
            "70 [D loss: (-0.060)(R -0.495, F 0.375)]  [G loss: -0.316] \n",
            "80 [D loss: (-0.064)(R -0.719, F 0.590)]  [G loss: -0.515] \n",
            "90 [D loss: (-0.104)(R -0.931, F 0.724)]  [G loss: -0.642] \n",
            "100 [D loss: (-0.077)(R -1.089, F 0.935)]  [G loss: -0.832] \n",
            "110 [D loss: (-0.087)(R -1.058, F 0.884)]  [G loss: -0.762] \n",
            "120 [D loss: (-0.148)(R -1.136, F 0.840)]  [G loss: -0.729] \n",
            "130 [D loss: (-0.170)(R -1.268, F 0.929)]  [G loss: -0.801] \n",
            "140 [D loss: (-0.064)(R -1.212, F 1.085)]  [G loss: -0.929] \n",
            "150 [D loss: (-0.108)(R -1.259, F 1.042)]  [G loss: -0.916] \n",
            "160 [D loss: (-0.106)(R -1.310, F 1.098)]  [G loss: -0.984] \n",
            "170 [D loss: (-0.074)(R -1.262, F 1.113)]  [G loss: -0.985] \n",
            "180 [D loss: (-0.112)(R -1.208, F 0.984)]  [G loss: -0.851] \n",
            "190 [D loss: (-0.128)(R -1.177, F 0.920)]  [G loss: -0.791] \n",
            "200 [D loss: (-0.083)(R -1.087, F 0.921)]  [G loss: -0.766] \n",
            "210 [D loss: (-0.101)(R -1.048, F 0.845)]  [G loss: -0.725] \n",
            "220 [D loss: (-0.166)(R -1.217, F 0.886)]  [G loss: -0.723] \n",
            "230 [D loss: (-0.092)(R -0.987, F 0.803)]  [G loss: -0.661] \n",
            "240 [D loss: (-0.137)(R -0.839, F 0.565)]  [G loss: -0.457] \n",
            "250 [D loss: (-0.125)(R -0.897, F 0.648)]  [G loss: -0.528] \n",
            "260 [D loss: (-0.129)(R -0.836, F 0.579)]  [G loss: -0.426] \n",
            "270 [D loss: (-0.185)(R -0.871, F 0.500)]  [G loss: -0.341] \n",
            "280 [D loss: (-0.225)(R -0.837, F 0.388)]  [G loss: -0.238] \n",
            "290 [D loss: (-0.305)(R -0.931, F 0.321)]  [G loss: -0.090] \n",
            "300 [D loss: (-0.302)(R -0.962, F 0.359)]  [G loss: -0.142] \n",
            "310 [D loss: (-0.313)(R -1.069, F 0.443)]  [G loss: -0.139] \n",
            "320 [D loss: (-0.403)(R -1.288, F 0.481)]  [G loss: -0.113] \n",
            "330 [D loss: (-0.424)(R -1.212, F 0.364)]  [G loss: -0.088] \n",
            "340 [D loss: (-0.501)(R -1.519, F 0.516)]  [G loss: -0.108] \n",
            "350 [D loss: (-0.482)(R -1.306, F 0.342)]  [G loss: -0.047] \n",
            "360 [D loss: (-0.525)(R -1.541, F 0.491)]  [G loss: -0.005] \n",
            "370 [D loss: (-0.521)(R -1.570, F 0.527)]  [G loss: 0.046] \n",
            "380 [D loss: (-0.426)(R -1.485, F 0.632)]  [G loss: 0.005] \n",
            "390 [D loss: (-0.369)(R -1.292, F 0.554)]  [G loss: 0.015] \n",
            "400 [D loss: (-0.404)(R -1.367, F 0.558)]  [G loss: -0.070] \n",
            "410 [D loss: (-0.428)(R -1.428, F 0.573)]  [G loss: 0.020] \n",
            "420 [D loss: (-0.312)(R -1.303, F 0.678)]  [G loss: -0.034] \n",
            "430 [D loss: (-0.344)(R -1.465, F 0.777)]  [G loss: -0.132] \n",
            "440 [D loss: (-0.281)(R -1.080, F 0.519)]  [G loss: -0.173] \n",
            "450 [D loss: (-0.334)(R -1.073, F 0.404)]  [G loss: -0.019] \n",
            "460 [D loss: (-0.215)(R -0.724, F 0.295)]  [G loss: 0.123] \n",
            "470 [D loss: (-0.277)(R -1.035, F 0.481)]  [G loss: 0.035] \n",
            "480 [D loss: (-0.232)(R -1.087, F 0.624)]  [G loss: -0.128] \n",
            "490 [D loss: (-0.304)(R -1.359, F 0.752)]  [G loss: -0.438] \n",
            "500 [D loss: (-0.131)(R -1.113, F 0.852)]  [G loss: -0.415] \n",
            "510 [D loss: (-0.152)(R -1.532, F 1.229)]  [G loss: -0.776] \n",
            "520 [D loss: (-0.214)(R -1.953, F 1.525)]  [G loss: -0.919] \n",
            "530 [D loss: (-0.185)(R -2.184, F 1.813)]  [G loss: -1.429] \n",
            "540 [D loss: (-0.173)(R -2.135, F 1.789)]  [G loss: -1.290] \n",
            "550 [D loss: (-0.114)(R -1.911, F 1.683)]  [G loss: -1.257] \n",
            "560 [D loss: (-0.111)(R -1.911, F 1.690)]  [G loss: -1.195] \n",
            "570 [D loss: (-0.180)(R -1.723, F 1.362)]  [G loss: -0.883] \n",
            "580 [D loss: (-0.140)(R -1.517, F 1.236)]  [G loss: -0.757] \n",
            "590 [D loss: (-0.180)(R -1.618, F 1.258)]  [G loss: -0.725] \n",
            "600 [D loss: (-0.176)(R -1.601, F 1.250)]  [G loss: -0.827] \n",
            "610 [D loss: (-0.193)(R -1.535, F 1.149)]  [G loss: -0.808] \n",
            "620 [D loss: (-0.156)(R -1.609, F 1.298)]  [G loss: -0.760] \n",
            "630 [D loss: (-0.102)(R -1.568, F 1.365)]  [G loss: -0.814] \n",
            "640 [D loss: (-0.085)(R -1.371, F 1.200)]  [G loss: -0.679] \n",
            "650 [D loss: (-0.092)(R -1.184, F 1.000)]  [G loss: -0.568] \n",
            "660 [D loss: (-0.094)(R -1.204, F 1.016)]  [G loss: -0.608] \n",
            "670 [D loss: (-0.093)(R -1.262, F 1.075)]  [G loss: -0.603] \n",
            "680 [D loss: (-0.101)(R -1.332, F 1.130)]  [G loss: -0.731] \n",
            "690 [D loss: (-0.087)(R -1.288, F 1.114)]  [G loss: -0.658] \n",
            "700 [D loss: (-0.079)(R -1.229, F 1.072)]  [G loss: -0.678] \n",
            "710 [D loss: (-0.081)(R -1.473, F 1.311)]  [G loss: -0.873] \n",
            "720 [D loss: (-0.075)(R -1.508, F 1.357)]  [G loss: -0.912] \n",
            "730 [D loss: (-0.131)(R -1.560, F 1.298)]  [G loss: -0.823] \n",
            "740 [D loss: (-0.121)(R -1.611, F 1.369)]  [G loss: -0.941] \n",
            "750 [D loss: (-0.135)(R -1.318, F 1.048)]  [G loss: -0.539] \n",
            "760 [D loss: (-0.126)(R -1.420, F 1.169)]  [G loss: -0.741] \n",
            "770 [D loss: (-0.110)(R -1.546, F 1.326)]  [G loss: -0.858] \n",
            "780 [D loss: (-0.185)(R -1.532, F 1.163)]  [G loss: -0.809] \n",
            "790 [D loss: (-0.138)(R -1.575, F 1.300)]  [G loss: -0.745] \n",
            "800 [D loss: (-0.090)(R -1.414, F 1.235)]  [G loss: -0.784] \n",
            "810 [D loss: (-0.152)(R -1.355, F 1.051)]  [G loss: -0.584] \n",
            "820 [D loss: (-0.113)(R -1.437, F 1.210)]  [G loss: -0.770] \n",
            "830 [D loss: (-0.185)(R -1.484, F 1.115)]  [G loss: -0.608] \n",
            "840 [D loss: (-0.112)(R -1.390, F 1.167)]  [G loss: -0.747] \n",
            "850 [D loss: (-0.131)(R -1.259, F 0.997)]  [G loss: -0.571] \n",
            "860 [D loss: (-0.124)(R -1.224, F 0.975)]  [G loss: -0.487] \n",
            "870 [D loss: (-0.115)(R -1.340, F 1.109)]  [G loss: -0.608] \n",
            "880 [D loss: (-0.149)(R -1.238, F 0.939)]  [G loss: -0.557] \n",
            "890 [D loss: (-0.134)(R -1.196, F 0.927)]  [G loss: -0.484] \n",
            "900 [D loss: (-0.138)(R -1.078, F 0.801)]  [G loss: -0.394] \n",
            "910 [D loss: (-0.124)(R -1.055, F 0.807)]  [G loss: -0.399] \n",
            "920 [D loss: (-0.135)(R -1.082, F 0.812)]  [G loss: -0.377] \n",
            "930 [D loss: (-0.094)(R -1.126, F 0.937)]  [G loss: -0.469] \n",
            "940 [D loss: (-0.133)(R -1.065, F 0.800)]  [G loss: -0.333] \n",
            "950 [D loss: (-0.095)(R -0.996, F 0.805)]  [G loss: -0.367] \n",
            "960 [D loss: (-0.076)(R -0.998, F 0.846)]  [G loss: -0.412] \n",
            "970 [D loss: (-0.085)(R -1.070, F 0.899)]  [G loss: -0.460] \n",
            "980 [D loss: (-0.117)(R -0.983, F 0.750)]  [G loss: -0.353] \n",
            "990 [D loss: (-0.113)(R -0.928, F 0.701)]  [G loss: -0.357] \n",
            "1000 [D loss: (-0.087)(R -1.047, F 0.874)]  [G loss: -0.386] \n"
          ],
          "name": "stdout"
        }
      ]
    },
    {
      "cell_type": "code",
      "metadata": {
        "id": "0uWeQAt0-ZoT",
        "colab": {
          "base_uri": "https://localhost:8080/"
        },
        "outputId": "3d4e643e-9beb-4798-cf80-97bcac7d040b"
      },
      "source": [
        "gan.g_losses[0]"
      ],
      "execution_count": 23,
      "outputs": [
        {
          "output_type": "execute_result",
          "data": {
            "text/plain": [
              "-0.6048866510391235"
            ]
          },
          "metadata": {
            "tags": []
          },
          "execution_count": 23
        }
      ]
    },
    {
      "cell_type": "code",
      "metadata": {
        "colab": {
          "base_uri": "https://localhost:8080/",
          "height": 287
        },
        "id": "98cbEL7r9Aa9",
        "outputId": "65883cc8-11c3-4f71-8ec6-57174599cc3b"
      },
      "source": [
        "fig = plt.figure()\n",
        "plt.plot([x[0] for x in gan.d_losses], color='black', linewidth=0.25)\n",
        "\n",
        "plt.plot([x[1] for x in gan.d_losses], color='green', linewidth=0.25)\n",
        "plt.plot([x[2] for x in gan.d_losses], color='red', linewidth=0.25)\n",
        "plt.plot([x for x in gan.g_losses], color='orange', linewidth=0.25)\n",
        "\n",
        "plt.xlabel('batch', fontsize=18)\n",
        "plt.ylabel('loss', fontsize=16)\n",
        "\n",
        "plt.show()\n"
      ],
      "execution_count": 24,
      "outputs": [
        {
          "output_type": "display_data",
          "data": {
            "image/png": "[encoded data removed]",
            "text/plain": [
              "<Figure size 432x288 with 1 Axes>"
            ]
          },
          "metadata": {
            "tags": [],
            "needs_background": "light"
          }
        }
      ]
    },
    {
      "cell_type": "code",
      "metadata": {
        "colab": {
          "base_uri": "https://localhost:8080/",
          "height": 287
        },
        "id": "4lkePybT9Aa9",
        "outputId": "4fe3cd57-39c8-4f90-cbba-f2df28016e65"
      },
      "source": [
        "fig = plt.figure()\n",
        "plt.plot(gan.d_losses, color='black', linewidth=0.25)\n",
        "plt.plot(gan.g_losses, color='orange', linewidth=0.25)\n",
        "plt.xlabel('batch', fontsize=18)\n",
        "plt.ylabel('accuracy', fontsize=16)\n",
        "plt.show()"
      ],
      "execution_count": 25,
      "outputs": [
        {
          "output_type": "display_data",
          "data": {
            "image/png": "[encoded data removed]",
            "text/plain": [
              "<Figure size 432x288 with 1 Axes>"
            ]
          },
          "metadata": {
            "tags": [],
            "needs_background": "light"
          }
        }
      ]
    },
    {
      "cell_type": "markdown",
      "metadata": {
        "id": "HMKebtnfM7-r"
      },
      "source": [
        "## Displaying generated images\n",
        "Now we display the latest images this GAN generated. "
      ]
    },
    {
      "cell_type": "code",
      "metadata": {
        "id": "vyi1cHyh9Aa9",
        "colab": {
          "base_uri": "https://localhost:8080/"
        },
        "outputId": "cc0bb957-04ad-4af9-ef9b-61a08c651c9c"
      },
      "source": [
        "import PIL\n",
        "image_path = os.path.join(RUN_FOLDER, 'images/sample_1000.png')\n",
        "image = PIL.Image.open(image_path).convert('L')\n",
        "image_tensor = np.array(image)\n",
        "print(image_tensor.shape)"
      ],
      "execution_count": 28,
      "outputs": [
        {
          "output_type": "stream",
          "text": [
            "(1080, 1080)\n"
          ],
          "name": "stdout"
        }
      ]
    },
    {
      "cell_type": "code",
      "metadata": {
        "colab": {
          "base_uri": "https://localhost:8080/",
          "height": 269
        },
        "id": "Sduc2ZctOBAW",
        "outputId": "0eba25cf-e153-4723-9fe0-3c939b414682"
      },
      "source": [
        "plt.imshow(image_tensor)\n",
        "plt.show()"
      ],
      "execution_count": 29,
      "outputs": [
        {
          "output_type": "display_data",
          "data": {
            "image/png": "[encoded data removed]",
            "text/plain": [
              "<Figure size 432x288 with 1 Axes>"
            ]
          },
          "metadata": {
            "tags": [],
            "needs_background": "light"
          }
        }
      ]
    }
  ]
}