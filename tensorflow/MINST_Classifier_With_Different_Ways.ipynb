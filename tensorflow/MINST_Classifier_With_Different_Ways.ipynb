{
  "nbformat": 4,
  "nbformat_minor": 0,
  "metadata": {
    "colab": {
      "name": "MINST Classifier With Different Ways.ipynb",
      "provenance": [],
      "collapsed_sections": [],
      "authorship_tag": "ABX9TyNN+LJkbu3t44AmvftZnh8s",
      "include_colab_link": true
    },
    "kernelspec": {
      "name": "python3",
      "display_name": "Python 3"
    },
    "language_info": {
      "name": "python"
    }
  },
  "cells": [
    {
      "cell_type": "markdown",
      "metadata": {
        "id": "view-in-github",
        "colab_type": "text"
      },
      "source": [
        "<a href=\"https://colab.research.google.com/github/LoniQin/deep_learning_notebooks/blob/master/tensorflow/MINST_Classifier_With_Different_Ways.ipynb\" target=\"_parent\"><img src=\"https://colab.research.google.com/assets/colab-badge.svg\" alt=\"Open In Colab\"/></a>"
      ]
    },
    {
      "cell_type": "markdown",
      "metadata": {
        "id": "H1g4edma6wxu"
      },
      "source": [
        "## MNIST Classifier"
      ]
    },
    {
      "cell_type": "code",
      "metadata": {
        "id": "NKrZbfln61Kp"
      },
      "source": [
        "import tensorflow as tf"
      ],
      "execution_count": 1,
      "outputs": []
    },
    {
      "cell_type": "markdown",
      "metadata": {
        "id": "nxNyBg3q7GOC"
      },
      "source": [
        "## Load data"
      ]
    },
    {
      "cell_type": "code",
      "metadata": {
        "id": "-TkWfBd57Kt7",
        "colab": {
          "base_uri": "https://localhost:8080/"
        },
        "outputId": "6514148a-f968-43c1-acee-811d77a90c35"
      },
      "source": [
        "(x_train ,y_train), validation_data = tf.keras.datasets.mnist.load_data()"
      ],
      "execution_count": 5,
      "outputs": [
        {
          "output_type": "stream",
          "text": [
            "Downloading data from https://storage.googleapis.com/tensorflow/tf-keras-datasets/mnist.npz\n",
            "11493376/11490434 [==============================] - 0s 0us/step\n"
          ],
          "name": "stdout"
        }
      ]
    },
    {
      "cell_type": "markdown",
      "metadata": {
        "id": "5jW4Y8wX7Vzn"
      },
      "source": [
        "## Train with LSTM"
      ]
    },
    {
      "cell_type": "code",
      "metadata": {
        "id": "llb1BaLI7X3k",
        "colab": {
          "base_uri": "https://localhost:8080/"
        },
        "outputId": "c3fa9fc0-6d91-4792-994b-977a8c526131"
      },
      "source": [
        "lstm_model = tf.keras.models.Sequential([\n",
        "  tf.keras.layers.InputLayer((28, 28)),\n",
        "  tf.keras.layers.Reshape((28, 28)),\n",
        "  tf.keras.layers.LSTM(128), \n",
        "  tf.keras.layers.Dense(10, activation='softmax')                        \n",
        "])\n",
        "lstm_model.compile(optimizer='adam', loss=tf.keras.losses.SparseCategoricalCrossentropy(), metrics=['accuracy'])\n",
        "lstm_model.summary()\n",
        "lstm_model.fit(x_train, y_train, batch_size=128, epochs=10, validation_data=validation_data)"
      ],
      "execution_count": 38,
      "outputs": [
        {
          "output_type": "stream",
          "text": [
            "Model: \"sequential_17\"\n",
            "_________________________________________________________________\n",
            "Layer (type)                 Output Shape              Param #   \n",
            "=================================================================\n",
            "reshape_15 (Reshape)         (None, 28, 28)            0         \n",
            "_________________________________________________________________\n",
            "lstm_15 (LSTM)               (None, 128)               80384     \n",
            "_________________________________________________________________\n",
            "dense_24 (Dense)             (None, 10)                1290      \n",
            "=================================================================\n",
            "Total params: 81,674\n",
            "Trainable params: 81,674\n",
            "Non-trainable params: 0\n",
            "_________________________________________________________________\n",
            "Epoch 1/10\n",
            "469/469 [==============================] - 4s 5ms/step - loss: 1.0341 - accuracy: 0.6551 - val_loss: 0.3905 - val_accuracy: 0.8662\n",
            "Epoch 2/10\n",
            "469/469 [==============================] - 2s 4ms/step - loss: 0.3531 - accuracy: 0.8816 - val_loss: 0.3111 - val_accuracy: 0.8978\n",
            "Epoch 3/10\n",
            "469/469 [==============================] - 2s 4ms/step - loss: 0.2766 - accuracy: 0.9082 - val_loss: 0.2634 - val_accuracy: 0.9110\n",
            "Epoch 4/10\n",
            "469/469 [==============================] - 2s 4ms/step - loss: 0.2373 - accuracy: 0.9187 - val_loss: 0.2640 - val_accuracy: 0.9139\n",
            "Epoch 5/10\n",
            "469/469 [==============================] - 2s 4ms/step - loss: 0.2119 - accuracy: 0.9302 - val_loss: 0.2234 - val_accuracy: 0.9299\n",
            "Epoch 6/10\n",
            "469/469 [==============================] - 2s 4ms/step - loss: 0.1839 - accuracy: 0.9391 - val_loss: 0.2134 - val_accuracy: 0.9309\n",
            "Epoch 7/10\n",
            "469/469 [==============================] - 2s 4ms/step - loss: 0.1694 - accuracy: 0.9436 - val_loss: 0.2061 - val_accuracy: 0.9329\n",
            "Epoch 8/10\n",
            "469/469 [==============================] - 2s 4ms/step - loss: 0.1629 - accuracy: 0.9465 - val_loss: 0.2001 - val_accuracy: 0.9357\n",
            "Epoch 9/10\n",
            "469/469 [==============================] - 2s 4ms/step - loss: 0.1470 - accuracy: 0.9513 - val_loss: 0.1963 - val_accuracy: 0.9383\n",
            "Epoch 10/10\n",
            "469/469 [==============================] - 2s 4ms/step - loss: 0.1361 - accuracy: 0.9546 - val_loss: 0.1886 - val_accuracy: 0.9395\n"
          ],
          "name": "stdout"
        },
        {
          "output_type": "execute_result",
          "data": {
            "text/plain": [
              "<tensorflow.python.keras.callbacks.History at 0x7fbf93209490>"
            ]
          },
          "metadata": {
            "tags": []
          },
          "execution_count": 38
        }
      ]
    },
    {
      "cell_type": "markdown",
      "metadata": {
        "id": "7Hmr1nV_SFLy"
      },
      "source": [
        "## Train with Bidirectional LSTM"
      ]
    },
    {
      "cell_type": "code",
      "metadata": {
        "colab": {
          "base_uri": "https://localhost:8080/"
        },
        "id": "sGsTGHlzSHWY",
        "outputId": "e7890c6e-d186-42c8-a2b9-e9721ddd4f98"
      },
      "source": [
        "bi_lstm_model = tf.keras.models.Sequential([\n",
        "  tf.keras.layers.InputLayer((28, 28)),\n",
        "  tf.keras.layers.Reshape((28, 28)),\n",
        "  tf.keras.layers.Bidirectional(tf.keras.layers.LSTM(128)), \n",
        "  tf.keras.layers.Dense(10, activation='softmax')                        \n",
        "])\n",
        "bi_lstm_model.compile(optimizer='adam', loss=tf.keras.losses.SparseCategoricalCrossentropy(), metrics=['accuracy'])\n",
        "bi_lstm_model.summary()\n",
        "bi_lstm_model.fit(x_train, y_train, batch_size=128, epochs=10, validation_data=validation_data)"
      ],
      "execution_count": 37,
      "outputs": [
        {
          "output_type": "stream",
          "text": [
            "Model: \"sequential_16\"\n",
            "_________________________________________________________________\n",
            "Layer (type)                 Output Shape              Param #   \n",
            "=================================================================\n",
            "reshape_14 (Reshape)         (None, 28, 28)            0         \n",
            "_________________________________________________________________\n",
            "bidirectional_6 (Bidirection (None, 256)               160768    \n",
            "_________________________________________________________________\n",
            "dense_23 (Dense)             (None, 10)                2570      \n",
            "=================================================================\n",
            "Total params: 163,338\n",
            "Trainable params: 163,338\n",
            "Non-trainable params: 0\n",
            "_________________________________________________________________\n",
            "Epoch 1/10\n",
            "469/469 [==============================] - 6s 8ms/step - loss: 0.7292 - accuracy: 0.7785 - val_loss: 0.2098 - val_accuracy: 0.9337\n",
            "Epoch 2/10\n",
            "469/469 [==============================] - 3s 7ms/step - loss: 0.1778 - accuracy: 0.9435 - val_loss: 0.1664 - val_accuracy: 0.9449\n",
            "Epoch 3/10\n",
            "469/469 [==============================] - 3s 7ms/step - loss: 0.1369 - accuracy: 0.9557 - val_loss: 0.1529 - val_accuracy: 0.9515\n",
            "Epoch 4/10\n",
            "469/469 [==============================] - 3s 7ms/step - loss: 0.1164 - accuracy: 0.9607 - val_loss: 0.1314 - val_accuracy: 0.9576\n",
            "Epoch 5/10\n",
            "469/469 [==============================] - 3s 7ms/step - loss: 0.0981 - accuracy: 0.9687 - val_loss: 0.1239 - val_accuracy: 0.9600\n",
            "Epoch 6/10\n",
            "469/469 [==============================] - 3s 7ms/step - loss: 0.0839 - accuracy: 0.9728 - val_loss: 0.1149 - val_accuracy: 0.9643\n",
            "Epoch 7/10\n",
            "469/469 [==============================] - 3s 7ms/step - loss: 0.0776 - accuracy: 0.9751 - val_loss: 0.1121 - val_accuracy: 0.9652\n",
            "Epoch 8/10\n",
            "469/469 [==============================] - 3s 7ms/step - loss: 0.0688 - accuracy: 0.9778 - val_loss: 0.1055 - val_accuracy: 0.9645\n",
            "Epoch 9/10\n",
            "469/469 [==============================] - 3s 7ms/step - loss: 0.0621 - accuracy: 0.9796 - val_loss: 0.1132 - val_accuracy: 0.9627\n",
            "Epoch 10/10\n",
            "469/469 [==============================] - 3s 7ms/step - loss: 0.0589 - accuracy: 0.9807 - val_loss: 0.1068 - val_accuracy: 0.9650\n"
          ],
          "name": "stdout"
        },
        {
          "output_type": "execute_result",
          "data": {
            "text/plain": [
              "<tensorflow.python.keras.callbacks.History at 0x7fbf9553a690>"
            ]
          },
          "metadata": {
            "tags": []
          },
          "execution_count": 37
        }
      ]
    },
    {
      "cell_type": "markdown",
      "metadata": {
        "id": "kORbDXnYSnR-"
      },
      "source": [
        "## Train with Conv1D"
      ]
    },
    {
      "cell_type": "code",
      "metadata": {
        "colab": {
          "base_uri": "https://localhost:8080/"
        },
        "id": "USB2Z4t1SsW8",
        "outputId": "39f7169b-edc9-4fc0-9a77-00fc881cac64"
      },
      "source": [
        "conv1d_model = tf.keras.models.Sequential([\n",
        "  tf.keras.layers.InputLayer((28, 28)),\n",
        "  tf.keras.layers.Reshape((28, 28)),\n",
        "  tf.keras.layers.Conv1D(128, 1), \n",
        "  tf.keras.layers.Flatten(),\n",
        "  tf.keras.layers.Dense(10, activation='softmax')                        \n",
        "])\n",
        "conv1d_model.compile(optimizer='adam', loss=tf.keras.losses.SparseCategoricalCrossentropy(), metrics=['accuracy'])\n",
        "conv1d_model.summary()\n",
        "conv1d_model.fit(x_train, y_train, batch_size=128, epochs=10, validation_data=validation_data)"
      ],
      "execution_count": 39,
      "outputs": [
        {
          "output_type": "stream",
          "text": [
            "Model: \"sequential_18\"\n",
            "_________________________________________________________________\n",
            "Layer (type)                 Output Shape              Param #   \n",
            "=================================================================\n",
            "reshape_16 (Reshape)         (None, 28, 28)            0         \n",
            "_________________________________________________________________\n",
            "conv1d_3 (Conv1D)            (None, 28, 128)           3712      \n",
            "_________________________________________________________________\n",
            "flatten_8 (Flatten)          (None, 3584)              0         \n",
            "_________________________________________________________________\n",
            "dense_25 (Dense)             (None, 10)                35850     \n",
            "=================================================================\n",
            "Total params: 39,562\n",
            "Trainable params: 39,562\n",
            "Non-trainable params: 0\n",
            "_________________________________________________________________\n",
            "Epoch 1/10\n",
            "469/469 [==============================] - 2s 3ms/step - loss: 11.3402 - accuracy: 0.7969 - val_loss: 3.9000 - val_accuracy: 0.8805\n",
            "Epoch 2/10\n",
            "469/469 [==============================] - 1s 2ms/step - loss: 3.6315 - accuracy: 0.8717 - val_loss: 3.1929 - val_accuracy: 0.8678\n",
            "Epoch 3/10\n",
            "469/469 [==============================] - 1s 2ms/step - loss: 2.4488 - accuracy: 0.8745 - val_loss: 2.1959 - val_accuracy: 0.8660\n",
            "Epoch 4/10\n",
            "469/469 [==============================] - 1s 3ms/step - loss: 1.8331 - accuracy: 0.8791 - val_loss: 1.7400 - val_accuracy: 0.8762\n",
            "Epoch 5/10\n",
            "469/469 [==============================] - 1s 3ms/step - loss: 1.5351 - accuracy: 0.8806 - val_loss: 1.5416 - val_accuracy: 0.8735\n",
            "Epoch 6/10\n",
            "469/469 [==============================] - 1s 2ms/step - loss: 1.3065 - accuracy: 0.8788 - val_loss: 1.3392 - val_accuracy: 0.8860\n",
            "Epoch 7/10\n",
            "469/469 [==============================] - 1s 3ms/step - loss: 1.2576 - accuracy: 0.8766 - val_loss: 1.2603 - val_accuracy: 0.8749\n",
            "Epoch 8/10\n",
            "469/469 [==============================] - 1s 2ms/step - loss: 1.0680 - accuracy: 0.8832 - val_loss: 1.0732 - val_accuracy: 0.8833\n",
            "Epoch 9/10\n",
            "469/469 [==============================] - 1s 2ms/step - loss: 1.0119 - accuracy: 0.8783 - val_loss: 0.9500 - val_accuracy: 0.8812\n",
            "Epoch 10/10\n",
            "469/469 [==============================] - 1s 3ms/step - loss: 0.8885 - accuracy: 0.8793 - val_loss: 0.9357 - val_accuracy: 0.8711\n"
          ],
          "name": "stdout"
        },
        {
          "output_type": "execute_result",
          "data": {
            "text/plain": [
              "<tensorflow.python.keras.callbacks.History at 0x7fc035b79210>"
            ]
          },
          "metadata": {
            "tags": []
          },
          "execution_count": 39
        }
      ]
    }
  ]
}