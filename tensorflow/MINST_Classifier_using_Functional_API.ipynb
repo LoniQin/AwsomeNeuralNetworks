{
  "nbformat": 4,
  "nbformat_minor": 0,
  "metadata": {
    "colab": {
      "name": "MINST Classifier using Functional API.ipynb",
      "provenance": [],
      "collapsed_sections": [],
      "authorship_tag": "ABX9TyMefIDNWAorr0s+XYSRZckO",
      "include_colab_link": true
    },
    "kernelspec": {
      "name": "python3",
      "display_name": "Python 3"
    },
    "language_info": {
      "name": "python"
    }
  },
  "cells": [
    {
      "cell_type": "markdown",
      "metadata": {
        "id": "view-in-github",
        "colab_type": "text"
      },
      "source": [
        "<a href=\"https://colab.research.google.com/github/LoniQin/deep_learning_notebooks/blob/master/tensorflow/MINST_Classifier_using_Functional_API.ipynb\" target=\"_parent\"><img src=\"https://colab.research.google.com/assets/colab-badge.svg\" alt=\"Open In Colab\"/></a>"
      ]
    },
    {
      "cell_type": "markdown",
      "metadata": {
        "id": "H1g4edma6wxu"
      },
      "source": [
        "## MNIST Classifier using Functional API"
      ]
    },
    {
      "cell_type": "code",
      "metadata": {
        "id": "NKrZbfln61Kp"
      },
      "source": [
        "import tensorflow as tf"
      ],
      "execution_count": null,
      "outputs": []
    },
    {
      "cell_type": "markdown",
      "metadata": {
        "id": "nxNyBg3q7GOC"
      },
      "source": [
        "## Load data"
      ]
    },
    {
      "cell_type": "code",
      "metadata": {
        "id": "-TkWfBd57Kt7",
        "colab": {
          "base_uri": "https://localhost:8080/"
        },
        "outputId": "1fb97d06-c6da-4c5a-ddfb-e3e4ce2808bc"
      },
      "source": [
        "(x_train ,y_train), (x_test, y_test) = tf.keras.datasets.mnist.load_data()"
      ],
      "execution_count": null,
      "outputs": [
        {
          "output_type": "stream",
          "text": [
            "Downloading data from https://storage.googleapis.com/tensorflow/tf-keras-datasets/mnist.npz\n",
            "11493376/11490434 [==============================] - 0s 0us/step\n"
          ],
          "name": "stdout"
        }
      ]
    },
    {
      "cell_type": "code",
      "metadata": {
        "id": "f4y2Spudk-Lv"
      },
      "source": [
        "x_train = x_train.reshape((-1, 28, 28, 1)) / 255.0\n",
        "x_test = x_test.reshape((-1, 28, 28, 1)) / 255.0"
      ],
      "execution_count": null,
      "outputs": []
    },
    {
      "cell_type": "markdown",
      "metadata": {
        "id": "5jW4Y8wX7Vzn"
      },
      "source": [
        "## Build the Model"
      ]
    },
    {
      "cell_type": "code",
      "metadata": {
        "id": "llb1BaLI7X3k"
      },
      "source": [
        "input = tf.keras.layers.Input((28, 28, 1))\n",
        "x = tf.keras.layers.Conv2D(32, 3, strides=2, padding='same', activation='relu')(input)\n",
        "x = tf.keras.layers.BatchNormalization()(x)\n",
        "x = tf.keras.layers.Dropout(0.3)(x)\n",
        "x = tf.keras.layers.Conv2D(64, 3, strides=2, padding='same', activation='relu')(x)\n",
        "x = tf.keras.layers.BatchNormalization()(x)\n",
        "x = tf.keras.layers.Dropout(0.3)(x)\n",
        "x = tf.keras.layers.Conv2D(128, 3, strides=2, padding='same', activation='relu')(x)\n",
        "x = tf.keras.layers.BatchNormalization()(x)\n",
        "x = tf.keras.layers.Dropout(0.3)(x)\n",
        "x = tf.keras.layers.Flatten()(x)\n",
        "x = tf.keras.layers.Dense(128, activation='relu')(x)\n",
        "output = tf.keras.layers.Dense(10, name='output', activation='softmax')(x)\n",
        "model = tf.keras.models.Model(inputs=input, outputs=output)"
      ],
      "execution_count": null,
      "outputs": []
    },
    {
      "cell_type": "code",
      "metadata": {
        "colab": {
          "base_uri": "https://localhost:8080/"
        },
        "id": "Bz6QEmGG70Ju",
        "outputId": "3fb6bb12-2f56-4141-cb8c-2e3f5e55d76f"
      },
      "source": [
        "model.compile(optimizer='adam', loss={'output': tf.keras.losses.SparseCategoricalCrossentropy()}, metrics=['accuracy'])\n",
        "model.summary()"
      ],
      "execution_count": null,
      "outputs": [
        {
          "output_type": "stream",
          "text": [
            "Model: \"model\"\n",
            "_________________________________________________________________\n",
            "Layer (type)                 Output Shape              Param #   \n",
            "=================================================================\n",
            "input_1 (InputLayer)         [(None, 28, 28, 1)]       0         \n",
            "_________________________________________________________________\n",
            "conv2d (Conv2D)              (None, 14, 14, 32)        320       \n",
            "_________________________________________________________________\n",
            "batch_normalization (BatchNo (None, 14, 14, 32)        128       \n",
            "_________________________________________________________________\n",
            "dropout (Dropout)            (None, 14, 14, 32)        0         \n",
            "_________________________________________________________________\n",
            "conv2d_1 (Conv2D)            (None, 7, 7, 64)          18496     \n",
            "_________________________________________________________________\n",
            "batch_normalization_1 (Batch (None, 7, 7, 64)          256       \n",
            "_________________________________________________________________\n",
            "dropout_1 (Dropout)          (None, 7, 7, 64)          0         \n",
            "_________________________________________________________________\n",
            "conv2d_2 (Conv2D)            (None, 4, 4, 128)         73856     \n",
            "_________________________________________________________________\n",
            "batch_normalization_2 (Batch (None, 4, 4, 128)         512       \n",
            "_________________________________________________________________\n",
            "dropout_2 (Dropout)          (None, 4, 4, 128)         0         \n",
            "_________________________________________________________________\n",
            "flatten (Flatten)            (None, 2048)              0         \n",
            "_________________________________________________________________\n",
            "dense (Dense)                (None, 128)               262272    \n",
            "_________________________________________________________________\n",
            "output (Dense)               (None, 10)                1290      \n",
            "=================================================================\n",
            "Total params: 357,130\n",
            "Trainable params: 356,682\n",
            "Non-trainable params: 448\n",
            "_________________________________________________________________\n"
          ],
          "name": "stdout"
        }
      ]
    },
    {
      "cell_type": "markdown",
      "metadata": {
        "id": "wA2Pu0dOCWt-"
      },
      "source": [
        "## Train the model"
      ]
    },
    {
      "cell_type": "code",
      "metadata": {
        "colab": {
          "base_uri": "https://localhost:8080/"
        },
        "id": "rLj3BvoL9ygh",
        "outputId": "7893cf5a-e69a-4647-a124-49f752545583"
      },
      "source": [
        "model.fit(x_train, y_train, batch_size=128, epochs=10, validation_data=(x_test, y_test))"
      ],
      "execution_count": null,
      "outputs": [
        {
          "output_type": "stream",
          "text": [
            "Epoch 1/10\n",
            "469/469 [==============================] - 38s 80ms/step - loss: 1.9111 - accuracy: 0.6763 - val_loss: 0.1046 - val_accuracy: 0.9666\n",
            "Epoch 2/10\n",
            "469/469 [==============================] - 37s 79ms/step - loss: 0.1833 - accuracy: 0.9427 - val_loss: 0.0630 - val_accuracy: 0.9800\n",
            "Epoch 3/10\n",
            "469/469 [==============================] - 38s 80ms/step - loss: 0.1233 - accuracy: 0.9611 - val_loss: 0.0515 - val_accuracy: 0.9835\n",
            "Epoch 4/10\n",
            "469/469 [==============================] - 36s 78ms/step - loss: 0.0949 - accuracy: 0.9699 - val_loss: 0.0474 - val_accuracy: 0.9851\n",
            "Epoch 5/10\n",
            "469/469 [==============================] - 36s 77ms/step - loss: 0.0807 - accuracy: 0.9742 - val_loss: 0.0414 - val_accuracy: 0.9862\n",
            "Epoch 6/10\n",
            "469/469 [==============================] - 36s 77ms/step - loss: 0.0726 - accuracy: 0.9770 - val_loss: 0.0333 - val_accuracy: 0.9887\n",
            "Epoch 7/10\n",
            "469/469 [==============================] - 36s 77ms/step - loss: 0.0664 - accuracy: 0.9782 - val_loss: 0.0357 - val_accuracy: 0.9886\n",
            "Epoch 8/10\n",
            "469/469 [==============================] - 38s 80ms/step - loss: 0.0603 - accuracy: 0.9809 - val_loss: 0.0315 - val_accuracy: 0.9882\n",
            "Epoch 9/10\n",
            "469/469 [==============================] - 38s 81ms/step - loss: 0.0570 - accuracy: 0.9822 - val_loss: 0.0375 - val_accuracy: 0.9871\n",
            "Epoch 10/10\n",
            "469/469 [==============================] - 38s 81ms/step - loss: 0.0589 - accuracy: 0.9813 - val_loss: 0.0332 - val_accuracy: 0.9878\n"
          ],
          "name": "stdout"
        },
        {
          "output_type": "execute_result",
          "data": {
            "text/plain": [
              "<tensorflow.python.keras.callbacks.History at 0x7f2d3f28e450>"
            ]
          },
          "metadata": {
            "tags": []
          },
          "execution_count": 16
        }
      ]
    }
  ]
}