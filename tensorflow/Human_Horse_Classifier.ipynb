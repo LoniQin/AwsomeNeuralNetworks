{
  "nbformat": 4,
  "nbformat_minor": 0,
  "metadata": {
    "colab": {
      "name": "Human-Horse Classifier.ipynb",
      "provenance": [],
      "collapsed_sections": [],
      "authorship_tag": "ABX9TyNn6/SDi0L5zk3vFzk/+007",
      "include_colab_link": true
    },
    "kernelspec": {
      "name": "python3",
      "display_name": "Python 3"
    }
  },
  "cells": [
    {
      "cell_type": "markdown",
      "metadata": {
        "id": "view-in-github",
        "colab_type": "text"
      },
      "source": [
        "<a href=\"https://colab.research.google.com/github/LoniQin/deep_learning_notebooks/blob/master/tensorflow/Human_Horse_Classifier.ipynb\" target=\"_parent\"><img src=\"https://colab.research.google.com/assets/colab-badge.svg\" alt=\"Open In Colab\"/></a>"
      ]
    },
    {
      "cell_type": "markdown",
      "metadata": {
        "id": "pDLdaOudAkG9"
      },
      "source": [
        "# Human-Horse Classifier"
      ]
    },
    {
      "cell_type": "markdown",
      "metadata": {
        "id": "M3FrCVI9AqX9"
      },
      "source": [
        "## Imports"
      ]
    },
    {
      "cell_type": "code",
      "metadata": {
        "id": "lRjMFCxlAsqz"
      },
      "source": [
        "import urllib.request\n",
        "import zipfile\n",
        "from tensorflow.keras.preprocessing.image import ImageDataGenerator\n",
        "import tensorflow as tf\n",
        "from tensorflow.keras.optimizers import Adam"
      ],
      "execution_count": 13,
      "outputs": []
    },
    {
      "cell_type": "markdown",
      "metadata": {
        "id": "03NpyfvLBAmX"
      },
      "source": [
        "## Load data"
      ]
    },
    {
      "cell_type": "code",
      "metadata": {
        "colab": {
          "base_uri": "https://localhost:8080/"
        },
        "id": "FH8ZWD5qBB9e",
        "outputId": "09aba253-8d00-4d95-fd17-958be63a261d"
      },
      "source": [
        "training_url = \"https://storage.googleapis.com/laurencemoroney-blog.appspot.com/horse-or-human.zip\"\n",
        "training_file_name = \"horse-or-human.zip\"\n",
        "training_dir = 'horse-or-human/training/'\n",
        "urllib.request.urlretrieve(training_url, training_file_name)\n",
        "\n",
        "zip_ref = zipfile.ZipFile(training_file_name, 'r')\n",
        "zip_ref.extractall(training_dir)\n",
        "zip_ref.close()\n",
        "\n",
        "validation_url = \"https://storage.googleapis.com/laurencemoroney-blog.appspot.com/validation-horse-or-human.zip\"\n",
        "validation_file_name = \"validation-horse-or-human.zip\"\n",
        "validation_dir = 'horse-or-human/validation/'\n",
        "urllib.request.urlretrieve(validation_url, validation_file_name)\n",
        "\n",
        "zip_ref = zipfile.ZipFile(validation_file_name, 'r')\n",
        "zip_ref.extractall(validation_dir)\n",
        "zip_ref.close()\n",
        "\n",
        "\n",
        "\n",
        "# All images will be rescaled by 1./255\n",
        "train_datagen = ImageDataGenerator(rescale=1/255)\n",
        "\n",
        "train_generator = train_datagen.flow_from_directory(\n",
        "        training_dir,\n",
        "        target_size=(300, 300),\n",
        "        class_mode='binary')\n",
        "\n",
        "# All images will be rescaled by 1./255\n",
        "validation_datagen = ImageDataGenerator(rescale=1/255)\n",
        "\n",
        "validation_generator = train_datagen.flow_from_directory(\n",
        "        validation_dir,\n",
        "        target_size=(300, 300),\n",
        "        class_mode='binary')"
      ],
      "execution_count": 2,
      "outputs": [
        {
          "output_type": "stream",
          "text": [
            "Found 1027 images belonging to 2 classes.\n",
            "Found 256 images belonging to 2 classes.\n"
          ],
          "name": "stdout"
        }
      ]
    },
    {
      "cell_type": "markdown",
      "metadata": {
        "id": "3gvR9sOLBOOr"
      },
      "source": [
        "## Define model"
      ]
    },
    {
      "cell_type": "code",
      "metadata": {
        "id": "umn_yifPAoA0"
      },
      "source": [
        "model = tf.keras.models.Sequential([\n",
        "    # Note the input shape is the desired size of the image 300x300 with 3 bytes color\n",
        "    # This is the first convolution\n",
        "    tf.keras.layers.Conv2D(16, (3,3), activation='relu', input_shape=(300, 300, 3)),\n",
        "    tf.keras.layers.MaxPooling2D(2, 2),\n",
        "    # The second convolution\n",
        "    tf.keras.layers.Conv2D(32, (3,3), activation='relu'),\n",
        "    tf.keras.layers.MaxPooling2D(2,2),\n",
        "    # The third convolution\n",
        "    tf.keras.layers.Conv2D(64, (3,3), activation='relu'),\n",
        "    tf.keras.layers.MaxPooling2D(2,2),\n",
        "    # The fourth convolution\n",
        "    tf.keras.layers.Conv2D(64, (3,3), activation='relu'),\n",
        "    tf.keras.layers.MaxPooling2D(2,2),\n",
        "    # The fifth convolution\n",
        "    tf.keras.layers.Conv2D(64, (3,3), activation='relu'),\n",
        "    tf.keras.layers.MaxPooling2D(2,2),\n",
        "    # Flatten the results to feed into a DNN\n",
        "    tf.keras.layers.Flatten(),\n",
        "    # 512 neuron hidden layer\n",
        "    tf.keras.layers.Dense(512, activation='relu'),\n",
        "    # Only 1 output neuron. It will contain a value from 0-1 where 0 for 1 class ('horses') and 1 for the other ('humans')\n",
        "    tf.keras.layers.Dense(1, activation='sigmoid')\n",
        "])\n"
      ],
      "execution_count": 3,
      "outputs": []
    },
    {
      "cell_type": "markdown",
      "metadata": {
        "id": "rQJrCJt8Boa9"
      },
      "source": [
        "## Show summary of model"
      ]
    },
    {
      "cell_type": "code",
      "metadata": {
        "colab": {
          "base_uri": "https://localhost:8080/"
        },
        "id": "JAF1FvZCBflF",
        "outputId": "7a5bdeaa-bc37-470a-a6fb-a632649bbf78"
      },
      "source": [
        "model.summary()"
      ],
      "execution_count": 5,
      "outputs": [
        {
          "output_type": "stream",
          "text": [
            "Model: \"sequential\"\n",
            "_________________________________________________________________\n",
            "Layer (type)                 Output Shape              Param #   \n",
            "=================================================================\n",
            "conv2d (Conv2D)              (None, 298, 298, 16)      448       \n",
            "_________________________________________________________________\n",
            "max_pooling2d (MaxPooling2D) (None, 149, 149, 16)      0         \n",
            "_________________________________________________________________\n",
            "conv2d_1 (Conv2D)            (None, 147, 147, 32)      4640      \n",
            "_________________________________________________________________\n",
            "max_pooling2d_1 (MaxPooling2 (None, 73, 73, 32)        0         \n",
            "_________________________________________________________________\n",
            "conv2d_2 (Conv2D)            (None, 71, 71, 64)        18496     \n",
            "_________________________________________________________________\n",
            "max_pooling2d_2 (MaxPooling2 (None, 35, 35, 64)        0         \n",
            "_________________________________________________________________\n",
            "conv2d_3 (Conv2D)            (None, 33, 33, 64)        36928     \n",
            "_________________________________________________________________\n",
            "max_pooling2d_3 (MaxPooling2 (None, 16, 16, 64)        0         \n",
            "_________________________________________________________________\n",
            "conv2d_4 (Conv2D)            (None, 14, 14, 64)        36928     \n",
            "_________________________________________________________________\n",
            "max_pooling2d_4 (MaxPooling2 (None, 7, 7, 64)          0         \n",
            "_________________________________________________________________\n",
            "flatten (Flatten)            (None, 3136)              0         \n",
            "_________________________________________________________________\n",
            "dense (Dense)                (None, 512)               1606144   \n",
            "_________________________________________________________________\n",
            "dense_1 (Dense)              (None, 1)                 513       \n",
            "=================================================================\n",
            "Total params: 1,704,097\n",
            "Trainable params: 1,704,097\n",
            "Non-trainable params: 0\n",
            "_________________________________________________________________\n"
          ],
          "name": "stdout"
        }
      ]
    },
    {
      "cell_type": "markdown",
      "metadata": {
        "id": "wNzL1NZ_CKts"
      },
      "source": [
        "## Compile model"
      ]
    },
    {
      "cell_type": "code",
      "metadata": {
        "id": "RmCrfy2KBiSf"
      },
      "source": [
        "model.compile(loss='binary_crossentropy', optimizer='adam', metrics=['accuracy'])"
      ],
      "execution_count": 9,
      "outputs": []
    },
    {
      "cell_type": "markdown",
      "metadata": {
        "id": "X7BROxXtCY1y"
      },
      "source": [
        "## Train data"
      ]
    },
    {
      "cell_type": "code",
      "metadata": {
        "colab": {
          "base_uri": "https://localhost:8080/"
        },
        "id": "H4SgHK7qBM2D",
        "outputId": "994cb003-2edf-448f-f9fe-2cce865825f7"
      },
      "source": [
        "history = model.fit_generator(\n",
        "    train_generator,\n",
        "    epochs=10,\n",
        "    validation_data=validation_generator\n",
        ")"
      ],
      "execution_count": 10,
      "outputs": [
        {
          "output_type": "stream",
          "text": [
            "/usr/local/lib/python3.7/dist-packages/tensorflow/python/keras/engine/training.py:1844: UserWarning: `Model.fit_generator` is deprecated and will be removed in a future version. Please use `Model.fit`, which supports generators.\n",
            "  warnings.warn('`Model.fit_generator` is deprecated and '\n"
          ],
          "name": "stderr"
        },
        {
          "output_type": "stream",
          "text": [
            "Epoch 1/15\n",
            "33/33 [==============================] - 89s 3s/step - loss: 0.5468 - accuracy: 0.7701 - val_loss: 2.3217 - val_accuracy: 0.7344\n",
            "Epoch 2/15\n",
            "33/33 [==============================] - 91s 3s/step - loss: 0.2110 - accuracy: 0.9086 - val_loss: 2.6242 - val_accuracy: 0.7852\n",
            "Epoch 3/15\n",
            "33/33 [==============================] - 88s 3s/step - loss: 0.0633 - accuracy: 0.9758 - val_loss: 2.2131 - val_accuracy: 0.7070\n",
            "Epoch 4/15\n",
            "33/33 [==============================] - 88s 3s/step - loss: 0.1282 - accuracy: 0.9446 - val_loss: 1.4491 - val_accuracy: 0.8398\n",
            "Epoch 5/15\n",
            "33/33 [==============================] - 88s 3s/step - loss: 0.0222 - accuracy: 0.9928 - val_loss: 2.5665 - val_accuracy: 0.8008\n",
            "Epoch 6/15\n",
            "33/33 [==============================] - 89s 3s/step - loss: 0.0050 - accuracy: 0.9987 - val_loss: 1.9378 - val_accuracy: 0.8594\n",
            "Epoch 7/15\n",
            "33/33 [==============================] - 88s 3s/step - loss: 0.0122 - accuracy: 0.9933 - val_loss: 1.9147 - val_accuracy: 0.8398\n",
            "Epoch 8/15\n",
            "33/33 [==============================] - 88s 3s/step - loss: 0.0096 - accuracy: 0.9965 - val_loss: 4.1668 - val_accuracy: 0.7734\n",
            "Epoch 9/15\n",
            "33/33 [==============================] - 87s 3s/step - loss: 0.3978 - accuracy: 0.9232 - val_loss: 1.1444 - val_accuracy: 0.8945\n",
            "Epoch 10/15\n",
            "33/33 [==============================] - 87s 3s/step - loss: 0.2226 - accuracy: 0.9216 - val_loss: 1.3674 - val_accuracy: 0.8672\n",
            "Epoch 11/15\n",
            "33/33 [==============================] - 87s 3s/step - loss: 0.0141 - accuracy: 0.9935 - val_loss: 2.1268 - val_accuracy: 0.8281\n",
            "Epoch 12/15\n",
            "33/33 [==============================] - 87s 3s/step - loss: 0.0017 - accuracy: 1.0000 - val_loss: 2.0129 - val_accuracy: 0.8672\n",
            "Epoch 13/15\n",
            "33/33 [==============================] - 87s 3s/step - loss: 5.0638e-04 - accuracy: 1.0000 - val_loss: 2.1542 - val_accuracy: 0.8672\n",
            "Epoch 14/15\n",
            "33/33 [==============================] - 87s 3s/step - loss: 2.8419e-04 - accuracy: 1.0000 - val_loss: 2.3049 - val_accuracy: 0.8633\n",
            "Epoch 15/15\n",
            "33/33 [==============================] - 87s 3s/step - loss: 1.7800e-04 - accuracy: 1.0000 - val_loss: 2.3833 - val_accuracy: 0.8633\n"
          ],
          "name": "stdout"
        }
      ]
    },
    {
      "cell_type": "markdown",
      "metadata": {
        "id": "TldASnn9EtK5"
      },
      "source": [
        "## Plot the learning curve"
      ]
    },
    {
      "cell_type": "markdown",
      "metadata": {
        "id": "Zp7lGWyVFfy1"
      },
      "source": [
        "### Plot the accuracy vs epoch graph"
      ]
    },
    {
      "cell_type": "code",
      "metadata": {
        "id": "Gpy-yjZxHx8D"
      },
      "source": [
        "import matplotlib.pyplot as plt"
      ],
      "execution_count": 16,
      "outputs": []
    },
    {
      "cell_type": "code",
      "metadata": {
        "colab": {
          "base_uri": "https://localhost:8080/",
          "height": 295
        },
        "id": "kZo-SNthFoU_",
        "outputId": "5dc779a2-4965-4cc4-ee8c-14dc3b2ea4ef"
      },
      "source": [
        "try:\n",
        "    plt.plot(history.history['accuracy'])\n",
        "    plt.plot(history.history['val_accuracy'])\n",
        "except KeyError:\n",
        "    plt.plot(history.history['acc'])\n",
        "    plt.plot(history.history['val_acc'])\n",
        "plt.title('Accuracy vs. epochs')\n",
        "plt.ylabel('Loss')\n",
        "plt.xlabel('Epoch')\n",
        "plt.legend(['Training', 'Validation'], loc='lower right')\n",
        "plt.show() "
      ],
      "execution_count": 17,
      "outputs": [
        {
          "output_type": "display_data",
          "data": {
            "image/png": "[encoded data removed]",
            "text/plain": [
              "<Figure size 432x288 with 1 Axes>"
            ]
          },
          "metadata": {
            "tags": [],
            "needs_background": "light"
          }
        }
      ]
    },
    {
      "cell_type": "markdown",
      "metadata": {
        "id": "aKyVVcaKFaqT"
      },
      "source": [
        "### Plot the loss vs epochs graph"
      ]
    },
    {
      "cell_type": "code",
      "metadata": {
        "colab": {
          "base_uri": "https://localhost:8080/",
          "height": 295
        },
        "id": "8WwtcSxoEw1g",
        "outputId": "f2442757-a44c-4d17-c590-5f7eaa58cb12"
      },
      "source": [
        "# Evaluate the model on the test set\n",
        "plt.plot(history.history['loss'])\n",
        "plt.plot(history.history['val_loss'])\n",
        "plt.title('Loss vs. epochs')\n",
        "plt.ylabel('Loss')\n",
        "plt.xlabel('Epoch')\n",
        "plt.legend(['Training', 'Validation'], loc='upper right')\n",
        "plt.show()"
      ],
      "execution_count": 19,
      "outputs": [
        {
          "output_type": "display_data",
          "data": {
            "image/png": "[encoded data removed]",
            "text/plain": [
              "<Figure size 432x288 with 1 Axes>"
            ]
          },
          "metadata": {
            "tags": [],
            "needs_background": "light"
          }
        }
      ]
    }
  ]
}