{
  "nbformat": 4,
  "nbformat_minor": 0,
  "metadata": {
    "colab": {
      "name": "MNIST WGAN.ipynb",
      "provenance": [],
      "collapsed_sections": [],
      "toc_visible": true,
      "mount_file_id": "1R5NQ-iJV-n4_PKzFKBJ8i7yLCEiyDIPF",
      "authorship_tag": "ABX9TyNiz245Z2GE7VbGQhsW/rA3",
      "include_colab_link": true
    },
    "kernelspec": {
      "display_name": "Python 3",
      "name": "python3"
    },
    "language_info": {
      "name": "python"
    },
    "accelerator": "GPU"
  },
  "cells": [
    {
      "cell_type": "markdown",
      "metadata": {
        "id": "view-in-github",
        "colab_type": "text"
      },
      "source": [
        "<a href=\"https://colab.research.google.com/github/LoniQin/deep_learning_notebooks/blob/master/tensorflow/MNIST_WGAN.ipynb\" target=\"_parent\"><img src=\"https://colab.research.google.com/assets/colab-badge.svg\" alt=\"Open In Colab\"/></a>"
      ]
    },
    {
      "cell_type": "markdown",
      "metadata": {
        "id": "o1n5Gr7hvkkv"
      },
      "source": [
        "## Importing Packages"
      ]
    },
    {
      "cell_type": "code",
      "metadata": {
        "id": "hlUo54EHxSs8"
      },
      "source": [
        "import os\n",
        "import tensorflow as tf\n",
        "import matplotlib.pyplot as plt\n",
        "import numpy as np\n",
        "import json\n",
        "from tensorflow.keras.layers import Input, Conv2D, Flatten, Dense, Conv2DTranspose, Reshape, Lambda, Activation, BatchNormalization, LeakyReLU, Dropout, ZeroPadding2D, UpSampling2D\n",
        "from tensorflow.keras.models import Model, Sequential\n",
        "from tensorflow.keras import backend as K\n",
        "from tensorflow.keras.optimizers import Adam, RMSprop\n",
        "from tensorflow.keras.callbacks import ModelCheckpoint \n",
        "from tensorflow.keras.utils import plot_model\n",
        "from tensorflow.keras.datasets import mnist\n",
        "from tensorflow.keras.initializers import RandomNormal\n",
        "from tensorflow.keras.preprocessing.image import ImageDataGenerator, load_img, save_img, img_to_array\n",
        "from functools import partial"
      ],
      "execution_count": 1,
      "outputs": []
    },
    {
      "cell_type": "markdown",
      "metadata": {
        "id": "0M6sZ85sxrwZ"
      },
      "source": [
        "## Defining WGAN class"
      ]
    },
    {
      "cell_type": "code",
      "metadata": {
        "id": "-F9iWKozEQbT"
      },
      "source": [
        "class WGAN():\n",
        "    def __init__(self\n",
        "        , input_dim\n",
        "        , critic_conv_filters\n",
        "        , critic_conv_kernel_size\n",
        "        , critic_conv_strides\n",
        "        , critic_batch_norm_momentum\n",
        "        , critic_activation\n",
        "        , critic_dropout_rate\n",
        "        , critic_learning_rate\n",
        "        , generator_initial_dense_layer_size\n",
        "        , generator_upsample\n",
        "        , generator_conv_filters\n",
        "        , generator_conv_kernel_size\n",
        "        , generator_conv_strides\n",
        "        , generator_batch_norm_momentum\n",
        "        , generator_activation\n",
        "        , generator_dropout_rate\n",
        "        , generator_learning_rate\n",
        "        , optimiser\n",
        "        , z_dim\n",
        "        ):\n",
        "\n",
        "        self.name = 'gan'\n",
        "\n",
        "        self.input_dim = input_dim\n",
        "        self.critic_conv_filters = critic_conv_filters\n",
        "        self.critic_conv_kernel_size = critic_conv_kernel_size\n",
        "        self.critic_conv_strides = critic_conv_strides\n",
        "        self.critic_batch_norm_momentum = critic_batch_norm_momentum\n",
        "        self.critic_activation = critic_activation\n",
        "        self.critic_dropout_rate = critic_dropout_rate\n",
        "        self.critic_learning_rate = critic_learning_rate\n",
        "\n",
        "        self.generator_initial_dense_layer_size = generator_initial_dense_layer_size\n",
        "        self.generator_upsample = generator_upsample\n",
        "        self.generator_conv_filters = generator_conv_filters\n",
        "        self.generator_conv_kernel_size = generator_conv_kernel_size\n",
        "        self.generator_conv_strides = generator_conv_strides\n",
        "        self.generator_batch_norm_momentum = generator_batch_norm_momentum\n",
        "        self.generator_activation = generator_activation\n",
        "        self.generator_dropout_rate = generator_dropout_rate\n",
        "        self.generator_learning_rate = generator_learning_rate\n",
        "        \n",
        "        self.optimiser = optimiser\n",
        "\n",
        "        self.z_dim = z_dim\n",
        "\n",
        "        \n",
        "\n",
        "        self.n_layers_critic = len(critic_conv_filters)\n",
        "        self.n_layers_generator = len(generator_conv_filters)\n",
        "\n",
        "        self.weight_init = RandomNormal(mean=0., stddev=0.02)\n",
        "\n",
        "        self.d_losses = []\n",
        "        self.g_losses = []\n",
        "\n",
        "        self.epoch = 0\n",
        "\n",
        "    \n",
        "        self._build_critic()\n",
        "        self._build_generator()\n",
        "\n",
        "        self._build_adversarial()\n",
        "\n",
        "    def wasserstein(self, y_true, y_pred):\n",
        "        return - K.mean(y_true * y_pred)\n",
        "\n",
        "    def get_activation(self, activation):\n",
        "        if activation == 'leaky_relu':\n",
        "            layer = LeakyReLU(alpha = 0.2)\n",
        "        else:\n",
        "            layer = Activation(activation)\n",
        "        return layer\n",
        "\n",
        "    def _build_critic(self):\n",
        "\n",
        "        ### THE critic\n",
        "        critic_input = Input(shape=self.input_dim, name='critic_input')\n",
        "\n",
        "        x = critic_input\n",
        "\n",
        "        for i in range(self.n_layers_critic):\n",
        "\n",
        "            x = Conv2D(\n",
        "                filters = self.critic_conv_filters[i]\n",
        "                , kernel_size = self.critic_conv_kernel_size[i]\n",
        "                , strides = self.critic_conv_strides[i]\n",
        "                , padding = 'same'\n",
        "                , name = 'critic_conv_' + str(i)\n",
        "                , kernel_initializer = self.weight_init\n",
        "                )(x)\n",
        "\n",
        "            if self.critic_batch_norm_momentum and i > 0:\n",
        "                x = BatchNormalization(momentum = self.critic_batch_norm_momentum)(x)\n",
        "\n",
        "            x = self.get_activation(self.critic_activation)(x)\n",
        "\n",
        "            if self.critic_dropout_rate:\n",
        "                x = Dropout(rate = self.critic_dropout_rate)(x)\n",
        "\n",
        "        x = Flatten()(x)\n",
        "\n",
        "        critic_output = Dense(1, activation=None\n",
        "        , kernel_initializer = self.weight_init\n",
        "        )(x)\n",
        "\n",
        "        self.critic = Model(critic_input, critic_output)\n",
        "\n",
        "\n",
        "\n",
        "    def _build_generator(self):\n",
        "\n",
        "        ### THE generator\n",
        "\n",
        "        generator_input = Input(shape=(self.z_dim,), name='generator_input')\n",
        "\n",
        "        x = generator_input\n",
        "\n",
        "        x = Dense(np.prod(self.generator_initial_dense_layer_size)\n",
        "        ,kernel_initializer = self.weight_init\n",
        "        )(x)\n",
        "\n",
        "        \n",
        "        if self.generator_batch_norm_momentum:\n",
        "            x = BatchNormalization(momentum = self.generator_batch_norm_momentum)(x)\n",
        "\n",
        "        x = self.get_activation(self.generator_activation)(x)\n",
        "\n",
        "        x = Reshape(self.generator_initial_dense_layer_size)(x)\n",
        "\n",
        "        if self.generator_dropout_rate:\n",
        "            x = Dropout(rate = self.generator_dropout_rate)(x)\n",
        "\n",
        "        for i in range(self.n_layers_generator):\n",
        "\n",
        "            if self.generator_upsample[i] == 2:\n",
        "                x = UpSampling2D()(x)\n",
        "                x = Conv2D(\n",
        "                filters = self.generator_conv_filters[i]\n",
        "                , kernel_size = self.generator_conv_kernel_size[i]\n",
        "                , padding = 'same'\n",
        "                , name = 'generator_conv_' + str(i)\n",
        "                , kernel_initializer = self.weight_init\n",
        "                )(x)\n",
        "            else:\n",
        "\n",
        "                x = Conv2DTranspose(\n",
        "                    filters = self.generator_conv_filters[i]\n",
        "                    , kernel_size = self.generator_conv_kernel_size[i]\n",
        "                    , padding = 'same'\n",
        "                    , strides = self.generator_conv_strides[i]\n",
        "                    , name = 'generator_conv_' + str(i)\n",
        "                    , kernel_initializer = self.weight_init\n",
        "                    )(x)\n",
        "\n",
        "            if i < self.n_layers_generator - 1:\n",
        "\n",
        "                if self.generator_batch_norm_momentum:\n",
        "                    x = BatchNormalization(momentum = self.generator_batch_norm_momentum)(x)\n",
        "\n",
        "                x = self.get_activation(self.generator_activation)(x)\n",
        "            \n",
        "            else:\n",
        "                x = Activation('tanh')(x)\n",
        "\n",
        "\n",
        "        generator_output = x\n",
        "\n",
        "        self.generator = Model(generator_input, generator_output)\n",
        "\n",
        "\n",
        "    def get_opti(self, lr):\n",
        "        if self.optimiser == 'adam':\n",
        "            opti = Adam(lr=lr, beta_1=0.5)\n",
        "        elif self.optimiser == 'rmsprop':\n",
        "            opti = RMSprop(lr=lr)\n",
        "        else:\n",
        "            opti = Adam(lr=lr)\n",
        "\n",
        "        return opti\n",
        "\n",
        "    def set_trainable(self, m, val):\n",
        "        m.trainable = val\n",
        "        for l in m.layers:\n",
        "            l.trainable = val\n",
        "\n",
        "\n",
        "    def _build_adversarial(self):\n",
        "        \n",
        "        ### COMPILE critic\n",
        "\n",
        "        self.critic.compile(\n",
        "            optimizer=self.get_opti(self.critic_learning_rate) \n",
        "            , loss = self.wasserstein\n",
        "        )\n",
        "        \n",
        "        ### COMPILE THE FULL GAN\n",
        "\n",
        "        self.set_trainable(self.critic, False)\n",
        "\n",
        "        model_input = Input(shape=(self.z_dim,), name='model_input')\n",
        "        model_output = self.critic(self.generator(model_input))\n",
        "        self.model = Model(model_input, model_output)\n",
        "        \n",
        "        self.model.compile(\n",
        "            optimizer=self.get_opti(self.generator_learning_rate)\n",
        "            , loss=self.wasserstein\n",
        "            )\n",
        "\n",
        "        self.set_trainable(self.critic, True)\n",
        "\n",
        "\n",
        "\n",
        "    \n",
        "    def train_critic(self, x_train, batch_size, clip_threshold, using_generator):\n",
        "\n",
        "        valid = np.ones((batch_size,1))\n",
        "        fake = -np.ones((batch_size,1))\n",
        "\n",
        "        if using_generator:\n",
        "            true_imgs = next(x_train)[0]\n",
        "            if true_imgs.shape[0] != batch_size:\n",
        "                true_imgs = next(x_train)[0]\n",
        "        else:\n",
        "            idx = np.random.randint(0, x_train.shape[0], batch_size)\n",
        "            true_imgs = x_train[idx]\n",
        "        \n",
        "        \n",
        "        noise = np.random.normal(0, 1, (batch_size, self.z_dim))\n",
        "        gen_imgs = self.generator.predict(noise)\n",
        "\n",
        "        d_loss_real =   self.critic.train_on_batch(true_imgs, valid)\n",
        "        d_loss_fake =   self.critic.train_on_batch(gen_imgs, fake)\n",
        "        d_loss = 0.5 * (d_loss_real + d_loss_fake)\n",
        "\n",
        "        for l in self.critic.layers:\n",
        "            weights = l.get_weights()\n",
        "            weights = [np.clip(w, -clip_threshold, clip_threshold) for w in weights]\n",
        "            l.set_weights(weights)\n",
        "\n",
        "        return [d_loss, d_loss_real, d_loss_fake]\n",
        "\n",
        "    def train_generator(self, batch_size):\n",
        "        valid = np.ones((batch_size,1))\n",
        "        noise = np.random.normal(0, 1, (batch_size, self.z_dim))\n",
        "        return self.model.train_on_batch(noise, valid)\n",
        "\n",
        "\n",
        "    def train(self, x_train, batch_size, epochs, run_folder, print_every_n_batches = 10\n",
        "        , n_critic = 5\n",
        "        , clip_threshold = 0.01\n",
        "        , using_generator = False):\n",
        "\n",
        "        for epoch in range(self.epoch, self.epoch + epochs):\n",
        "\n",
        "            for _ in range(n_critic):\n",
        "                d_loss = self.train_critic(x_train, batch_size, clip_threshold, using_generator)\n",
        "\n",
        "            g_loss = self.train_generator(batch_size)\n",
        "               \n",
        "            # Plot the progress\n",
        "            \n",
        "            self.d_losses.append(d_loss)\n",
        "            self.g_losses.append(g_loss)\n",
        "\n",
        "            # If at save interval => save generated image samples\n",
        "            if epoch % print_every_n_batches == 0:\n",
        "                print (\"%d [D loss: (%.3f)(R %.3f, F %.3f)]  [G loss: %.3f] \" % (epoch, d_loss[0], d_loss[1], d_loss[2], g_loss))\n",
        "                self.sample_images(run_folder)\n",
        "                self.model.save_weights(os.path.join(run_folder, 'weights/weights.h5'))\n",
        "                self.save_model(run_folder)\n",
        "            \n",
        "            self.epoch+=1\n",
        "\n",
        "    def sample_images(self, run_folder):\n",
        "        r, c = 5, 5\n",
        "        noise = np.random.normal(0, 1, (r * c, self.z_dim))\n",
        "        gen_imgs = self.generator.predict(noise)\n",
        "\n",
        "        #Rescale images 0 - 1\n",
        "\n",
        "        gen_imgs = 0.5 * (gen_imgs + 1)\n",
        "        gen_imgs = np.clip(gen_imgs, 0, 1)\n",
        "\n",
        "        fig, axs = plt.subplots(r, c, figsize=(15,15))\n",
        "        cnt = 0\n",
        "\n",
        "        for i in range(r):\n",
        "            for j in range(c):\n",
        "                axs[i,j].imshow(np.squeeze(gen_imgs[cnt, :,:,:]), cmap = 'gray_r')\n",
        "                axs[i,j].axis('off')\n",
        "                cnt += 1\n",
        "        fig.savefig(os.path.join(run_folder, \"images/sample_%d.png\" % self.epoch))\n",
        "        plt.close()\n",
        "\n",
        "    def plot_model(self, run_folder):\n",
        "        plot_model(self.model, to_file=os.path.join(run_folder ,'viz/model.png'), show_shapes = True, show_layer_names = True)\n",
        "        plot_model(self.critic, to_file=os.path.join(run_folder ,'viz/critic.png'), show_shapes = True, show_layer_names = True)\n",
        "        plot_model(self.generator, to_file=os.path.join(run_folder ,'viz/generator.png'), show_shapes = True, show_layer_names = True)\n",
        "\n",
        "\n",
        "\n",
        "            \n",
        "    def save(self, folder):\n",
        "\n",
        "            with open(os.path.join(folder, 'params.pkl'), 'wb') as f:\n",
        "                pickle.dump([\n",
        "                    self.input_dim\n",
        "                    , self.critic_conv_filters\n",
        "                    , self.critic_conv_kernel_size\n",
        "                    , self.critic_conv_strides\n",
        "                    , self.critic_batch_norm_momentum\n",
        "                    , self.critic_activation\n",
        "                    , self.critic_dropout_rate\n",
        "                    , self.critic_learning_rate\n",
        "                    , self.generator_initial_dense_layer_size\n",
        "                    , self.generator_upsample\n",
        "                    , self.generator_conv_filters\n",
        "                    , self.generator_conv_kernel_size\n",
        "                    , self.generator_conv_strides\n",
        "                    , self.generator_batch_norm_momentum\n",
        "                    , self.generator_activation\n",
        "                    , self.generator_dropout_rate\n",
        "                    , self.generator_learning_rate\n",
        "                    , self.optimiser\n",
        "                    , self.z_dim\n",
        "                    ], f)\n",
        "\n",
        "            self.plot_model(folder)\n",
        "\n",
        "    def save_model(self, run_folder):\n",
        "        self.model.save(os.path.join(run_folder, 'model.h5'))\n",
        "        self.critic.save(os.path.join(run_folder, 'critic.h5'))\n",
        "        self.generator.save(os.path.join(run_folder, 'generator.h5'))\n",
        "\n",
        "    def load_weights(self, filepath):\n",
        "        self.model.load_weights(filepath)"
      ],
      "execution_count": 43,
      "outputs": []
    },
    {
      "cell_type": "markdown",
      "metadata": {
        "id": "zlD07nTu4qDC"
      },
      "source": [
        "## Creating necessary folders"
      ]
    },
    {
      "cell_type": "markdown",
      "metadata": {
        "id": "zOJgsHvrBCEd"
      },
      "source": [
        ""
      ]
    },
    {
      "cell_type": "code",
      "metadata": {
        "id": "gIPYwtEG43pA",
        "colab": {
          "base_uri": "https://localhost:8080/"
        },
        "outputId": "925c52d9-ac44-49d4-b79c-bceb9248b684"
      },
      "source": [
        "# run params\n",
        "drive_path = \"/content/drive\"\n",
        "data_path = drive_path + \"/MyDrive/data\"\n",
        "from google.colab import drive\n",
        "drive.mount(drive_path)\n",
        "section = 'gan'\n",
        "run_id = '0005'\n",
        "data_name = 'mnist'\n",
        "run_folder = data_path + '/{}/'.format(section)\n",
        "run_folder += '_'.join([run_id, data_name])\n",
        "if not os.path.exists(run_folder):\n",
        "    os.mkdir(run_folder)\n",
        "    os.mkdir(os.path.join(run_folder, 'viz'))\n",
        "    os.mkdir(os.path.join(run_folder, 'images'))\n",
        "    os.mkdir(os.path.join(run_folder, 'weights'))"
      ],
      "execution_count": 33,
      "outputs": [
        {
          "output_type": "stream",
          "text": [
            "Mounted at /content/drive\n"
          ],
          "name": "stdout"
        }
      ]
    },
    {
      "cell_type": "markdown",
      "metadata": {
        "id": "spnxVHAW6fPE"
      },
      "source": [
        "## Loading the data\n",
        "Now we load the mnist data and resize it to "
      ]
    },
    {
      "cell_type": "code",
      "metadata": {
        "id": "9L9vLi-G6g2v"
      },
      "source": [
        "batch_size = 64\n",
        "image_width = 32"
      ],
      "execution_count": 34,
      "outputs": []
    },
    {
      "cell_type": "code",
      "metadata": {
        "id": "6hQSUeQgGiHw"
      },
      "source": [
        "(x_train, y_train), (x_test, y_test) = mnist.load_data()"
      ],
      "execution_count": 50,
      "outputs": []
    },
    {
      "cell_type": "code",
      "metadata": {
        "colab": {
          "base_uri": "https://localhost:8080/"
        },
        "id": "vdp3kmhtHJh9",
        "outputId": "cfeae460-d8b9-46bd-b28b-174ff7bb5152"
      },
      "source": [
        "x_train = x_train.reshape(x_train.shape[0], 28, 28, 1)\n",
        "x_train = tf.image.resize(x_train, [image_width, image_width])\n",
        "print(x_train.shape)\n",
        "train_imgs = []\n",
        "\n",
        "index = 0\n",
        "train_labels = [] \n",
        "for i in range(x_train.shape[0]):\n",
        "  if y_train[i] == index:\n",
        "    train_imgs.append(x_train[i])\n",
        "    train_labels.append(index)\n",
        "images = np.array(train_imgs)\n",
        "print(images.shape)"
      ],
      "execution_count": 51,
      "outputs": [
        {
          "output_type": "stream",
          "text": [
            "(60000, 32, 32, 1)\n",
            "(5923, 32, 32, 1)\n"
          ],
          "name": "stdout"
        }
      ]
    },
    {
      "cell_type": "code",
      "metadata": {
        "id": "72x3P4UQSjnl"
      },
      "source": [
        "data_gen = ImageDataGenerator(preprocessing_function=lambda x: (x.astype('float32') - 127.5) / 127.5)\n",
        "x_train = data_gen.flow(\n",
        "    x=images,\n",
        "    y = train_labels,\n",
        "    batch_size = batch_size, \n",
        "    shuffle = True\n",
        ")\n"
      ],
      "execution_count": 52,
      "outputs": []
    },
    {
      "cell_type": "markdown",
      "metadata": {
        "id": "GiEpWqBIHy9D"
      },
      "source": [
        "## Displaying random image"
      ]
    },
    {
      "cell_type": "code",
      "metadata": {
        "colab": {
          "base_uri": "https://localhost:8080/"
        },
        "id": "GQ8nrwRhTGFj",
        "outputId": "7191b08a-a330-45d7-d7f0-301742dd6020"
      },
      "source": [
        "x_train[0][0][0].shape"
      ],
      "execution_count": 55,
      "outputs": [
        {
          "output_type": "execute_result",
          "data": {
            "text/plain": [
              "(32, 32, 1)"
            ]
          },
          "metadata": {
            "tags": []
          },
          "execution_count": 55
        }
      ]
    },
    {
      "cell_type": "code",
      "metadata": {
        "colab": {
          "base_uri": "https://localhost:8080/",
          "height": 283
        },
        "id": "PrTSXjrCDz5p",
        "outputId": "687f566d-8ce2-4e10-e7da-e0bf646e3de3"
      },
      "source": [
        "index = np.random.randint(0, images.shape[0])\n",
        "plt.imshow(x_train[0][0][0].reshape(image_width, image_width))"
      ],
      "execution_count": 56,
      "outputs": [
        {
          "output_type": "execute_result",
          "data": {
            "text/plain": [
              "<matplotlib.image.AxesImage at 0x7f9157343f50>"
            ]
          },
          "metadata": {
            "tags": []
          },
          "execution_count": 56
        },
        {
          "output_type": "display_data",
          "data": {
            "image/png": "[encoded data removed]",
            "text/plain": [
              "<Figure size 432x288 with 1 Axes>"
            ]
          },
          "metadata": {
            "tags": [],
            "needs_background": "light"
          }
        }
      ]
    },
    {
      "cell_type": "markdown",
      "metadata": {
        "id": "BoYQC7uvD3Ob"
      },
      "source": [
        "## Building the Model"
      ]
    },
    {
      "cell_type": "code",
      "metadata": {
        "id": "99s53ydhD47a"
      },
      "source": [
        "gan = WGAN(input_dim = (image_width,image_width,1)\n",
        "            , critic_conv_filters = [image_width,image_width * 2,image_width * 4,image_width * 4]\n",
        "            , critic_conv_kernel_size = [5,5,5,5]\n",
        "            , critic_conv_strides = [2,2,2,1]\n",
        "            , critic_batch_norm_momentum = None\n",
        "            , critic_activation = 'leaky_relu'\n",
        "            , critic_dropout_rate = None\n",
        "            , critic_learning_rate = 0.00005\n",
        "            , generator_initial_dense_layer_size = (4, 4, image_width * 4)\n",
        "            , generator_upsample = [2,2, 2,1]\n",
        "            , generator_conv_filters = [image_width * 4,image_width * 2,image_width,1]\n",
        "            , generator_conv_kernel_size = [5,5,5,5]\n",
        "            , generator_conv_strides = [1,1, 1,1]\n",
        "            , generator_batch_norm_momentum = 0.8\n",
        "            , generator_activation = 'leaky_relu'\n",
        "            , generator_dropout_rate = None\n",
        "            , generator_learning_rate = 0.00005\n",
        "            , optimiser = 'rmsprop'\n",
        "            , z_dim = 100\n",
        "            )"
      ],
      "execution_count": 57,
      "outputs": []
    },
    {
      "cell_type": "markdown",
      "metadata": {
        "id": "nhOiwxTED_zb"
      },
      "source": [
        ""
      ]
    },
    {
      "cell_type": "code",
      "metadata": {
        "colab": {
          "base_uri": "https://localhost:8080/"
        },
        "id": "grusExl9EOm_",
        "outputId": "32846757-06ba-4d7e-97b2-fff09822a59a"
      },
      "source": [
        "gan.critic.summary()"
      ],
      "execution_count": 58,
      "outputs": [
        {
          "output_type": "stream",
          "text": [
            "Model: \"model_9\"\n",
            "_________________________________________________________________\n",
            "Layer (type)                 Output Shape              Param #   \n",
            "=================================================================\n",
            "critic_input (InputLayer)    [(None, 32, 32, 1)]       0         \n",
            "_________________________________________________________________\n",
            "critic_conv_0 (Conv2D)       (None, 16, 16, 32)        832       \n",
            "_________________________________________________________________\n",
            "leaky_re_lu_24 (LeakyReLU)   (None, 16, 16, 32)        0         \n",
            "_________________________________________________________________\n",
            "critic_conv_1 (Conv2D)       (None, 8, 8, 64)          51264     \n",
            "_________________________________________________________________\n",
            "leaky_re_lu_25 (LeakyReLU)   (None, 8, 8, 64)          0         \n",
            "_________________________________________________________________\n",
            "critic_conv_2 (Conv2D)       (None, 4, 4, 128)         204928    \n",
            "_________________________________________________________________\n",
            "leaky_re_lu_26 (LeakyReLU)   (None, 4, 4, 128)         0         \n",
            "_________________________________________________________________\n",
            "critic_conv_3 (Conv2D)       (None, 4, 4, 128)         409728    \n",
            "_________________________________________________________________\n",
            "leaky_re_lu_27 (LeakyReLU)   (None, 4, 4, 128)         0         \n",
            "_________________________________________________________________\n",
            "flatten_3 (Flatten)          (None, 2048)              0         \n",
            "_________________________________________________________________\n",
            "dense_6 (Dense)              (None, 1)                 2049      \n",
            "=================================================================\n",
            "Total params: 668,801\n",
            "Trainable params: 668,801\n",
            "Non-trainable params: 0\n",
            "_________________________________________________________________\n"
          ],
          "name": "stdout"
        }
      ]
    },
    {
      "cell_type": "code",
      "metadata": {
        "colab": {
          "base_uri": "https://localhost:8080/"
        },
        "id": "H2We1wXJERMT",
        "outputId": "daef912d-039c-486b-dbd6-ef7e70cd4cb0"
      },
      "source": [
        "gan.generator.summary()"
      ],
      "execution_count": 59,
      "outputs": [
        {
          "output_type": "stream",
          "text": [
            "Model: \"model_10\"\n",
            "_________________________________________________________________\n",
            "Layer (type)                 Output Shape              Param #   \n",
            "=================================================================\n",
            "generator_input (InputLayer) [(None, 100)]             0         \n",
            "_________________________________________________________________\n",
            "dense_7 (Dense)              (None, 2048)              206848    \n",
            "_________________________________________________________________\n",
            "batch_normalization_12 (Batc (None, 2048)              8192      \n",
            "_________________________________________________________________\n",
            "leaky_re_lu_28 (LeakyReLU)   (None, 2048)              0         \n",
            "_________________________________________________________________\n",
            "reshape_3 (Reshape)          (None, 4, 4, 128)         0         \n",
            "_________________________________________________________________\n",
            "up_sampling2d_9 (UpSampling2 (None, 8, 8, 128)         0         \n",
            "_________________________________________________________________\n",
            "generator_conv_0 (Conv2D)    (None, 8, 8, 128)         409728    \n",
            "_________________________________________________________________\n",
            "batch_normalization_13 (Batc (None, 8, 8, 128)         512       \n",
            "_________________________________________________________________\n",
            "leaky_re_lu_29 (LeakyReLU)   (None, 8, 8, 128)         0         \n",
            "_________________________________________________________________\n",
            "up_sampling2d_10 (UpSampling (None, 16, 16, 128)       0         \n",
            "_________________________________________________________________\n",
            "generator_conv_1 (Conv2D)    (None, 16, 16, 64)        204864    \n",
            "_________________________________________________________________\n",
            "batch_normalization_14 (Batc (None, 16, 16, 64)        256       \n",
            "_________________________________________________________________\n",
            "leaky_re_lu_30 (LeakyReLU)   (None, 16, 16, 64)        0         \n",
            "_________________________________________________________________\n",
            "up_sampling2d_11 (UpSampling (None, 32, 32, 64)        0         \n",
            "_________________________________________________________________\n",
            "generator_conv_2 (Conv2D)    (None, 32, 32, 32)        51232     \n",
            "_________________________________________________________________\n",
            "batch_normalization_15 (Batc (None, 32, 32, 32)        128       \n",
            "_________________________________________________________________\n",
            "leaky_re_lu_31 (LeakyReLU)   (None, 32, 32, 32)        0         \n",
            "_________________________________________________________________\n",
            "generator_conv_3 (Conv2DTran (None, 32, 32, 1)         801       \n",
            "_________________________________________________________________\n",
            "activation_3 (Activation)    (None, 32, 32, 1)         0         \n",
            "=================================================================\n",
            "Total params: 882,561\n",
            "Trainable params: 878,017\n",
            "Non-trainable params: 4,544\n",
            "_________________________________________________________________\n"
          ],
          "name": "stdout"
        }
      ]
    },
    {
      "cell_type": "markdown",
      "metadata": {
        "id": "3Qvs0ucu7b_O"
      },
      "source": [
        "## Loading weights if needed\n",
        "Training such an GAN takes a lot of time, so we may as well load weights to have an incremental training."
      ]
    },
    {
      "cell_type": "code",
      "metadata": {
        "id": "dlLtg7J_7ilG"
      },
      "source": [
        "weights_path = os.path.join(run_folder, 'weights/weights.h5')\n",
        "if os.path.exists(weights_path):\n",
        "  gan.load_weights(weights_path)"
      ],
      "execution_count": 60,
      "outputs": []
    },
    {
      "cell_type": "markdown",
      "metadata": {
        "id": "Ii_9iJv6EUmC"
      },
      "source": [
        "## Training the Model\n",
        "Using an GPU can boost your training. In Google Colab, what you need to do is just picking Runtime and choose change Runtime type."
      ]
    },
    {
      "cell_type": "code",
      "metadata": {
        "id": "RP6e3osPEWa9"
      },
      "source": [
        "epochs = 500\n",
        "print_every_batches = 10"
      ],
      "execution_count": 63,
      "outputs": []
    },
    {
      "cell_type": "code",
      "metadata": {
        "colab": {
          "base_uri": "https://localhost:8080/"
        },
        "id": "Fj7U9Df5EZql",
        "outputId": "37beb7f1-e16e-43ad-8072-7685384f8cbd"
      },
      "source": [
        "gan.train(     \n",
        "    x_train\n",
        "    , batch_size = batch_size\n",
        "    , epochs = epochs\n",
        "    , run_folder = run_folder\n",
        "    , print_every_n_batches = print_every_batches\n",
        "    , using_generator = True\n",
        ")"
      ],
      "execution_count": 64,
      "outputs": [
        {
          "output_type": "stream",
          "text": [
            "110 [D loss: (0.074)(R -1.929, F 2.076)]  [G loss: -1.909] \n",
            "120 [D loss: (0.060)(R -1.646, F 1.766)]  [G loss: -1.616] \n",
            "130 [D loss: (0.053)(R -1.340, F 1.446)]  [G loss: -1.304] \n",
            "140 [D loss: (0.038)(R -1.070, F 1.145)]  [G loss: -1.039] \n",
            "150 [D loss: (0.022)(R -0.852, F 0.897)]  [G loss: -0.803] \n",
            "160 [D loss: (0.015)(R -0.640, F 0.670)]  [G loss: -0.598] \n",
            "170 [D loss: (0.011)(R -0.466, F 0.488)]  [G loss: -0.430] \n",
            "180 [D loss: (0.008)(R -0.339, F 0.354)]  [G loss: -0.315] \n",
            "190 [D loss: (0.005)(R -0.263, F 0.274)]  [G loss: -0.243] \n",
            "200 [D loss: (0.001)(R -0.206, F 0.209)]  [G loss: -0.186] \n",
            "210 [D loss: (-0.004)(R -0.165, F 0.157)]  [G loss: -0.141] \n",
            "220 [D loss: (-0.001)(R -0.116, F 0.114)]  [G loss: -0.100] \n",
            "230 [D loss: (-0.000)(R -0.079, F 0.078)]  [G loss: -0.063] \n",
            "240 [D loss: (-0.002)(R -0.061, F 0.057)]  [G loss: -0.047] \n",
            "250 [D loss: (-0.002)(R -0.051, F 0.048)]  [G loss: -0.034] \n",
            "260 [D loss: (-0.005)(R -0.056, F 0.046)]  [G loss: -0.037] \n",
            "270 [D loss: (-0.004)(R -0.053, F 0.044)]  [G loss: -0.035] \n",
            "280 [D loss: (-0.001)(R -0.045, F 0.043)]  [G loss: -0.037] \n",
            "290 [D loss: (-0.001)(R -0.041, F 0.039)]  [G loss: -0.028] \n",
            "300 [D loss: (-0.002)(R -0.039, F 0.035)]  [G loss: -0.023] \n",
            "310 [D loss: (-0.004)(R -0.035, F 0.028)]  [G loss: -0.016] \n",
            "320 [D loss: (-0.003)(R -0.036, F 0.029)]  [G loss: -0.020] \n",
            "330 [D loss: (-0.010)(R -0.045, F 0.025)]  [G loss: -0.013] \n",
            "340 [D loss: (-0.007)(R -0.044, F 0.031)]  [G loss: -0.022] \n",
            "350 [D loss: (-0.005)(R -0.048, F 0.038)]  [G loss: -0.026] \n",
            "360 [D loss: (-0.005)(R -0.043, F 0.033)]  [G loss: -0.023] \n",
            "370 [D loss: (-0.004)(R -0.031, F 0.024)]  [G loss: -0.014] \n",
            "380 [D loss: (-0.003)(R -0.031, F 0.025)]  [G loss: -0.010] \n",
            "390 [D loss: (-0.003)(R -0.034, F 0.027)]  [G loss: -0.011] \n",
            "400 [D loss: (-0.008)(R -0.043, F 0.028)]  [G loss: -0.021] \n",
            "410 [D loss: (-0.005)(R -0.042, F 0.033)]  [G loss: -0.017] \n",
            "420 [D loss: (-0.007)(R -0.039, F 0.026)]  [G loss: -0.019] \n",
            "430 [D loss: (-0.006)(R -0.042, F 0.030)]  [G loss: -0.016] \n",
            "440 [D loss: (-0.001)(R -0.043, F 0.041)]  [G loss: -0.026] \n",
            "450 [D loss: (-0.004)(R -0.046, F 0.038)]  [G loss: -0.021] \n",
            "460 [D loss: (-0.003)(R -0.046, F 0.039)]  [G loss: -0.031] \n",
            "470 [D loss: (0.002)(R -0.028, F 0.032)]  [G loss: -0.021] \n",
            "480 [D loss: (-0.006)(R -0.040, F 0.027)]  [G loss: -0.021] \n",
            "490 [D loss: (-0.003)(R -0.038, F 0.032)]  [G loss: -0.021] \n",
            "500 [D loss: (-0.007)(R -0.042, F 0.027)]  [G loss: -0.022] \n",
            "510 [D loss: (-0.006)(R -0.038, F 0.026)]  [G loss: -0.017] \n",
            "520 [D loss: (-0.004)(R -0.047, F 0.040)]  [G loss: -0.020] \n",
            "530 [D loss: (-0.005)(R -0.037, F 0.028)]  [G loss: -0.019] \n",
            "540 [D loss: (-0.004)(R -0.042, F 0.034)]  [G loss: -0.014] \n",
            "550 [D loss: (-0.004)(R -0.040, F 0.031)]  [G loss: -0.020] \n",
            "560 [D loss: (-0.004)(R -0.041, F 0.033)]  [G loss: -0.014] \n",
            "570 [D loss: (-0.002)(R -0.040, F 0.035)]  [G loss: -0.024] \n",
            "580 [D loss: (-0.012)(R -0.044, F 0.019)]  [G loss: -0.013] \n",
            "590 [D loss: (-0.004)(R -0.034, F 0.026)]  [G loss: -0.016] \n",
            "600 [D loss: (-0.004)(R -0.032, F 0.023)]  [G loss: -0.010] \n",
            "610 [D loss: (-0.007)(R -0.040, F 0.026)]  [G loss: -0.012] \n",
            "620 [D loss: (-0.002)(R -0.031, F 0.028)]  [G loss: -0.015] \n",
            "630 [D loss: (-0.003)(R -0.032, F 0.027)]  [G loss: -0.017] \n",
            "640 [D loss: (-0.002)(R -0.030, F 0.026)]  [G loss: -0.016] \n",
            "650 [D loss: (-0.005)(R -0.035, F 0.025)]  [G loss: -0.016] \n",
            "660 [D loss: (-0.003)(R -0.026, F 0.020)]  [G loss: -0.012] \n",
            "670 [D loss: (-0.001)(R -0.030, F 0.028)]  [G loss: -0.015] \n",
            "680 [D loss: (-0.006)(R -0.036, F 0.025)]  [G loss: -0.013] \n",
            "690 [D loss: (-0.005)(R -0.036, F 0.025)]  [G loss: -0.017] \n",
            "700 [D loss: (-0.002)(R -0.032, F 0.028)]  [G loss: -0.022] \n",
            "710 [D loss: (-0.001)(R -0.026, F 0.024)]  [G loss: -0.015] \n",
            "720 [D loss: (-0.003)(R -0.033, F 0.027)]  [G loss: -0.019] \n",
            "730 [D loss: (-0.002)(R -0.028, F 0.023)]  [G loss: -0.015] \n",
            "740 [D loss: (-0.004)(R -0.034, F 0.027)]  [G loss: -0.018] \n",
            "750 [D loss: (-0.001)(R -0.032, F 0.031)]  [G loss: -0.019] \n",
            "760 [D loss: (0.002)(R -0.032, F 0.035)]  [G loss: -0.017] \n",
            "770 [D loss: (-0.003)(R -0.035, F 0.029)]  [G loss: -0.017] \n",
            "780 [D loss: (-0.007)(R -0.037, F 0.023)]  [G loss: -0.018] \n",
            "790 [D loss: (-0.004)(R -0.033, F 0.026)]  [G loss: -0.018] \n",
            "800 [D loss: (-0.003)(R -0.030, F 0.024)]  [G loss: -0.014] \n",
            "810 [D loss: (-0.002)(R -0.029, F 0.024)]  [G loss: -0.011] \n",
            "820 [D loss: (-0.003)(R -0.030, F 0.024)]  [G loss: -0.019] \n",
            "830 [D loss: (-0.006)(R -0.032, F 0.020)]  [G loss: -0.018] \n",
            "840 [D loss: (0.001)(R -0.024, F 0.027)]  [G loss: -0.016] \n",
            "850 [D loss: (-0.005)(R -0.035, F 0.024)]  [G loss: -0.017] \n",
            "860 [D loss: (-0.007)(R -0.033, F 0.020)]  [G loss: -0.015] \n",
            "870 [D loss: (-0.003)(R -0.027, F 0.021)]  [G loss: -0.013] \n",
            "880 [D loss: (-0.003)(R -0.030, F 0.023)]  [G loss: -0.014] \n",
            "890 [D loss: (-0.003)(R -0.027, F 0.020)]  [G loss: -0.012] \n",
            "900 [D loss: (0.000)(R -0.028, F 0.029)]  [G loss: -0.018] \n",
            "910 [D loss: (-0.006)(R -0.034, F 0.023)]  [G loss: -0.017] \n",
            "920 [D loss: (-0.003)(R -0.028, F 0.022)]  [G loss: -0.013] \n",
            "930 [D loss: (-0.005)(R -0.028, F 0.019)]  [G loss: -0.014] \n",
            "940 [D loss: (-0.005)(R -0.031, F 0.020)]  [G loss: -0.017] \n",
            "950 [D loss: (-0.002)(R -0.026, F 0.023)]  [G loss: -0.016] \n",
            "960 [D loss: (-0.004)(R -0.024, F 0.017)]  [G loss: -0.014] \n",
            "970 [D loss: (-0.005)(R -0.029, F 0.020)]  [G loss: -0.017] \n",
            "980 [D loss: (-0.003)(R -0.029, F 0.023)]  [G loss: -0.014] \n",
            "990 [D loss: (-0.005)(R -0.030, F 0.020)]  [G loss: -0.014] \n",
            "1000 [D loss: (-0.004)(R -0.026, F 0.017)]  [G loss: -0.011] \n",
            "1010 [D loss: (-0.002)(R -0.024, F 0.020)]  [G loss: -0.012] \n",
            "1020 [D loss: (-0.004)(R -0.035, F 0.026)]  [G loss: -0.018] \n",
            "1030 [D loss: (-0.000)(R -0.025, F 0.024)]  [G loss: -0.015] \n",
            "1040 [D loss: (-0.003)(R -0.028, F 0.023)]  [G loss: -0.016] \n",
            "1050 [D loss: (-0.005)(R -0.025, F 0.016)]  [G loss: -0.010] \n",
            "1060 [D loss: (-0.002)(R -0.024, F 0.020)]  [G loss: -0.010] \n",
            "1070 [D loss: (-0.005)(R -0.027, F 0.016)]  [G loss: -0.012] \n",
            "1080 [D loss: (-0.002)(R -0.026, F 0.021)]  [G loss: -0.015] \n",
            "1090 [D loss: (-0.002)(R -0.026, F 0.022)]  [G loss: -0.015] \n",
            "1100 [D loss: (-0.001)(R -0.022, F 0.019)]  [G loss: -0.013] \n"
          ],
          "name": "stdout"
        }
      ]
    },
    {
      "cell_type": "markdown",
      "metadata": {
        "id": "UDuk0LhUNSNw"
      },
      "source": [
        "## Ploting performance during training"
      ]
    },
    {
      "cell_type": "code",
      "metadata": {
        "colab": {
          "base_uri": "https://localhost:8080/",
          "height": 288
        },
        "id": "JKWNHDntNVZg",
        "outputId": "ffea8ae7-c2f2-4f24-bc6f-669e2a577f1f"
      },
      "source": [
        "fig = plt.figure()\n",
        "plt.plot([x[0] for x in gan.d_losses], color='black', linewidth=0.25)\n",
        "\n",
        "plt.plot([x[1] for x in gan.d_losses], color='green', linewidth=0.25)\n",
        "plt.plot([x[2] for x in gan.d_losses], color='red', linewidth=0.25)\n",
        "plt.plot(gan.g_losses, color='orange', linewidth=0.25)\n",
        "\n",
        "plt.xlabel('batch', fontsize=18)\n",
        "plt.ylabel('loss', fontsize=16)\n",
        "plt.show()"
      ],
      "execution_count": 65,
      "outputs": [
        {
          "output_type": "display_data",
          "data": {
            "image/png": "[encoded data removed]",
            "text/plain": [
              "<Figure size 432x288 with 1 Axes>"
            ]
          },
          "metadata": {
            "tags": [],
            "needs_background": "light"
          }
        }
      ]
    },
    {
      "cell_type": "markdown",
      "metadata": {
        "id": "E6bIVZcRNak6"
      },
      "source": [
        "## Generating images\n",
        "Now we use our trained model to generate some images."
      ]
    },
    {
      "cell_type": "code",
      "metadata": {
        "colab": {
          "base_uri": "https://localhost:8080/",
          "height": 575
        },
        "id": "hgjOJCMmNf3P",
        "outputId": "06fe1243-e0cd-42d1-bed5-4ac56cdd0738"
      },
      "source": [
        "row_count, column_count = 5, 5\n",
        "noise = np.random.normal(0, 1, (row_count * column_count, gan.z_dim))\n",
        "gen_imgs = gan.generator.predict(noise)\n",
        "gen_imgs = 0.5 * (gen_imgs + 1)\n",
        "fig, axs = plt.subplots(row_count, column_count, figsize=(10,10))\n",
        "for i in range(row_count):\n",
        "    for j in range(column_count):\n",
        "        axs[i,j].imshow(np.squeeze(gen_imgs[i * row_count + j, :,:,:]), cmap = 'gray_r')\n",
        "        axs[i,j].axis('off')\n",
        "plt.show()"
      ],
      "execution_count": 66,
      "outputs": [
        {
          "output_type": "display_data",
          "data": {
            "image/png": "[encoded data removed]",
            "text/plain": [
              "<Figure size 720x720 with 25 Axes>"
            ]
          },
          "metadata": {
            "tags": [],
            "needs_background": "light"
          }
        }
      ]
    },
    {
      "cell_type": "markdown",
      "metadata": {
        "id": "p6Ujj-XUtIDS"
      },
      "source": [
        "## Conclusions\n",
        "This images looks not bad, if we train more times and use higher resolution images, It can be more realistic."
      ]
    }
  ]
}