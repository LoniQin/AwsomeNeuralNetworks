{
 "cells": [
  {
   "cell_type": "markdown",
   "id": "miniature-benjamin",
   "metadata": {},
   "source": [
    "# Create a mnist classfier using Tensorflow\n",
    "## 1. Import dependencies"
   ]
  },
  {
   "cell_type": "code",
   "execution_count": 11,
   "id": "metallic-amsterdam",
   "metadata": {
    "scrolled": false
   },
   "outputs": [],
   "source": [
    "import tensorflow as tf\n",
    "from tensorflow.keras.datasets import fashion_mnist\n",
    "from tensorflow.keras.models import Sequential\n",
    "from tensorflow.keras.layers import Conv2D, MaxPooling2D, Flatten, Dense"
   ]
  },
  {
   "cell_type": "markdown",
   "id": "worth-frequency",
   "metadata": {},
   "source": [
    "## 2. Create callbacks"
   ]
  },
  {
   "cell_type": "code",
   "execution_count": 12,
   "id": "interpreted-tongue",
   "metadata": {
    "scrolled": false
   },
   "outputs": [],
   "source": [
    "class MyCallBack(tf.keras.callbacks.Callback):\n",
    "    def on_epoch_end(self, epoch, logs={}):\n",
    "        if (logs.get('accuracy') > 0.98):\n",
    "            print(\"\\nReached 98% accuracy so cancelling training\")\n",
    "            self.model.stop_training = True\n",
    "\n",
    "callbacks = MyCallBack()"
   ]
  },
  {
   "cell_type": "markdown",
   "id": "simplified-maximum",
   "metadata": {},
   "source": [
    "## 3. Define constants"
   ]
  },
  {
   "cell_type": "code",
   "execution_count": 13,
   "id": "junior-wings",
   "metadata": {
    "scrolled": false
   },
   "outputs": [],
   "source": [
    "image_width = 28\n",
    "train_count = 60000\n",
    "test_count = 10000\n"
   ]
  },
  {
   "cell_type": "markdown",
   "id": "monthly-master",
   "metadata": {},
   "source": [
    "## 4. Load data"
   ]
  },
  {
   "cell_type": "code",
   "execution_count": 17,
   "id": "overhead-buyer",
   "metadata": {
    "scrolled": false
   },
   "outputs": [],
   "source": [
    "(training_images, training_labels), (test_images, test_labels) = fashion_mnist.load_data()\n",
    "training_images = training_images.reshape(train_count, image_width, image_width, 1)\n",
    "training_images = training_images / 255.0\n",
    "test_images = test_images.reshape(test_count, image_width, image_width, 1)\n",
    "test_images = test_images / 255.0"
   ]
  },
  {
   "cell_type": "markdown",
   "id": "qualified-warner",
   "metadata": {},
   "source": [
    "## 5. Create Model"
   ]
  },
  {
   "cell_type": "code",
   "execution_count": 18,
   "id": "internal-hudson",
   "metadata": {
    "scrolled": false
   },
   "outputs": [
    {
     "name": "stdout",
     "output_type": "stream",
     "text": [
      "Model: \"sequential_1\"\n",
      "_________________________________________________________________\n",
      "Layer (type)                 Output Shape              Param #   \n",
      "=================================================================\n",
      "conv2d_2 (Conv2D)            (None, 26, 26, 64)        640       \n",
      "_________________________________________________________________\n",
      "max_pooling2d_2 (MaxPooling2 (None, 13, 13, 64)        0         \n",
      "_________________________________________________________________\n",
      "conv2d_3 (Conv2D)            (None, 11, 11, 64)        36928     \n",
      "_________________________________________________________________\n",
      "max_pooling2d_3 (MaxPooling2 (None, 5, 5, 64)          0         \n",
      "_________________________________________________________________\n",
      "flatten_1 (Flatten)          (None, 1600)              0         \n",
      "_________________________________________________________________\n",
      "dense_2 (Dense)              (None, 128)               204928    \n",
      "_________________________________________________________________\n",
      "dense_3 (Dense)              (None, 10)                1290      \n",
      "=================================================================\n",
      "Total params: 243,786\n",
      "Trainable params: 243,786\n",
      "Non-trainable params: 0\n",
      "_________________________________________________________________\n"
     ]
    }
   ],
   "source": [
    "model = Sequential([\n",
    "    Conv2D(64, (3, 3), activation='relu', input_shape=(image_width, image_width, 1)),\n",
    "    MaxPooling2D(2, 2),\n",
    "    Conv2D(64, (3, 3), activation='relu'),\n",
    "    MaxPooling2D(2, 2),\n",
    "    Flatten(),\n",
    "    Dense(128, activation='relu'),\n",
    "    Dense(10, activation='softmax')\n",
    "])\n",
    "model.compile(\n",
    "    optimizer='adam',\n",
    "    loss='sparse_categorical_crossentropy',\n",
    "    metrics=['accuracy']\n",
    ")\n",
    "model.summary()"
   ]
  },
  {
   "cell_type": "markdown",
   "id": "arbitrary-resource",
   "metadata": {},
   "source": [
    "## 6. Train data"
   ]
  },
  {
   "cell_type": "code",
   "execution_count": 19,
   "id": "tight-alexander",
   "metadata": {
    "scrolled": false
   },
   "outputs": [
    {
     "name": "stdout",
     "output_type": "stream",
     "text": [
      "Epoch 1/50\n",
      "1875/1875 [==============================] - 17s 9ms/step - loss: 0.5963 - accuracy: 0.7880\n",
      "Epoch 2/50\n",
      "1875/1875 [==============================] - 16s 9ms/step - loss: 0.3058 - accuracy: 0.8897\n",
      "Epoch 3/50\n",
      "1875/1875 [==============================] - 16s 9ms/step - loss: 0.2463 - accuracy: 0.9083\n",
      "Epoch 4/50\n",
      "1875/1875 [==============================] - 16s 9ms/step - loss: 0.2152 - accuracy: 0.9193\n",
      "Epoch 5/50\n",
      "1875/1875 [==============================] - 16s 9ms/step - loss: 0.1907 - accuracy: 0.9277\n",
      "Epoch 6/50\n",
      "1875/1875 [==============================] - 16s 8ms/step - loss: 0.1630 - accuracy: 0.9388\n",
      "Epoch 7/50\n",
      "1875/1875 [==============================] - 16s 8ms/step - loss: 0.1448 - accuracy: 0.9452\n",
      "Epoch 8/50\n",
      "1875/1875 [==============================] - 16s 8ms/step - loss: 0.1271 - accuracy: 0.9519\n",
      "Epoch 9/50\n",
      "1875/1875 [==============================] - 16s 8ms/step - loss: 0.1119 - accuracy: 0.9581\n",
      "Epoch 10/50\n",
      "1875/1875 [==============================] - 16s 8ms/step - loss: 0.0919 - accuracy: 0.9662\n",
      "Epoch 11/50\n",
      "1875/1875 [==============================] - 16s 8ms/step - loss: 0.0828 - accuracy: 0.9689\n",
      "Epoch 12/50\n",
      "1875/1875 [==============================] - 16s 8ms/step - loss: 0.0728 - accuracy: 0.9723\n",
      "Epoch 13/50\n",
      "1875/1875 [==============================] - 16s 9ms/step - loss: 0.0651 - accuracy: 0.9755\n",
      "Epoch 14/50\n",
      "1875/1875 [==============================] - 16s 9ms/step - loss: 0.0557 - accuracy: 0.9797\n",
      "Epoch 15/50\n",
      "1875/1875 [==============================] - 16s 8ms/step - loss: 0.0534 - accuracy: 0.9803\n",
      "Epoch 16/50\n",
      "1875/1875 [==============================] - 16s 8ms/step - loss: 0.0470 - accuracy: 0.9832\n",
      "\n",
      "Reached 98% accuracy so cancelling training\n"
     ]
    },
    {
     "data": {
      "text/plain": [
       "<tensorflow.python.keras.callbacks.History at 0x14282a610>"
      ]
     },
     "execution_count": 19,
     "metadata": {},
     "output_type": "execute_result"
    }
   ],
   "source": [
    "model.fit(training_images, training_labels, epochs=50, callbacks=[callbacks])"
   ]
  },
  {
   "cell_type": "markdown",
   "id": "mental-conspiracy",
   "metadata": {},
   "source": [
    "## 7. Evaluate data"
   ]
  },
  {
   "cell_type": "code",
   "execution_count": 20,
   "id": "christian-maria",
   "metadata": {
    "scrolled": false
   },
   "outputs": [
    {
     "name": "stdout",
     "output_type": "stream",
     "text": [
      "313/313 [==============================] - 1s 3ms/step - loss: 0.4244 - accuracy: 0.9096\n"
     ]
    },
    {
     "data": {
      "text/plain": [
       "[0.42443135380744934, 0.909600019454956]"
      ]
     },
     "execution_count": 20,
     "metadata": {},
     "output_type": "execute_result"
    }
   ],
   "source": [
    "model.evaluate(test_images, test_labels)"
   ]
  },
  {
   "cell_type": "markdown",
   "id": "seven-chest",
   "metadata": {},
   "source": [
    "## 8. Predict data"
   ]
  },
  {
   "cell_type": "code",
   "execution_count": 21,
   "id": "developing-paradise",
   "metadata": {
    "scrolled": false
   },
   "outputs": [
    {
     "name": "stdout",
     "output_type": "stream",
     "text": [
      "[1.02369243e-27 3.65738899e-43 1.15905605e-30 4.05273689e-35\n",
      " 2.54265213e-24 2.91093727e-35 2.25899688e-25 2.07328352e-30\n",
      " 1.00000000e+00 3.03187796e-34]\n"
     ]
    }
   ],
   "source": [
    "classfications = model.predict(test_images)\n",
    "print(classfications[0])\n"
   ]
  },
  {
   "cell_type": "code",
   "execution_count": null,
   "id": "phantom-theater",
   "metadata": {},
   "outputs": [],
   "source": []
  }
 ],
 "metadata": {
  "kernelspec": {
   "display_name": "Python 3",
   "language": "python",
   "name": "python3"
  },
  "language_info": {
   "codemirror_mode": {
    "name": "ipython",
    "version": 3
   },
   "file_extension": ".py",
   "mimetype": "text/x-python",
   "name": "python",
   "nbconvert_exporter": "python",
   "pygments_lexer": "ipython3",
   "version": "3.8.6"
  }
 },
 "nbformat": 4,
 "nbformat_minor": 5
}
