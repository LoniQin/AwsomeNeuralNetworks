{
  "nbformat": 4,
  "nbformat_minor": 0,
  "metadata": {
    "colab": {
      "name": "Stock Price Predictor Using LSTM, Bidirectional, Conv1D.ipynb",
      "provenance": [],
      "collapsed_sections": [],
      "authorship_tag": "ABX9TyMR+A2MuELdXylU8HtSTiLy",
      "include_colab_link": true
    },
    "kernelspec": {
      "name": "python3",
      "display_name": "Python 3"
    },
    "language_info": {
      "name": "python"
    }
  },
  "cells": [
    {
      "cell_type": "markdown",
      "metadata": {
        "id": "view-in-github",
        "colab_type": "text"
      },
      "source": [
        "<a href=\"https://colab.research.google.com/github/LoniQin/deep_learning_notebooks/blob/master/tensorflow/Stock_Price_Predictor_Using_LSTM%2C_Bidirectional%2C_Conv1D.ipynb\" target=\"_parent\"><img src=\"https://colab.research.google.com/assets/colab-badge.svg\" alt=\"Open In Colab\"/></a>"
      ]
    },
    {
      "cell_type": "markdown",
      "metadata": {
        "id": "c7uGuarvDZgQ"
      },
      "source": [
        "## Import packages"
      ]
    },
    {
      "cell_type": "code",
      "metadata": {
        "id": "mUKdtednDbcc"
      },
      "source": [
        "import pandas as pd\n",
        "import numpy as np\n",
        "import matplotlib.pyplot as plt\n",
        "import seaborn as sns\n",
        "from pandas_datareader.data import DataReader\n",
        "from datetime import datetime"
      ],
      "execution_count": 76,
      "outputs": []
    },
    {
      "cell_type": "markdown",
      "metadata": {
        "id": "YzsGvqFVD8Fu"
      },
      "source": [
        "## Load data\n",
        "We predict the stock price of apple here. If we want to predict other stocks, we can simply change the symbol."
      ]
    },
    {
      "cell_type": "code",
      "metadata": {
        "id": "WwQyGrSOD-3Y"
      },
      "source": [
        "symbol = 'AAPL'\n",
        "end = datetime.now()\n",
        "start = datetime(2012, end.month, end.day)\n",
        "stock_data = DataReader(symbol, 'yahoo', start, end)"
      ],
      "execution_count": 79,
      "outputs": []
    },
    {
      "cell_type": "code",
      "metadata": {
        "colab": {
          "base_uri": "https://localhost:8080/",
          "height": 390
        },
        "id": "8Unyzu9gEmnX",
        "outputId": "c355c785-5dd5-4215-f657-034be79b6f31"
      },
      "source": [
        "stock_data.tail(10)"
      ],
      "execution_count": 80,
      "outputs": [
        {
          "output_type": "execute_result",
          "data": {
            "text/html": [
              "<div>\n",
              "<style scoped>\n",
              "    .dataframe tbody tr th:only-of-type {\n",
              "        vertical-align: middle;\n",
              "    }\n",
              "\n",
              "    .dataframe tbody tr th {\n",
              "        vertical-align: top;\n",
              "    }\n",
              "\n",
              "    .dataframe thead th {\n",
              "        text-align: right;\n",
              "    }\n",
              "</style>\n",
              "<table border=\"1\" class=\"dataframe\">\n",
              "  <thead>\n",
              "    <tr style=\"text-align: right;\">\n",
              "      <th></th>\n",
              "      <th>High</th>\n",
              "      <th>Low</th>\n",
              "      <th>Open</th>\n",
              "      <th>Close</th>\n",
              "      <th>Volume</th>\n",
              "      <th>Adj Close</th>\n",
              "    </tr>\n",
              "    <tr>\n",
              "      <th>Date</th>\n",
              "      <th></th>\n",
              "      <th></th>\n",
              "      <th></th>\n",
              "      <th></th>\n",
              "      <th></th>\n",
              "      <th></th>\n",
              "    </tr>\n",
              "  </thead>\n",
              "  <tbody>\n",
              "    <tr>\n",
              "      <th>2021-04-05</th>\n",
              "      <td>126.160004</td>\n",
              "      <td>123.070000</td>\n",
              "      <td>123.870003</td>\n",
              "      <td>125.900002</td>\n",
              "      <td>88651200.0</td>\n",
              "      <td>125.900002</td>\n",
              "    </tr>\n",
              "    <tr>\n",
              "      <th>2021-04-06</th>\n",
              "      <td>127.129997</td>\n",
              "      <td>125.650002</td>\n",
              "      <td>126.500000</td>\n",
              "      <td>126.209999</td>\n",
              "      <td>80171300.0</td>\n",
              "      <td>126.209999</td>\n",
              "    </tr>\n",
              "    <tr>\n",
              "      <th>2021-04-07</th>\n",
              "      <td>127.919998</td>\n",
              "      <td>125.139999</td>\n",
              "      <td>125.830002</td>\n",
              "      <td>127.900002</td>\n",
              "      <td>83466700.0</td>\n",
              "      <td>127.900002</td>\n",
              "    </tr>\n",
              "    <tr>\n",
              "      <th>2021-04-08</th>\n",
              "      <td>130.389999</td>\n",
              "      <td>128.520004</td>\n",
              "      <td>128.949997</td>\n",
              "      <td>130.360001</td>\n",
              "      <td>88844600.0</td>\n",
              "      <td>130.360001</td>\n",
              "    </tr>\n",
              "    <tr>\n",
              "      <th>2021-04-09</th>\n",
              "      <td>133.039993</td>\n",
              "      <td>129.470001</td>\n",
              "      <td>129.800003</td>\n",
              "      <td>133.000000</td>\n",
              "      <td>106513800.0</td>\n",
              "      <td>133.000000</td>\n",
              "    </tr>\n",
              "    <tr>\n",
              "      <th>2021-04-12</th>\n",
              "      <td>132.850006</td>\n",
              "      <td>130.630005</td>\n",
              "      <td>132.520004</td>\n",
              "      <td>131.240005</td>\n",
              "      <td>91420000.0</td>\n",
              "      <td>131.240005</td>\n",
              "    </tr>\n",
              "    <tr>\n",
              "      <th>2021-04-13</th>\n",
              "      <td>134.660004</td>\n",
              "      <td>131.929993</td>\n",
              "      <td>132.440002</td>\n",
              "      <td>134.429993</td>\n",
              "      <td>91266500.0</td>\n",
              "      <td>134.429993</td>\n",
              "    </tr>\n",
              "    <tr>\n",
              "      <th>2021-04-14</th>\n",
              "      <td>135.000000</td>\n",
              "      <td>131.660004</td>\n",
              "      <td>134.940002</td>\n",
              "      <td>132.029999</td>\n",
              "      <td>87222800.0</td>\n",
              "      <td>132.029999</td>\n",
              "    </tr>\n",
              "    <tr>\n",
              "      <th>2021-04-15</th>\n",
              "      <td>135.000000</td>\n",
              "      <td>133.639999</td>\n",
              "      <td>133.820007</td>\n",
              "      <td>134.500000</td>\n",
              "      <td>89347100.0</td>\n",
              "      <td>134.500000</td>\n",
              "    </tr>\n",
              "    <tr>\n",
              "      <th>2021-04-16</th>\n",
              "      <td>134.669998</td>\n",
              "      <td>133.279999</td>\n",
              "      <td>134.300003</td>\n",
              "      <td>134.160004</td>\n",
              "      <td>84818500.0</td>\n",
              "      <td>134.160004</td>\n",
              "    </tr>\n",
              "  </tbody>\n",
              "</table>\n",
              "</div>"
            ],
            "text/plain": [
              "                  High         Low  ...       Volume   Adj Close\n",
              "Date                                ...                         \n",
              "2021-04-05  126.160004  123.070000  ...   88651200.0  125.900002\n",
              "2021-04-06  127.129997  125.650002  ...   80171300.0  126.209999\n",
              "2021-04-07  127.919998  125.139999  ...   83466700.0  127.900002\n",
              "2021-04-08  130.389999  128.520004  ...   88844600.0  130.360001\n",
              "2021-04-09  133.039993  129.470001  ...  106513800.0  133.000000\n",
              "2021-04-12  132.850006  130.630005  ...   91420000.0  131.240005\n",
              "2021-04-13  134.660004  131.929993  ...   91266500.0  134.429993\n",
              "2021-04-14  135.000000  131.660004  ...   87222800.0  132.029999\n",
              "2021-04-15  135.000000  133.639999  ...   89347100.0  134.500000\n",
              "2021-04-16  134.669998  133.279999  ...   84818500.0  134.160004\n",
              "\n",
              "[10 rows x 6 columns]"
            ]
          },
          "metadata": {
            "tags": []
          },
          "execution_count": 80
        }
      ]
    },
    {
      "cell_type": "code",
      "metadata": {
        "colab": {
          "base_uri": "https://localhost:8080/"
        },
        "id": "eaVMTYIZvR8o",
        "outputId": "555e50ea-838d-4ba0-8558-5d2550432986"
      },
      "source": [
        "# Create a new dataframe with only the 'Close column \n",
        "data = stock_data.filter(['Close'])\n",
        "# Convert the dataframe to a numpy array\n",
        "dataset = data.values\n",
        "# Get the number of rows to train the model on\n",
        "training_data_len = int(np.ceil( len(dataset) * .95 ))\n",
        "\n",
        "training_data_len"
      ],
      "execution_count": 81,
      "outputs": [
        {
          "output_type": "execute_result",
          "data": {
            "text/plain": [
              "2151"
            ]
          },
          "metadata": {
            "tags": []
          },
          "execution_count": 81
        }
      ]
    },
    {
      "cell_type": "code",
      "metadata": {
        "id": "U_EVx79SMP2n",
        "colab": {
          "base_uri": "https://localhost:8080/"
        },
        "outputId": "78b00ee0-6016-416f-f5bd-4e87f5d56e0a"
      },
      "source": [
        "from sklearn.preprocessing import MinMaxScaler\n",
        "scaler = MinMaxScaler(feature_range=(0, 5))\n",
        "scaled_data = scaler.fit_transform(dataset)\n",
        "scaled_data"
      ],
      "execution_count": 96,
      "outputs": [
        {
          "output_type": "execute_result",
          "data": {
            "text/plain": [
              "array([[0.301013  ],\n",
              "       [0.27212921],\n",
              "       [0.25214554],\n",
              "       ...,\n",
              "       [4.56931394],\n",
              "       [4.66489297],\n",
              "       [4.65173649]])"
            ]
          },
          "metadata": {
            "tags": []
          },
          "execution_count": 96
        }
      ]
    },
    {
      "cell_type": "code",
      "metadata": {
        "id": "BYhUTMShvYrJ"
      },
      "source": [
        "train_data = scaled_data[0:int(training_data_len), :]\n",
        "x_train = []\n",
        "y_train = []\n",
        "for i in range(60, len(train_data)):\n",
        "  x_train.append(train_data[i-60:i, 0])\n",
        "  y_train.append(train_data[i, 0])\n",
        "x_train, y_train = np.array(x_train), np.array(y_train)"
      ],
      "execution_count": 97,
      "outputs": []
    },
    {
      "cell_type": "code",
      "metadata": {
        "id": "KMD8mAoEMvA3"
      },
      "source": [
        "x_train = np.reshape(x_train, (x_train.shape[0], x_train.shape[1], 1))"
      ],
      "execution_count": 98,
      "outputs": []
    },
    {
      "cell_type": "code",
      "metadata": {
        "colab": {
          "base_uri": "https://localhost:8080/"
        },
        "id": "iJO9bEqrM0Q9",
        "outputId": "f789c7ba-d513-42e5-b129-2bbe0d12ed67"
      },
      "source": [
        "x_train.shape"
      ],
      "execution_count": 99,
      "outputs": [
        {
          "output_type": "execute_result",
          "data": {
            "text/plain": [
              "(2091, 60, 1)"
            ]
          },
          "metadata": {
            "tags": []
          },
          "execution_count": 99
        }
      ]
    },
    {
      "cell_type": "markdown",
      "metadata": {
        "id": "WROVHpWzM-O9"
      },
      "source": [
        "## Build the model"
      ]
    },
    {
      "cell_type": "code",
      "metadata": {
        "colab": {
          "base_uri": "https://localhost:8080/"
        },
        "id": "SS_n4PRsNANV",
        "outputId": "4753696d-512c-4b43-b2ad-00204cd0261f"
      },
      "source": [
        "from tensorflow.keras.models import Sequential\n",
        "import tensorflow as tf\n",
        "from tensorflow.keras.layers import Dense, LSTM, Conv1D, Flatten, Conv1D, Dropout, Bidirectional, InputLayer\n",
        "model = Sequential([\n",
        "  tf.keras.layers.InputLayer((x_train.shape[1], 1)),\n",
        "  Bidirectional(LSTM(128, return_sequences=True)),\n",
        "  Conv1D(32, 1),\n",
        "  Flatten(),\n",
        "  Dense(32),\n",
        "  Dropout(0.3),\n",
        "  Dense(1)\n",
        "])\n",
        "loss = tf.keras.losses.MeanAbsoluteError()\n",
        "\n",
        "model.compile(optimizer='adam', loss=loss)\n",
        "model.summary()"
      ],
      "execution_count": 104,
      "outputs": [
        {
          "output_type": "stream",
          "text": [
            "Model: \"sequential_25\"\n",
            "_________________________________________________________________\n",
            "Layer (type)                 Output Shape              Param #   \n",
            "=================================================================\n",
            "bidirectional_10 (Bidirectio (None, 60, 256)           133120    \n",
            "_________________________________________________________________\n",
            "conv1d_31 (Conv1D)           (None, 60, 32)            8224      \n",
            "_________________________________________________________________\n",
            "flatten_25 (Flatten)         (None, 1920)              0         \n",
            "_________________________________________________________________\n",
            "dense_52 (Dense)             (None, 32)                61472     \n",
            "_________________________________________________________________\n",
            "dropout_12 (Dropout)         (None, 32)                0         \n",
            "_________________________________________________________________\n",
            "dense_53 (Dense)             (None, 1)                 33        \n",
            "=================================================================\n",
            "Total params: 202,849\n",
            "Trainable params: 202,849\n",
            "Non-trainable params: 0\n",
            "_________________________________________________________________\n"
          ],
          "name": "stdout"
        }
      ]
    },
    {
      "cell_type": "markdown",
      "metadata": {
        "id": "qVOTUwfXknMm"
      },
      "source": [
        ""
      ]
    },
    {
      "cell_type": "markdown",
      "metadata": {
        "id": "gRLX2MVaNwHi"
      },
      "source": [
        "## Train the model"
      ]
    },
    {
      "cell_type": "code",
      "metadata": {
        "colab": {
          "base_uri": "https://localhost:8080/"
        },
        "id": "90fgIguxNz51",
        "outputId": "dd4da6dc-385e-4eaf-c22e-6d3f3aed36d7"
      },
      "source": [
        "model.fit(x_train, y_train, batch_size=1, epochs=5)"
      ],
      "execution_count": 108,
      "outputs": [
        {
          "output_type": "stream",
          "text": [
            "Epoch 1/5\n",
            "2091/2091 [==============================] - 11s 5ms/step - loss: 0.0911\n",
            "Epoch 2/5\n",
            "2091/2091 [==============================] - 11s 5ms/step - loss: 0.0829\n",
            "Epoch 3/5\n",
            "2091/2091 [==============================] - 11s 5ms/step - loss: 0.0867\n",
            "Epoch 4/5\n",
            "2091/2091 [==============================] - 11s 5ms/step - loss: 0.0784\n",
            "Epoch 5/5\n",
            "2091/2091 [==============================] - 11s 5ms/step - loss: 0.0803\n"
          ],
          "name": "stdout"
        },
        {
          "output_type": "execute_result",
          "data": {
            "text/plain": [
              "<tensorflow.python.keras.callbacks.History at 0x7f2d50a8efd0>"
            ]
          },
          "metadata": {
            "tags": []
          },
          "execution_count": 108
        }
      ]
    },
    {
      "cell_type": "markdown",
      "metadata": {
        "id": "BXU-pCN1OY-6"
      },
      "source": [
        "## Predict data"
      ]
    },
    {
      "cell_type": "code",
      "metadata": {
        "colab": {
          "base_uri": "https://localhost:8080/"
        },
        "id": "o1MxsD84Oc8D",
        "outputId": "de78b547-7621-4a24-d4c3-8c60fe4c75c3"
      },
      "source": [
        "test_data = scaled_data[training_data_len - 60:, :]\n",
        "x_test = []\n",
        "y_test = dataset[training_data_len:, :]\n",
        "for i in range(60, len(test_data)):\n",
        "  x_test.append(test_data[i-60:i, 0])\n",
        "x_test = np.array(x_test)\n",
        "x_test = x_test.reshape((x_test.shape[0], x_test.shape[1], 1))\n",
        "predictions = model.predict(x_test)\n",
        "predictions = scaler.inverse_transform(predictions)\n",
        "rmse = np.sqrt(np.mean((predictions - y_test) ** 2))\n",
        "rmse"
      ],
      "execution_count": 109,
      "outputs": [
        {
          "output_type": "execute_result",
          "data": {
            "text/plain": [
              "11.027577655998062"
            ]
          },
          "metadata": {
            "tags": []
          },
          "execution_count": 109
        }
      ]
    },
    {
      "cell_type": "code",
      "metadata": {
        "colab": {
          "base_uri": "https://localhost:8080/",
          "height": 623
        },
        "id": "i1cSwtDpPmKf",
        "outputId": "f00d9a54-9cc1-4212-f710-ac3b8044a84f"
      },
      "source": [
        "train = data[:training_data_len]\n",
        "valid = data[training_data_len:]\n",
        "\n",
        "valid['Predictions'] = predictions\n",
        "plt.figure(figsize=(16, 8))\n",
        "plt.title('Model')\n",
        "plt.xlabel('Date', fontsize=18)\n",
        "plt.ylabel('Close Price USD ($)')\n",
        "plt.plot(train['Close'])\n",
        "plt.plot(valid[['Close', 'Predictions']])\n",
        "plt.legend(['Train', 'Val', 'Predictions'], loc='lower right')\n",
        "plt.show()"
      ],
      "execution_count": 111,
      "outputs": [
        {
          "output_type": "stream",
          "text": [
            "/usr/local/lib/python3.7/dist-packages/ipykernel_launcher.py:4: SettingWithCopyWarning: \n",
            "A value is trying to be set on a copy of a slice from a DataFrame.\n",
            "Try using .loc[row_indexer,col_indexer] = value instead\n",
            "\n",
            "See the caveats in the documentation: https://pandas.pydata.org/pandas-docs/stable/user_guide/indexing.html#returning-a-view-versus-a-copy\n",
            "  after removing the cwd from sys.path.\n"
          ],
          "name": "stderr"
        },
        {
          "output_type": "display_data",
          "data": {
            "image/png": "[encoded data removed]",
            "text/plain": [
              "<Figure size 1152x576 with 1 Axes>"
            ]
          },
          "metadata": {
            "tags": [],
            "needs_background": "light"
          }
        }
      ]
    }
  ]
}