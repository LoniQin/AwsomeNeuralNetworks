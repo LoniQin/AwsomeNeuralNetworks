{
  "nbformat": 4,
  "nbformat_minor": 0,
  "metadata": {
    "colab": {
      "name": "MnistAutoEncoder.ipynb",
      "provenance": [],
      "collapsed_sections": [],
      "toc_visible": true,
      "authorship_tag": "ABX9TyMAVnFJSM5FJGPL8LuVpwsM",
      "include_colab_link": true
    },
    "kernelspec": {
      "name": "python3",
      "display_name": "Python 3"
    },
    "language_info": {
      "name": "python"
    }
  },
  "cells": [
    {
      "cell_type": "markdown",
      "metadata": {
        "id": "view-in-github",
        "colab_type": "text"
      },
      "source": [
        "<a href=\"https://colab.research.google.com/github/LoniQin/deep_learning_notebooks/blob/master/tensorflow/MnistAutoEncoder.ipynb\" target=\"_parent\"><img src=\"https://colab.research.google.com/assets/colab-badge.svg\" alt=\"Open In Colab\"/></a>"
      ]
    },
    {
      "cell_type": "markdown",
      "metadata": {
        "id": "kYE24_jPPLyK"
      },
      "source": [
        "## Importing Packages"
      ]
    },
    {
      "cell_type": "code",
      "metadata": {
        "id": "-4PV9x7BPNA7"
      },
      "source": [
        "import os\n",
        "import numpy as np\n",
        "import matplotlib.pyplot as plt\n",
        "import tensorflow as tf\n",
        "from tensorflow.keras import backend as K\n",
        "from tensorflow.keras.layers import Input, Flatten, Conv2D, Dense, Conv2DTranspose, Reshape, Lambda, Activation, BatchNormalization, LeakyReLU, Dropout\n",
        "from tensorflow.keras.models import Model\n",
        "from tensorflow.keras.optimizers import Adam\n",
        "from tensorflow.keras.callbacks import Callback, ModelCheckpoint, LearningRateScheduler\n",
        "\n",
        "from tensorflow.keras.datasets import mnist"
      ],
      "execution_count": 55,
      "outputs": []
    },
    {
      "cell_type": "markdown",
      "metadata": {
        "id": "7BBKb7Uwecdf"
      },
      "source": [
        "## Mounting Google Codelab\n",
        "For convenience we mount a Google Drive so that we can read and write a Goolge Drive."
      ]
    },
    {
      "cell_type": "code",
      "metadata": {
        "id": "BamfSgurefoB"
      },
      "source": [
        "drive_path = \"/content/drive\"\n",
        "data_path = drive_path + \"/MyDrive/data\"\n"
      ],
      "execution_count": 47,
      "outputs": []
    },
    {
      "cell_type": "code",
      "metadata": {
        "colab": {
          "base_uri": "https://localhost:8080/"
        },
        "id": "gVm_fs6Geler",
        "outputId": "48473513-8744-4471-addf-b998a574e906"
      },
      "source": [
        "from google.colab import drive\n",
        "drive.mount(drive_path)"
      ],
      "execution_count": 48,
      "outputs": [
        {
          "output_type": "stream",
          "text": [
            "Mounted at /content/drive\n"
          ],
          "name": "stdout"
        }
      ]
    },
    {
      "cell_type": "markdown",
      "metadata": {
        "id": "8dc_Z2-GezT1"
      },
      "source": [
        "## Creating run folders"
      ]
    },
    {
      "cell_type": "code",
      "metadata": {
        "id": "nsmgWSgxe1rj"
      },
      "source": [
        "run_folder = os.path.join(data_path, \"mnist_auto_encoder\") \n",
        "if not os.path.exists(run_folder):\n",
        "  os.mkdir(run_folder)"
      ],
      "execution_count": 50,
      "outputs": []
    },
    {
      "cell_type": "markdown",
      "metadata": {
        "id": "LzS7DgwYPafp"
      },
      "source": [
        "## Loading the data"
      ]
    },
    {
      "cell_type": "markdown",
      "metadata": {
        "id": "YqfWdw4ePsSt"
      },
      "source": [
        "Now load the mnist data."
      ]
    },
    {
      "cell_type": "code",
      "metadata": {
        "id": "E9vWyFcBPcxZ"
      },
      "source": [
        "(train_x, train_y), _ = mnist.load_data()"
      ],
      "execution_count": 17,
      "outputs": []
    },
    {
      "cell_type": "code",
      "metadata": {
        "colab": {
          "base_uri": "https://localhost:8080/"
        },
        "id": "tKmJHHPzQAsi",
        "outputId": "1c8d03a2-632b-465f-8489-82a3bcf91262"
      },
      "source": [
        "print(train_x.shape)\n",
        "print(train_y.shape)"
      ],
      "execution_count": 18,
      "outputs": [
        {
          "output_type": "stream",
          "text": [
            "(60000, 28, 28)\n",
            "(60000,)\n"
          ],
          "name": "stdout"
        }
      ]
    },
    {
      "cell_type": "markdown",
      "metadata": {
        "id": "whNbL0WQPpZl"
      },
      "source": [
        "Filter some number to generate realistic images."
      ]
    },
    {
      "cell_type": "code",
      "metadata": {
        "colab": {
          "base_uri": "https://localhost:8080/"
        },
        "id": "ivJ-R47SP9q-",
        "outputId": "d97b8de4-d12a-403e-99bf-b86ffe46b7db"
      },
      "source": [
        "num = 9\n",
        "filtered_images = []\n",
        "filtered_numbers = []\n",
        "for i in range(train_y.shape[0]):\n",
        "  if train_y[i] == num:\n",
        "    filtered_images.append(train_x[i, :, :])\n",
        "    filtered_numbers.append(train_y[i])\n",
        "filtered_images = np.array(filtered_images)\n",
        "filtered_images = filtered_images.reshape((filtered_images.shape[0], filtered_images.shape[1], filtered_images.shape[2], 1))\n",
        "filtered_numbers = np.array(filtered_numbers)\n",
        "print(filtered_images.shape)\n",
        "print(filtered_numbers.shape)"
      ],
      "execution_count": 19,
      "outputs": [
        {
          "output_type": "stream",
          "text": [
            "(5949, 28, 28, 1)\n",
            "(5949,)\n"
          ],
          "name": "stdout"
        }
      ]
    },
    {
      "cell_type": "markdown",
      "metadata": {
        "id": "bDTF8zHZRA_J"
      },
      "source": [
        "Now plot some random images:"
      ]
    },
    {
      "cell_type": "code",
      "metadata": {
        "colab": {
          "base_uri": "https://localhost:8080/",
          "height": 298
        },
        "id": "8w5Oe4b8RM78",
        "outputId": "0298194b-204d-4d96-a450-e412b7b7c7e3"
      },
      "source": [
        "i = np.random.randint(0, filtered_numbers.shape[0])\n",
        "plt.title(filtered_numbers[i])\n",
        "plt.imshow(filtered_images[i, :, :, :].reshape(filtered_images.shape[1], filtered_images.shape[2]))"
      ],
      "execution_count": 23,
      "outputs": [
        {
          "output_type": "execute_result",
          "data": {
            "text/plain": [
              "<matplotlib.image.AxesImage at 0x7ff50fc05750>"
            ]
          },
          "metadata": {
            "tags": []
          },
          "execution_count": 23
        },
        {
          "output_type": "display_data",
          "data": {
            "image/png": "[encoded data removed]",
            "text/plain": [
              "<Figure size 432x288 with 1 Axes>"
            ]
          },
          "metadata": {
            "tags": [],
            "needs_background": "light"
          }
        }
      ]
    },
    {
      "cell_type": "code",
      "metadata": {
        "id": "NhsaUexsivp_"
      },
      "source": [
        "filtered_images = filtered_images / 255.0"
      ],
      "execution_count": 67,
      "outputs": []
    },
    {
      "cell_type": "markdown",
      "metadata": {
        "id": "VBqt6XgGSGn0"
      },
      "source": [
        "## Building the AutoEncoder"
      ]
    },
    {
      "cell_type": "markdown",
      "metadata": {
        "id": "1ZSeAIBzTh2-"
      },
      "source": [
        "1. Define common parameters."
      ]
    },
    {
      "cell_type": "code",
      "metadata": {
        "id": "XvkFqXxWTxx9"
      },
      "source": [
        "input_shape = filtered_images.shape[1:]\n",
        "z_dim = 2"
      ],
      "execution_count": 25,
      "outputs": []
    },
    {
      "cell_type": "markdown",
      "metadata": {
        "id": "Nnto6chiUpxY"
      },
      "source": [
        "Now build the Encoder."
      ]
    },
    {
      "cell_type": "code",
      "metadata": {
        "id": "fwSAt471SH2E"
      },
      "source": [
        "encoder_parameters = [(32, 3, 1), (64, 3, 2),  (64, 3, 2), (64, 3, 1)]\n",
        "encoder_input = Input(shape=input_shape, name='encoder_input')\n",
        "x = encoder_input\n",
        "for i in range(len(encoder_parameters)):\n",
        "  item = encoder_parameters[i]\n",
        "  conv_layer = Conv2D(filters=item[0], kernel_size=item[1], strides=item[2], padding='same', name='encoder_conv_%d'%(i))\n",
        "  x = conv_layer(x)\n",
        "  x = LeakyReLU()(x)\n",
        "  x = BatchNormalization()(x)\n",
        "  x = Dropout(0.25)(x)\n",
        "shape_before_flattening = K.int_shape(x)[1:]\n",
        "x = Flatten()(x)\n",
        "encoder_output = Dense(z_dim, name='encoder_output')(x)\n",
        "encoder = Model(encoder_input, encoder_output)\n"
      ],
      "execution_count": 34,
      "outputs": []
    },
    {
      "cell_type": "code",
      "metadata": {
        "colab": {
          "base_uri": "https://localhost:8080/"
        },
        "id": "XQQjCk1oX0aR",
        "outputId": "6c092a9f-c1db-4c2a-84f4-855ee124989f"
      },
      "source": [
        "encoder.summary()"
      ],
      "execution_count": 36,
      "outputs": [
        {
          "output_type": "stream",
          "text": [
            "Model: \"model\"\n",
            "_________________________________________________________________\n",
            "Layer (type)                 Output Shape              Param #   \n",
            "=================================================================\n",
            "encoder_input (InputLayer)   [(None, 28, 28, 1)]       0         \n",
            "_________________________________________________________________\n",
            "encoder_conv_0 (Conv2D)      (None, 28, 28, 32)        320       \n",
            "_________________________________________________________________\n",
            "leaky_re_lu_8 (LeakyReLU)    (None, 28, 28, 32)        0         \n",
            "_________________________________________________________________\n",
            "batch_normalization_8 (Batch (None, 28, 28, 32)        128       \n",
            "_________________________________________________________________\n",
            "dropout_8 (Dropout)          (None, 28, 28, 32)        0         \n",
            "_________________________________________________________________\n",
            "encoder_conv_1 (Conv2D)      (None, 14, 14, 64)        18496     \n",
            "_________________________________________________________________\n",
            "leaky_re_lu_9 (LeakyReLU)    (None, 14, 14, 64)        0         \n",
            "_________________________________________________________________\n",
            "batch_normalization_9 (Batch (None, 14, 14, 64)        256       \n",
            "_________________________________________________________________\n",
            "dropout_9 (Dropout)          (None, 14, 14, 64)        0         \n",
            "_________________________________________________________________\n",
            "encoder_conv_2 (Conv2D)      (None, 7, 7, 64)          36928     \n",
            "_________________________________________________________________\n",
            "leaky_re_lu_10 (LeakyReLU)   (None, 7, 7, 64)          0         \n",
            "_________________________________________________________________\n",
            "batch_normalization_10 (Batc (None, 7, 7, 64)          256       \n",
            "_________________________________________________________________\n",
            "dropout_10 (Dropout)         (None, 7, 7, 64)          0         \n",
            "_________________________________________________________________\n",
            "encoder_conv_3 (Conv2D)      (None, 7, 7, 64)          36928     \n",
            "_________________________________________________________________\n",
            "leaky_re_lu_11 (LeakyReLU)   (None, 7, 7, 64)          0         \n",
            "_________________________________________________________________\n",
            "batch_normalization_11 (Batc (None, 7, 7, 64)          256       \n",
            "_________________________________________________________________\n",
            "dropout_11 (Dropout)         (None, 7, 7, 64)          0         \n",
            "_________________________________________________________________\n",
            "flatten (Flatten)            (None, 3136)              0         \n",
            "_________________________________________________________________\n",
            "encoder_output (Dense)       (None, 2)                 6274      \n",
            "=================================================================\n",
            "Total params: 99,842\n",
            "Trainable params: 99,394\n",
            "Non-trainable params: 448\n",
            "_________________________________________________________________\n"
          ],
          "name": "stdout"
        }
      ]
    },
    {
      "cell_type": "markdown",
      "metadata": {
        "id": "U_eNheU3X_Wy"
      },
      "source": [
        "Now build the Decoder. For convenience and elegance, make the Encoder mirror of the Encoder."
      ]
    },
    {
      "cell_type": "code",
      "metadata": {
        "id": "RO8iG1X8YDmD"
      },
      "source": [
        "decoder_parameters = [(64, 3, 1), (64, 3, 2),  (32, 3, 2), (1, 3, 1)]"
      ],
      "execution_count": 92,
      "outputs": []
    },
    {
      "cell_type": "code",
      "metadata": {
        "id": "tE4YbNitZZ_1"
      },
      "source": [
        "decoder_input = Input(shape=(z_dim, ), name='decoder_input')\n",
        "x = Dense(np.prod(shape_before_flattening))(decoder_input)\n",
        "x = Reshape(shape_before_flattening)(x)\n",
        "for i in range(len(decoder_parameters)):\n",
        "  item = decoder_parameters[i]\n",
        "  conv_t_layer = Conv2DTranspose(filters=item[0], kernel_size=item[1], strides=item[2], padding='same', name='decoder_conv_t_%d'%(i))\n",
        "  x = conv_t_layer(x)\n",
        "  if i < len(decoder_parameters) - 1:\n",
        "    x = LeakyReLU()(x)\n",
        "    x = BatchNormalization()(x)\n",
        "    x = Dropout(0.25)(x)\n",
        "  else:\n",
        "    x = Activation('sigmoid')(x)\n",
        "decoder_output = x\n",
        "decoder = Model(decoder_input, decoder_output)"
      ],
      "execution_count": 95,
      "outputs": []
    },
    {
      "cell_type": "code",
      "metadata": {
        "colab": {
          "base_uri": "https://localhost:8080/"
        },
        "id": "yXgdsizMajsP",
        "outputId": "48aada44-b30f-4943-c797-b6c1ffc59e3c"
      },
      "source": [
        "decoder.summary()"
      ],
      "execution_count": 96,
      "outputs": [
        {
          "output_type": "stream",
          "text": [
            "Model: \"model_6\"\n",
            "_________________________________________________________________\n",
            "Layer (type)                 Output Shape              Param #   \n",
            "=================================================================\n",
            "decoder_input (InputLayer)   [(None, 2)]               0         \n",
            "_________________________________________________________________\n",
            "dense_3 (Dense)              (None, 3136)              9408      \n",
            "_________________________________________________________________\n",
            "reshape_3 (Reshape)          (None, 7, 7, 64)          0         \n",
            "_________________________________________________________________\n",
            "decoder_conv_t_0 (Conv2DTran (None, 7, 7, 64)          36928     \n",
            "_________________________________________________________________\n",
            "leaky_re_lu_21 (LeakyReLU)   (None, 7, 7, 64)          0         \n",
            "_________________________________________________________________\n",
            "batch_normalization_12 (Batc (None, 7, 7, 64)          256       \n",
            "_________________________________________________________________\n",
            "dropout_12 (Dropout)         (None, 7, 7, 64)          0         \n",
            "_________________________________________________________________\n",
            "decoder_conv_t_1 (Conv2DTran (None, 14, 14, 64)        36928     \n",
            "_________________________________________________________________\n",
            "leaky_re_lu_22 (LeakyReLU)   (None, 14, 14, 64)        0         \n",
            "_________________________________________________________________\n",
            "batch_normalization_13 (Batc (None, 14, 14, 64)        256       \n",
            "_________________________________________________________________\n",
            "dropout_13 (Dropout)         (None, 14, 14, 64)        0         \n",
            "_________________________________________________________________\n",
            "decoder_conv_t_2 (Conv2DTran (None, 28, 28, 32)        18464     \n",
            "_________________________________________________________________\n",
            "leaky_re_lu_23 (LeakyReLU)   (None, 28, 28, 32)        0         \n",
            "_________________________________________________________________\n",
            "batch_normalization_14 (Batc (None, 28, 28, 32)        128       \n",
            "_________________________________________________________________\n",
            "dropout_14 (Dropout)         (None, 28, 28, 32)        0         \n",
            "_________________________________________________________________\n",
            "decoder_conv_t_3 (Conv2DTran (None, 28, 28, 1)         289       \n",
            "_________________________________________________________________\n",
            "activation_3 (Activation)    (None, 28, 28, 1)         0         \n",
            "=================================================================\n",
            "Total params: 102,657\n",
            "Trainable params: 102,337\n",
            "Non-trainable params: 320\n",
            "_________________________________________________________________\n"
          ],
          "name": "stdout"
        }
      ]
    },
    {
      "cell_type": "markdown",
      "metadata": {
        "id": "NZ9i5lbvbKFQ"
      },
      "source": [
        "Now join the Encoder to the Decoder so that we can train the encoder and decoder simutaneously."
      ]
    },
    {
      "cell_type": "code",
      "metadata": {
        "id": "hAIe-QYUbUni"
      },
      "source": [
        "model_input = encoder_input\n",
        "model_output = decoder(encoder_output)\n",
        "model = Model(model_input, model_output)"
      ],
      "execution_count": 97,
      "outputs": []
    },
    {
      "cell_type": "markdown",
      "metadata": {
        "id": "N3DC_Lgrb1kQ"
      },
      "source": [
        "This is the overall archetecture of AutoEncoder."
      ]
    },
    {
      "cell_type": "code",
      "metadata": {
        "colab": {
          "base_uri": "https://localhost:8080/"
        },
        "id": "yGg689q0bsBx",
        "outputId": "74aa6775-9426-405b-e977-a6f7f8963757"
      },
      "source": [
        "model.summary()"
      ],
      "execution_count": 98,
      "outputs": [
        {
          "output_type": "stream",
          "text": [
            "Model: \"model_7\"\n",
            "_________________________________________________________________\n",
            "Layer (type)                 Output Shape              Param #   \n",
            "=================================================================\n",
            "encoder_input (InputLayer)   [(None, 28, 28, 1)]       0         \n",
            "_________________________________________________________________\n",
            "encoder_conv_0 (Conv2D)      (None, 28, 28, 32)        320       \n",
            "_________________________________________________________________\n",
            "leaky_re_lu_8 (LeakyReLU)    (None, 28, 28, 32)        0         \n",
            "_________________________________________________________________\n",
            "batch_normalization_8 (Batch (None, 28, 28, 32)        128       \n",
            "_________________________________________________________________\n",
            "dropout_8 (Dropout)          (None, 28, 28, 32)        0         \n",
            "_________________________________________________________________\n",
            "encoder_conv_1 (Conv2D)      (None, 14, 14, 64)        18496     \n",
            "_________________________________________________________________\n",
            "leaky_re_lu_9 (LeakyReLU)    (None, 14, 14, 64)        0         \n",
            "_________________________________________________________________\n",
            "batch_normalization_9 (Batch (None, 14, 14, 64)        256       \n",
            "_________________________________________________________________\n",
            "dropout_9 (Dropout)          (None, 14, 14, 64)        0         \n",
            "_________________________________________________________________\n",
            "encoder_conv_2 (Conv2D)      (None, 7, 7, 64)          36928     \n",
            "_________________________________________________________________\n",
            "leaky_re_lu_10 (LeakyReLU)   (None, 7, 7, 64)          0         \n",
            "_________________________________________________________________\n",
            "batch_normalization_10 (Batc (None, 7, 7, 64)          256       \n",
            "_________________________________________________________________\n",
            "dropout_10 (Dropout)         (None, 7, 7, 64)          0         \n",
            "_________________________________________________________________\n",
            "encoder_conv_3 (Conv2D)      (None, 7, 7, 64)          36928     \n",
            "_________________________________________________________________\n",
            "leaky_re_lu_11 (LeakyReLU)   (None, 7, 7, 64)          0         \n",
            "_________________________________________________________________\n",
            "batch_normalization_11 (Batc (None, 7, 7, 64)          256       \n",
            "_________________________________________________________________\n",
            "dropout_11 (Dropout)         (None, 7, 7, 64)          0         \n",
            "_________________________________________________________________\n",
            "flatten (Flatten)            (None, 3136)              0         \n",
            "_________________________________________________________________\n",
            "encoder_output (Dense)       (None, 2)                 6274      \n",
            "_________________________________________________________________\n",
            "model_6 (Functional)         (None, 28, 28, 1)         102657    \n",
            "=================================================================\n",
            "Total params: 202,499\n",
            "Trainable params: 201,731\n",
            "Non-trainable params: 768\n",
            "_________________________________________________________________\n"
          ],
          "name": "stdout"
        }
      ]
    },
    {
      "cell_type": "markdown",
      "metadata": {
        "id": "JSOKBj8zfYKy"
      },
      "source": [
        "## Defining Callbacks\n",
        "Define a ModelCheckpoint to save weights for further usage."
      ]
    },
    {
      "cell_type": "code",
      "metadata": {
        "id": "vvKIOWhOfm-R"
      },
      "source": [
        "checkpoint = ModelCheckpoint(os.path.join(run_folder, 'weights.h5'), save_weights_only = True, verbose=1)"
      ],
      "execution_count": 99,
      "outputs": []
    },
    {
      "cell_type": "markdown",
      "metadata": {
        "id": "Quee0zdyf_T0"
      },
      "source": [
        "Define a Learning Rate Scheduler to fine tune learning rate over time."
      ]
    },
    {
      "cell_type": "code",
      "metadata": {
        "id": "lds4qcKigMfY"
      },
      "source": [
        "def scheduler(epoch, lr):\n",
        "  if epoch < 5:\n",
        "    return lr\n",
        "  else:\n",
        "    return lr * 0.5\n",
        "schedular = LearningRateScheduler(scheduler)"
      ],
      "execution_count": 100,
      "outputs": []
    },
    {
      "cell_type": "markdown",
      "metadata": {
        "id": "QRQ9RIbWhBSd"
      },
      "source": [
        "Define a costom Callback to save latest images."
      ]
    },
    {
      "cell_type": "code",
      "metadata": {
        "id": "gAMLLVA7hIfA"
      },
      "source": [
        "class SaveImageCallback(Callback):\n",
        "    \n",
        "    def __init__(self, run_folder, print_every_n_batches, initial_epoch, decoder, z_dim):\n",
        "        self.current_epoch = initial_epoch\n",
        "        self.run_folder = run_folder\n",
        "        self.decoder = decoder\n",
        "        self.print_every_n_batches = print_every_n_batches\n",
        "        self.z_dim = z_dim\n",
        "\n",
        "    def on_batch_end(self, batch, logs={}):  \n",
        "        if batch % self.print_every_n_batches == 0:\n",
        "            z_new = np.random.normal(size = (1,self.z_dim))\n",
        "            reconst = self.decoder.predict(np.array(z_new))[0].squeeze()\n",
        "            filepath = os.path.join(self.run_folder, 'img_' + str(self.epoch).zfill(3) + '_' + str(batch) + '.jpg')\n",
        "            if len(reconst.shape) == 2:\n",
        "                plt.imsave(filepath, reconst, cmap='gray_r')\n",
        "            else:\n",
        "                plt.imsave(filepath, reconst)\n",
        "\n",
        "    def on_epoch_begin(self, epoch, logs={}):\n",
        "        self.current_epoch += 1"
      ],
      "execution_count": 101,
      "outputs": []
    },
    {
      "cell_type": "code",
      "metadata": {
        "id": "z8d8VTo7hbZ_"
      },
      "source": [
        "save_image_callback = SaveImageCallback(run_folder=run_folder, print_every_n_batches=100, initial_epoch=0, decoder=decoder, z_dim=z_dim)"
      ],
      "execution_count": 102,
      "outputs": []
    },
    {
      "cell_type": "markdown",
      "metadata": {
        "id": "RbDmT73qcMZn"
      },
      "source": [
        "## Compiling the model"
      ]
    },
    {
      "cell_type": "code",
      "metadata": {
        "id": "sJdiOxhbcsXM"
      },
      "source": [
        "batch_size = 64\n",
        "learning_rate = 0.001\n",
        "epochs = 1"
      ],
      "execution_count": 103,
      "outputs": []
    },
    {
      "cell_type": "code",
      "metadata": {
        "id": "AXQngNbVcN0e"
      },
      "source": [
        "optimizer = Adam(learning_rate)\n",
        "def r_loss(y_true, y_pred):\n",
        "  return K.mean(K.square(y_true - y_pred), axis=[1, 2, 3])\n",
        "model.compile(optimizer=optimizer, loss=r_loss)"
      ],
      "execution_count": 104,
      "outputs": []
    },
    {
      "cell_type": "markdown",
      "metadata": {
        "id": "NrAH-0QBmzPU"
      },
      "source": [
        "## Loading weights if needed"
      ]
    },
    {
      "cell_type": "code",
      "metadata": {
        "colab": {
          "base_uri": "https://localhost:8080/"
        },
        "id": "Mk0F0mhDm1Bo",
        "outputId": "2300e4ef-651e-4057-d0e9-f221da14e232"
      },
      "source": [
        "weights_path = os.path.join(run_folder, \"weights.h5\")\n",
        "if os.path.exists(weights_path):\n",
        "  model.load_weights(weights_path)"
      ],
      "execution_count": 108,
      "outputs": [
        {
          "output_type": "stream",
          "text": [
            "/content/drive/MyDrive/data/mnist_auto_encoder/weights.h5 exists\n"
          ],
          "name": "stdout"
        }
      ]
    },
    {
      "cell_type": "markdown",
      "metadata": {
        "id": "3JoMk0JJifEh"
      },
      "source": [
        "## Training the model"
      ]
    },
    {
      "cell_type": "code",
      "metadata": {
        "colab": {
          "base_uri": "https://localhost:8080/"
        },
        "id": "PUXYAMwAigka",
        "outputId": "d3fad250-97c1-42a2-8aad-ac77f2c1eae0"
      },
      "source": [
        "model.fit(x=filtered_images, y=filtered_images, batch_size=batch_size, epochs=10, shuffle=True, callbacks=[checkpoint, schedular, save_image_callback])"
      ],
      "execution_count": 105,
      "outputs": [
        {
          "output_type": "stream",
          "text": [
            "Epoch 1/10\n",
            " 1/93 [..............................] - ETA: 2:30 - loss: 0.30198888 (28, 28)\n",
            "93/93 [==============================] - 28s 290ms/step - loss: 0.1258\n",
            "\n",
            "Epoch 00001: saving model to /content/drive/MyDrive/data/mnist_auto_encoder/weights.h5\n",
            "Epoch 2/10\n",
            " 1/93 [..............................] - ETA: 25s - loss: 0.05648888 (28, 28)\n",
            "93/93 [==============================] - 27s 289ms/step - loss: 0.0548\n",
            "\n",
            "Epoch 00002: saving model to /content/drive/MyDrive/data/mnist_auto_encoder/weights.h5\n",
            "Epoch 3/10\n",
            " 1/93 [..............................] - ETA: 27s - loss: 0.04548888 (28, 28)\n",
            "93/93 [==============================] - 27s 291ms/step - loss: 0.0457\n",
            "\n",
            "Epoch 00003: saving model to /content/drive/MyDrive/data/mnist_auto_encoder/weights.h5\n",
            "Epoch 4/10\n",
            " 1/93 [..............................] - ETA: 26s - loss: 0.04398888 (28, 28)\n",
            "93/93 [==============================] - 27s 290ms/step - loss: 0.0424\n",
            "\n",
            "Epoch 00004: saving model to /content/drive/MyDrive/data/mnist_auto_encoder/weights.h5\n",
            "Epoch 5/10\n",
            " 1/93 [..............................] - ETA: 27s - loss: 0.03998888 (28, 28)\n",
            "93/93 [==============================] - 27s 289ms/step - loss: 0.0403\n",
            "\n",
            "Epoch 00005: saving model to /content/drive/MyDrive/data/mnist_auto_encoder/weights.h5\n",
            "Epoch 6/10\n",
            " 1/93 [..............................] - ETA: 26s - loss: 0.03938888 (28, 28)\n",
            "93/93 [==============================] - 27s 289ms/step - loss: 0.0383\n",
            "\n",
            "Epoch 00006: saving model to /content/drive/MyDrive/data/mnist_auto_encoder/weights.h5\n",
            "Epoch 7/10\n",
            " 1/93 [..............................] - ETA: 27s - loss: 0.03958888 (28, 28)\n",
            "93/93 [==============================] - 27s 290ms/step - loss: 0.0382\n",
            "\n",
            "Epoch 00007: saving model to /content/drive/MyDrive/data/mnist_auto_encoder/weights.h5\n",
            "Epoch 8/10\n",
            " 1/93 [..............................] - ETA: 27s - loss: 0.03638888 (28, 28)\n",
            "93/93 [==============================] - 27s 289ms/step - loss: 0.0372\n",
            "\n",
            "Epoch 00008: saving model to /content/drive/MyDrive/data/mnist_auto_encoder/weights.h5\n",
            "Epoch 9/10\n",
            " 1/93 [..............................] - ETA: 26s - loss: 0.03688888 (28, 28)\n",
            "93/93 [==============================] - 27s 290ms/step - loss: 0.0369\n",
            "\n",
            "Epoch 00009: saving model to /content/drive/MyDrive/data/mnist_auto_encoder/weights.h5\n",
            "Epoch 10/10\n",
            " 1/93 [..............................] - ETA: 26s - loss: 0.03608888 (28, 28)\n",
            "93/93 [==============================] - 27s 291ms/step - loss: 0.0365\n",
            "\n",
            "Epoch 00010: saving model to /content/drive/MyDrive/data/mnist_auto_encoder/weights.h5\n"
          ],
          "name": "stdout"
        },
        {
          "output_type": "execute_result",
          "data": {
            "text/plain": [
              "<tensorflow.python.keras.callbacks.History at 0x7ff4fd3cbc10>"
            ]
          },
          "metadata": {
            "tags": []
          },
          "execution_count": 105
        }
      ]
    },
    {
      "cell_type": "markdown",
      "metadata": {
        "id": "6ATLjiQvnw4f"
      },
      "source": [
        "## Generate random images"
      ]
    },
    {
      "cell_type": "code",
      "metadata": {
        "colab": {
          "base_uri": "https://localhost:8080/",
          "height": 575
        },
        "id": "2VBeAJG0nzYr",
        "outputId": "1c8e79f9-2c78-4451-bfdb-2de3121e4c9b"
      },
      "source": [
        "row_count, column_count = 5, 5\n",
        "noise = np.random.normal(size = (row_count * column_count,z_dim))\n",
        "gen_imgs = decoder.predict(noise) * 255.0\n",
        "fig, axs = plt.subplots(row_count, column_count, figsize=(10,10))\n",
        "for i in range(row_count):\n",
        "    for j in range(column_count):\n",
        "        axs[i,j].imshow(np.squeeze(gen_imgs[i * row_count + j, :,:,:]), cmap = 'gray_r')\n",
        "        axs[i,j].axis('off')\n",
        "plt.show()"
      ],
      "execution_count": 114,
      "outputs": [
        {
          "output_type": "display_data",
          "data": {
            "image/png": "[encoded data removed]",
            "text/plain": [
              "<Figure size 720x720 with 25 Axes>"
            ]
          },
          "metadata": {
            "tags": [],
            "needs_background": "light"
          }
        }
      ]
    }
  ]
}