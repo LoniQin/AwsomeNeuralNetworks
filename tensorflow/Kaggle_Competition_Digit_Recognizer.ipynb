{
  "nbformat": 4,
  "nbformat_minor": 0,
  "metadata": {
    "kernelspec": {
      "name": "python3",
      "display_name": "Python 3",
      "language": "python"
    },
    "language_info": {
      "name": "python",
      "version": "3.7.9",
      "mimetype": "text/x-python",
      "codemirror_mode": {
        "name": "ipython",
        "version": 3
      },
      "pygments_lexer": "ipython3",
      "nbconvert_exporter": "python",
      "file_extension": ".py"
    },
    "colab": {
      "name": "Kaggle_Competition_Digit_Recognizer.ipynb",
      "provenance": [],
      "include_colab_link": true
    }
  },
  "cells": [
    {
      "cell_type": "markdown",
      "metadata": {
        "id": "view-in-github",
        "colab_type": "text"
      },
      "source": [
        "<a href=\"https://colab.research.google.com/github/LoniQin/deep_learning_notebooks/blob/master/tensorflow/Kaggle_Competition_Digit_Recognizer.ipynb\" target=\"_parent\"><img src=\"https://colab.research.google.com/assets/colab-badge.svg\" alt=\"Open In Colab\"/></a>"
      ]
    },
    {
      "cell_type": "markdown",
      "metadata": {
        "id": "-3FfdjUGdAu9"
      },
      "source": [
        "## Importing necessary Libraries"
      ]
    },
    {
      "cell_type": "code",
      "metadata": {
        "trusted": true,
        "id": "wCKE5JrcdAu_"
      },
      "source": [
        "import numpy as np\n",
        "import pandas as pd\n",
        "import os\n",
        "import tensorflow as tf\n",
        "from tensorflow.keras.models import Sequential\n",
        "from tensorflow.keras.layers import Conv2D, MaxPooling2D, Flatten, Dense, Dropout, BatchNormalization\n",
        "import pandas as pd"
      ],
      "execution_count": null,
      "outputs": []
    },
    {
      "cell_type": "markdown",
      "metadata": {
        "id": "Tp6wqMYmdAvA"
      },
      "source": [
        "## Loading the data"
      ]
    },
    {
      "cell_type": "code",
      "metadata": {
        "_uuid": "8f2839f25d086af736a60e9eeb907d3b93b6e0e5",
        "_cell_guid": "b1076dfc-b9ad-4769-8c92-a6c4dae69d19",
        "trusted": true,
        "id": "KOs58HmjdAvB"
      },
      "source": [
        "train = np.loadtxt(open('/kaggle/input/digit-recognizer/train.csv', 'r'), delimiter=',', skiprows=1, dtype='float32')\n",
        "test = np.loadtxt(open('/kaggle/input/digit-recognizer/test.csv', 'r'), delimiter=',', skiprows=1, dtype='float32')\n",
        "train_images = train[:, 1:].reshape((train.shape[0], 28, 28, 1)) / 255.0\n",
        "train_labels = train[:, 0].astype(np.uint8)\n",
        "test_images = test.reshape((test.shape[0], 28, 28, 1)) / 255.0"
      ],
      "execution_count": null,
      "outputs": []
    },
    {
      "cell_type": "markdown",
      "metadata": {
        "id": "OBZYQMgldAvB"
      },
      "source": [
        "## Building and compiling the model"
      ]
    },
    {
      "cell_type": "code",
      "metadata": {
        "trusted": true,
        "id": "VSFyCxbPdAvB"
      },
      "source": [
        "def get_model():\n",
        "    model = Sequential([\n",
        "        Conv2D(16, (3, 3), activation='relu', input_shape=(28, 28, 1), padding='same'),\n",
        "        MaxPooling2D(2, 2),\n",
        "        BatchNormalization(),\n",
        "        Conv2D(32, (3, 3), activation='relu', padding='same'),\n",
        "        MaxPooling2D(2, 2),\n",
        "        BatchNormalization(),\n",
        "        Conv2D(64, (3, 3), activation='relu', padding='same'),\n",
        "        MaxPooling2D(2, 2),\n",
        "        BatchNormalization(),\n",
        "        Flatten(),\n",
        "        Dense(128, activation='relu'),\n",
        "        Dropout(0.5),\n",
        "        Dense(10, activation='softmax')\n",
        "    ])\n",
        "    model.compile(\n",
        "        optimizer='adam',\n",
        "        loss='sparse_categorical_crossentropy',\n",
        "        metrics=['accuracy']\n",
        "    )\n",
        "    return model"
      ],
      "execution_count": null,
      "outputs": []
    },
    {
      "cell_type": "code",
      "metadata": {
        "trusted": true,
        "id": "W06AlJvddAvC"
      },
      "source": [
        "model = get_model()"
      ],
      "execution_count": null,
      "outputs": []
    },
    {
      "cell_type": "markdown",
      "metadata": {
        "id": "Woq6PN81dAvC"
      },
      "source": [
        "## Displaying structure of the model\n",
        "We can use summary method to show structure of the model."
      ]
    },
    {
      "cell_type": "code",
      "metadata": {
        "trusted": true,
        "id": "hQMUbbHHdAvD",
        "outputId": "28c23fba-c5b6-444a-84fe-197c15956822"
      },
      "source": [
        "model.summary()"
      ],
      "execution_count": null,
      "outputs": [
        {
          "output_type": "stream",
          "text": [
            "Model: \"sequential_6\"\n",
            "_________________________________________________________________\n",
            "Layer (type)                 Output Shape              Param #   \n",
            "=================================================================\n",
            "conv2d_12 (Conv2D)           (None, 28, 28, 16)        160       \n",
            "_________________________________________________________________\n",
            "max_pooling2d_12 (MaxPooling (None, 14, 14, 16)        0         \n",
            "_________________________________________________________________\n",
            "batch_normalization_2 (Batch (None, 14, 14, 16)        64        \n",
            "_________________________________________________________________\n",
            "dropout_12 (Dropout)         (None, 14, 14, 16)        0         \n",
            "_________________________________________________________________\n",
            "conv2d_13 (Conv2D)           (None, 14, 14, 32)        4640      \n",
            "_________________________________________________________________\n",
            "max_pooling2d_13 (MaxPooling (None, 7, 7, 32)          0         \n",
            "_________________________________________________________________\n",
            "batch_normalization_3 (Batch (None, 7, 7, 32)          128       \n",
            "_________________________________________________________________\n",
            "dropout_13 (Dropout)         (None, 7, 7, 32)          0         \n",
            "_________________________________________________________________\n",
            "flatten_6 (Flatten)          (None, 1568)              0         \n",
            "_________________________________________________________________\n",
            "dense_12 (Dense)             (None, 128)               200832    \n",
            "_________________________________________________________________\n",
            "dense_13 (Dense)             (None, 10)                1290      \n",
            "=================================================================\n",
            "Total params: 207,114\n",
            "Trainable params: 207,018\n",
            "Non-trainable params: 96\n",
            "_________________________________________________________________\n"
          ],
          "name": "stdout"
        }
      ]
    },
    {
      "cell_type": "markdown",
      "metadata": {
        "id": "hmjw5rWJdAvD"
      },
      "source": [
        "## Creating Model Checkpoint\n",
        "Create a Model Checkpoint to save weights that has the best validation accuracy. So we can use it to generate the best result."
      ]
    },
    {
      "cell_type": "code",
      "metadata": {
        "trusted": true,
        "id": "nN9vHVqgdAvD"
      },
      "source": [
        "checkpoint_filepath = \"best_checkpoint\"\n",
        "model_checkpoint_callback = tf.keras.callbacks.ModelCheckpoint(\n",
        "    filepath=checkpoint_filepath,\n",
        "    save_weights_only=True,\n",
        "    monitor='val_accuracy',\n",
        "    mode='max',\n",
        "    save_best_only=True)"
      ],
      "execution_count": null,
      "outputs": []
    },
    {
      "cell_type": "markdown",
      "metadata": {
        "id": "2iaWxXdPdAvE"
      },
      "source": [
        "## Creating Early Stopping Callback\n",
        "In order to save time, we want to stop the training when the model stops improving. In this senario. We can use Earaly Stoppping "
      ]
    },
    {
      "cell_type": "code",
      "metadata": {
        "trusted": true,
        "id": "MKy03JnadAvE"
      },
      "source": [
        "early_stopping = tf.keras.callbacks.EarlyStopping(monitor='val_accuracy', patience=3)"
      ],
      "execution_count": null,
      "outputs": []
    },
    {
      "cell_type": "markdown",
      "metadata": {
        "id": "UG791bondAvE"
      },
      "source": [
        "## Training the Model\n",
        "Now we train the model with the training dataset for 50 epochs. We set the validation_split parameter to 0.15. We pass the Model CheckPoint to save the best weights."
      ]
    },
    {
      "cell_type": "code",
      "metadata": {
        "trusted": true,
        "id": "10rBJiXWdAvF",
        "outputId": "e60d3dc8-8fd2-47a5-df64-938b22e6b7b3"
      },
      "source": [
        "history = model.fit(train_images, train_labels, epochs=50, validation_split=0.15, callbacks=[model_checkpoint_callback, early_stopping])"
      ],
      "execution_count": null,
      "outputs": [
        {
          "output_type": "stream",
          "text": [
            "Epoch 1/50\n",
            "1116/1116 [==============================] - 4s 3ms/step - loss: 0.5818 - accuracy: 0.8120 - val_loss: 0.0933 - val_accuracy: 0.9686\n",
            "Epoch 2/50\n",
            "1116/1116 [==============================] - 3s 3ms/step - loss: 0.1427 - accuracy: 0.9549 - val_loss: 0.0869 - val_accuracy: 0.9743\n",
            "Epoch 3/50\n",
            "1116/1116 [==============================] - 4s 3ms/step - loss: 0.1058 - accuracy: 0.9660 - val_loss: 0.0533 - val_accuracy: 0.9833\n",
            "Epoch 4/50\n",
            "1116/1116 [==============================] - 3s 3ms/step - loss: 0.0824 - accuracy: 0.9731 - val_loss: 0.0557 - val_accuracy: 0.9840\n",
            "Epoch 5/50\n",
            "1116/1116 [==============================] - 3s 3ms/step - loss: 0.0772 - accuracy: 0.9749 - val_loss: 0.0506 - val_accuracy: 0.9863\n",
            "Epoch 6/50\n",
            "1116/1116 [==============================] - 4s 3ms/step - loss: 0.0719 - accuracy: 0.9760 - val_loss: 0.0439 - val_accuracy: 0.9873\n",
            "Epoch 7/50\n",
            "1116/1116 [==============================] - 4s 3ms/step - loss: 0.0640 - accuracy: 0.9790 - val_loss: 0.0499 - val_accuracy: 0.9841\n",
            "Epoch 8/50\n",
            "1116/1116 [==============================] - 3s 3ms/step - loss: 0.0604 - accuracy: 0.9806 - val_loss: 0.0567 - val_accuracy: 0.9835\n",
            "Epoch 9/50\n",
            "1116/1116 [==============================] - 4s 3ms/step - loss: 0.0583 - accuracy: 0.9817 - val_loss: 0.0477 - val_accuracy: 0.9868\n"
          ],
          "name": "stdout"
        }
      ]
    },
    {
      "cell_type": "markdown",
      "metadata": {
        "id": "9itIm1H3dAvF"
      },
      "source": [
        "## Plot the learning curve"
      ]
    },
    {
      "cell_type": "code",
      "metadata": {
        "trusted": true,
        "id": "GdrT7Cp_dAvG",
        "outputId": "669b032d-8788-4329-f24d-ce0aaf2f0ffc"
      },
      "source": [
        "import matplotlib.pyplot as plt\n",
        "plt.plot(history.history['accuracy'])\n",
        "plt.plot(history.history['val_accuracy'])\n",
        "plt.title('Accuracy vs. epochs')\n",
        "plt.ylabel('Accuracy')\n",
        "plt.xlabel('Epoch')\n",
        "plt.show()"
      ],
      "execution_count": null,
      "outputs": [
        {
          "output_type": "display_data",
          "data": {
            "text/plain": [
              "<Figure size 432x288 with 1 Axes>"
            ],
            "image/png": "[encoded data removed]"
          },
          "metadata": {
            "tags": [],
            "needs_background": "light"
          }
        }
      ]
    },
    {
      "cell_type": "code",
      "metadata": {
        "trusted": true,
        "id": "F5pdEeX9dAvG",
        "outputId": "ea0f5387-bdd0-4c42-cd47-73accca944b4"
      },
      "source": [
        "import matplotlib.pyplot as plt\n",
        "plt.plot(history.history['loss'])\n",
        "plt.plot(history.history['val_loss'])\n",
        "plt.title('Loss vs. epochs')\n",
        "plt.ylabel('Loss')\n",
        "plt.xlabel('Epoch')\n",
        "plt.show()"
      ],
      "execution_count": null,
      "outputs": [
        {
          "output_type": "display_data",
          "data": {
            "text/plain": [
              "<Figure size 432x288 with 1 Axes>"
            ],
            "image/png": "[encoded data removed]"
          },
          "metadata": {
            "tags": [],
            "needs_background": "light"
          }
        }
      ]
    },
    {
      "cell_type": "markdown",
      "metadata": {
        "id": "z8R0endndAvG"
      },
      "source": [
        "## Creating the Model again with best weight"
      ]
    },
    {
      "cell_type": "code",
      "metadata": {
        "trusted": true,
        "id": "ngd4m0UUdAvH",
        "outputId": "076d8164-5867-4584-a649-2173aae50c2b"
      },
      "source": [
        "model = get_model()\n",
        "model.load_weights(checkpoint_filepath)"
      ],
      "execution_count": null,
      "outputs": [
        {
          "output_type": "execute_result",
          "data": {
            "text/plain": [
              "<tensorflow.python.training.tracking.util.CheckpointLoadStatus at 0x7fd58c07bf90>"
            ]
          },
          "metadata": {
            "tags": []
          },
          "execution_count": 35
        }
      ]
    },
    {
      "cell_type": "markdown",
      "metadata": {
        "id": "2hR994K9dAvH"
      },
      "source": [
        "## Predicting the data"
      ]
    },
    {
      "cell_type": "code",
      "metadata": {
        "trusted": true,
        "id": "KGiXeZc4dAvI",
        "outputId": "a66f66c5-d3f6-44cb-a52f-1368906007e1"
      },
      "source": [
        "test_labels = np.argmax(model.predict(test_images), axis=-1)\n",
        "print(test_labels.shape)"
      ],
      "execution_count": null,
      "outputs": [
        {
          "output_type": "stream",
          "text": [
            "(28000,)\n"
          ],
          "name": "stdout"
        }
      ]
    },
    {
      "cell_type": "markdown",
      "metadata": {
        "id": "SXn9pPqmdAvI"
      },
      "source": [
        "Now we print first 100 item of test_labels."
      ]
    },
    {
      "cell_type": "code",
      "metadata": {
        "trusted": true,
        "id": "uSR8635YdAvI",
        "outputId": "780cbcdb-3c6c-45b2-c473-30f615ffe83b"
      },
      "source": [
        "print(test_labels[:100])"
      ],
      "execution_count": null,
      "outputs": [
        {
          "output_type": "stream",
          "text": [
            "[2 0 9 9 3 7 0 3 0 3 5 7 4 0 4 3 3 1 9 0 9 1 1 5 7 4 2 7 4 7 7 5 4 2 6 2 5\n",
            " 5 1 6 7 7 4 9 8 7 8 2 6 7 6 8 8 3 8 2 1 2 2 0 4 1 7 0 0 0 1 9 0 1 6 5 8 8\n",
            " 2 8 9 9 2 3 5 4 1 0 9 2 4 3 6 7 2 0 6 6 1 4 3 9 7 4]\n"
          ],
          "name": "stdout"
        }
      ]
    },
    {
      "cell_type": "markdown",
      "metadata": {
        "id": "Aiv_cLEUdAvJ"
      },
      "source": [
        "## Sumbit the data"
      ]
    },
    {
      "cell_type": "code",
      "metadata": {
        "trusted": true,
        "id": "pt1zeq9_dAvJ"
      },
      "source": [
        "image_ids = np.arange(1, test_labels.shape[0]+1)\n",
        "result = np.concatenate((image_ids.reshape(image_ids.shape[0], 1), test_labels.reshape(test_labels.shape[0], 1)), axis=1)\n",
        "df = pd.DataFrame(result, columns=[\"ImageId\", \"Label\"], dtype='int')\n",
        "df.to_csv(\"submission.csv\", index=False)"
      ],
      "execution_count": null,
      "outputs": []
    }
  ]
}