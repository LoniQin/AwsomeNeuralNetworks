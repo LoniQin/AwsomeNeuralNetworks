{
  "nbformat": 4,
  "nbformat_minor": 0,
  "metadata": {
    "kernelspec": {
      "name": "python3",
      "display_name": "Python 3",
      "language": "python"
    },
    "language_info": {
      "name": "python",
      "version": "3.7.9",
      "mimetype": "text/x-python",
      "codemirror_mode": {
        "name": "ipython",
        "version": 3
      },
      "pygments_lexer": "ipython3",
      "nbconvert_exporter": "python",
      "file_extension": ".py"
    },
    "colab": {
      "name": "English Handwritten Characters Classifier.ipynb",
      "provenance": [],
      "include_colab_link": true
    }
  },
  "cells": [
    {
      "cell_type": "markdown",
      "metadata": {
        "id": "view-in-github",
        "colab_type": "text"
      },
      "source": [
        "<a href=\"https://colab.research.google.com/github/LoniQin/deep_learning_notebooks/blob/master/tensorflow/English_Handwritten_Characters_Classifier.ipynb\" target=\"_parent\"><img src=\"https://colab.research.google.com/assets/colab-badge.svg\" alt=\"Open In Colab\"/></a>"
      ]
    },
    {
      "cell_type": "markdown",
      "metadata": {
        "id": "x-knWvhCEQ3q"
      },
      "source": [
        "## Introduction\n",
        "\n",
        "This dataset contains 3,410 images of handwritten characters in English. This is a classification dataset that can be used for Computer Vision tasks. It contains 62 classes with 55 images of each class. The 62 classes are 0-9, A-Z and a-z. You can download this dataset from [this website](https://www.kaggle.com/dhruvildave/english-handwritten-characters-dataset)"
      ]
    },
    {
      "cell_type": "markdown",
      "metadata": {
        "id": "DIje8jLBEtyK"
      },
      "source": [
        "## Import Libraries"
      ]
    },
    {
      "cell_type": "code",
      "metadata": {
        "trusted": true,
        "id": "Ozio3bTREQ3t"
      },
      "source": [
        "import tensorflow as tf\n",
        "import pandas as pd\n",
        "import numpy as np\n",
        "import os\n",
        "from tensorflow.keras.models import Sequential\n",
        "from tensorflow.keras.layers import Conv2D, MaxPooling2D, Flatten, Dense, Dropout \n",
        "from sklearn.model_selection import train_test_split\n",
        "from PIL import Image\n",
        "import matplotlib.pyplot as plt"
      ],
      "execution_count": null,
      "outputs": []
    },
    {
      "cell_type": "markdown",
      "metadata": {
        "id": "b9i-kt3SEQ3u"
      },
      "source": [
        "## Define some common parameters"
      ]
    },
    {
      "cell_type": "code",
      "metadata": {
        "trusted": true,
        "id": "bNymPF2fEQ3u"
      },
      "source": [
        "base_path = \"/kaggle/input/english-handwritten-characters-dataset/\"\n",
        "image_width = 96\n",
        "image_height = 72\n"
      ],
      "execution_count": null,
      "outputs": []
    },
    {
      "cell_type": "markdown",
      "metadata": {
        "id": "ZLTP9GsfEQ3v"
      },
      "source": [
        "## Load data"
      ]
    },
    {
      "cell_type": "code",
      "metadata": {
        "trusted": true,
        "id": "jjn5YyBqEQ3v",
        "outputId": "196030e3-c69d-400b-cc3a-0b6dc2f92655"
      },
      "source": [
        "df = pd.read_csv(base_path + \"english.csv\")\n",
        "df.head()"
      ],
      "execution_count": null,
      "outputs": [
        {
          "output_type": "execute_result",
          "data": {
            "text/plain": [
              "                image label\n",
              "0  Img/img001-001.png     0\n",
              "1  Img/img001-002.png     0\n",
              "2  Img/img001-003.png     0\n",
              "3  Img/img001-004.png     0\n",
              "4  Img/img001-005.png     0"
            ],
            "text/html": [
              "<div>\n",
              "<style scoped>\n",
              "    .dataframe tbody tr th:only-of-type {\n",
              "        vertical-align: middle;\n",
              "    }\n",
              "\n",
              "    .dataframe tbody tr th {\n",
              "        vertical-align: top;\n",
              "    }\n",
              "\n",
              "    .dataframe thead th {\n",
              "        text-align: right;\n",
              "    }\n",
              "</style>\n",
              "<table border=\"1\" class=\"dataframe\">\n",
              "  <thead>\n",
              "    <tr style=\"text-align: right;\">\n",
              "      <th></th>\n",
              "      <th>image</th>\n",
              "      <th>label</th>\n",
              "    </tr>\n",
              "  </thead>\n",
              "  <tbody>\n",
              "    <tr>\n",
              "      <th>0</th>\n",
              "      <td>Img/img001-001.png</td>\n",
              "      <td>0</td>\n",
              "    </tr>\n",
              "    <tr>\n",
              "      <th>1</th>\n",
              "      <td>Img/img001-002.png</td>\n",
              "      <td>0</td>\n",
              "    </tr>\n",
              "    <tr>\n",
              "      <th>2</th>\n",
              "      <td>Img/img001-003.png</td>\n",
              "      <td>0</td>\n",
              "    </tr>\n",
              "    <tr>\n",
              "      <th>3</th>\n",
              "      <td>Img/img001-004.png</td>\n",
              "      <td>0</td>\n",
              "    </tr>\n",
              "    <tr>\n",
              "      <th>4</th>\n",
              "      <td>Img/img001-005.png</td>\n",
              "      <td>0</td>\n",
              "    </tr>\n",
              "  </tbody>\n",
              "</table>\n",
              "</div>"
            ]
          },
          "metadata": {
            "tags": []
          },
          "execution_count": 6
        }
      ]
    },
    {
      "cell_type": "code",
      "metadata": {
        "trusted": true,
        "id": "Jb8tIf2lEQ3w",
        "outputId": "87dd1b6d-704d-445f-d990-70f8ce44d65d"
      },
      "source": [
        "index_word = []\n",
        "for i in range(0, 10):\n",
        "    index_word.append(str(i))\n",
        "for i in range(0, 26):\n",
        "    index_word.append(chr(65 + i))\n",
        "for i in range(0, 26):\n",
        "    index_word.append(chr(97 + i))\n",
        "print(index_word)\n",
        "word_index = {index_word[i]: i for i in range(0, len(index_word))}\n",
        "print(word_index)"
      ],
      "execution_count": null,
      "outputs": [
        {
          "output_type": "stream",
          "text": [
            "['0', '1', '2', '3', '4', '5', '6', '7', '8', '9', 'A', 'B', 'C', 'D', 'E', 'F', 'G', 'H', 'I', 'J', 'K', 'L', 'M', 'N', 'O', 'P', 'Q', 'R', 'S', 'T', 'U', 'V', 'W', 'X', 'Y', 'Z', 'a', 'b', 'c', 'd', 'e', 'f', 'g', 'h', 'i', 'j', 'k', 'l', 'm', 'n', 'o', 'p', 'q', 'r', 's', 't', 'u', 'v', 'w', 'x', 'y', 'z']\n",
            "{'0': 0, '1': 1, '2': 2, '3': 3, '4': 4, '5': 5, '6': 6, '7': 7, '8': 8, '9': 9, 'A': 10, 'B': 11, 'C': 12, 'D': 13, 'E': 14, 'F': 15, 'G': 16, 'H': 17, 'I': 18, 'J': 19, 'K': 20, 'L': 21, 'M': 22, 'N': 23, 'O': 24, 'P': 25, 'Q': 26, 'R': 27, 'S': 28, 'T': 29, 'U': 30, 'V': 31, 'W': 32, 'X': 33, 'Y': 34, 'Z': 35, 'a': 36, 'b': 37, 'c': 38, 'd': 39, 'e': 40, 'f': 41, 'g': 42, 'h': 43, 'i': 44, 'j': 45, 'k': 46, 'l': 47, 'm': 48, 'n': 49, 'o': 50, 'p': 51, 'q': 52, 'r': 53, 's': 54, 't': 55, 'u': 56, 'v': 57, 'w': 58, 'x': 59, 'y': 60, 'z': 61}\n"
          ],
          "name": "stdout"
        }
      ]
    },
    {
      "cell_type": "code",
      "metadata": {
        "trusted": true,
        "id": "mASQgv_rEQ3x",
        "outputId": "37f6cd5f-678a-45f0-bb49-3863304e9af9"
      },
      "source": [
        "items = []\n",
        "for index, row in df.iterrows():\n",
        "    if index % 100 == 0:\n",
        "        print(index)\n",
        "    path = base_path + row[\"image\"]\n",
        "    img = Image.open(path).convert('L').resize((image_width, image_height))\n",
        "    items.append((np.array(img), word_index[row[\"label\"]]))\n",
        "np.random.shuffle(items)\n",
        "print(items[1][0].shape)"
      ],
      "execution_count": null,
      "outputs": [
        {
          "output_type": "stream",
          "text": [
            "0\n",
            "100\n",
            "200\n",
            "300\n",
            "400\n",
            "500\n",
            "600\n",
            "700\n",
            "800\n",
            "900\n",
            "1000\n",
            "1100\n",
            "1200\n",
            "1300\n",
            "1400\n",
            "1500\n",
            "1600\n",
            "1700\n",
            "1800\n",
            "1900\n",
            "2000\n",
            "2100\n",
            "2200\n",
            "2300\n",
            "2400\n",
            "2500\n",
            "2600\n",
            "2700\n",
            "2800\n",
            "2900\n",
            "3000\n",
            "3100\n",
            "3200\n",
            "3300\n",
            "3400\n",
            "(72, 96)\n"
          ],
          "name": "stdout"
        }
      ]
    },
    {
      "cell_type": "markdown",
      "metadata": {
        "id": "BSjjEnaUEQ3x"
      },
      "source": [
        "## Plot a image and its label from dataset"
      ]
    },
    {
      "cell_type": "code",
      "metadata": {
        "trusted": true,
        "id": "iKVD6h2uEQ3x",
        "outputId": "f80881e1-2b75-414f-b790-9836f6187ef4"
      },
      "source": [
        "index = np.random.randint(len(items))\n",
        "plt.title(index_word[items[index][1]])\n",
        "plt.imshow(items[index][0])\n",
        "plt.show()"
      ],
      "execution_count": null,
      "outputs": [
        {
          "output_type": "display_data",
          "data": {
            "text/plain": [
              "<Figure size 432x288 with 1 Axes>"
            ],
            "image/png": "[encoded data removed]"
          },
          "metadata": {
            "tags": [],
            "needs_background": "light"
          }
        }
      ]
    },
    {
      "cell_type": "code",
      "metadata": {
        "trusted": true,
        "id": "Jdb37qIFEQ3y",
        "outputId": "2c82844d-44b2-4a0e-f308-f12ec94b34ae"
      },
      "source": [
        "xs = []\n",
        "ys = []\n",
        "for item in items:\n",
        "    xs.append(item[0])\n",
        "    ys.append(item[1])\n",
        "images = np.array(xs).reshape(len(xs), image_width, image_height, 1) / 255.0\n",
        "labels = np.array(ys)\n",
        "print(images.shape)\n",
        "print(labels.shape)"
      ],
      "execution_count": null,
      "outputs": [
        {
          "output_type": "stream",
          "text": [
            "(3410, 96, 72, 1)\n",
            "(3410,)\n"
          ],
          "name": "stdout"
        }
      ]
    },
    {
      "cell_type": "markdown",
      "metadata": {
        "id": "P292iTTwEQ3y"
      },
      "source": [
        "## Split the data to training and testing set"
      ]
    },
    {
      "cell_type": "code",
      "metadata": {
        "trusted": true,
        "id": "ckeMH4ezEQ3y",
        "outputId": "9469d2af-95b6-4314-f808-57fb28364bf9"
      },
      "source": [
        "training_images, testing_images = train_test_split(images, test_size=0.1)\n",
        "print(training_images.shape)\n",
        "print(testing_images.shape)"
      ],
      "execution_count": null,
      "outputs": [
        {
          "output_type": "stream",
          "text": [
            "(3069, 96, 72, 1)\n",
            "(341, 96, 72, 1)\n"
          ],
          "name": "stdout"
        }
      ]
    },
    {
      "cell_type": "code",
      "metadata": {
        "trusted": true,
        "id": "dERyR6Q-EQ3z",
        "outputId": "50140c51-5fde-4a28-a125-a9d89117a810"
      },
      "source": [
        "training_labels, testing_labels = train_test_split(labels, test_size=0.1)\n",
        "print(training_labels.shape)\n",
        "print(testing_labels.shape)"
      ],
      "execution_count": null,
      "outputs": [
        {
          "output_type": "stream",
          "text": [
            "(3069,)\n",
            "(341,)\n"
          ],
          "name": "stdout"
        }
      ]
    },
    {
      "cell_type": "markdown",
      "metadata": {
        "id": "P7R2av73EQ3z"
      },
      "source": [
        "## Define model"
      ]
    },
    {
      "cell_type": "code",
      "metadata": {
        "trusted": true,
        "id": "ajd9xiT-EQ30"
      },
      "source": [
        "model = Sequential([\n",
        "    Conv2D(16, (3, 3), activation='relu', input_shape=(image_width, image_height, 1)),\n",
        "    MaxPooling2D(2, 2),\n",
        "    Dropout(0.5),\n",
        "    Conv2D(64, (3, 3), activation='relu'),\n",
        "    MaxPooling2D(2, 2),\n",
        "    Dropout(0.5),\n",
        "    Flatten(),\n",
        "    Dense(128, activation='relu'),\n",
        "    Dense(62, activation='softmax')\n",
        "])"
      ],
      "execution_count": null,
      "outputs": []
    },
    {
      "cell_type": "markdown",
      "metadata": {
        "id": "BcwxivysEQ30"
      },
      "source": [
        "## Display summary of the model"
      ]
    },
    {
      "cell_type": "code",
      "metadata": {
        "trusted": true,
        "id": "BkIjWzwmEQ30",
        "outputId": "6926be10-e97b-4930-c3a8-6d9b67990229"
      },
      "source": [
        "model.summary()"
      ],
      "execution_count": null,
      "outputs": [
        {
          "output_type": "stream",
          "text": [
            "Model: \"sequential_10\"\n",
            "_________________________________________________________________\n",
            "Layer (type)                 Output Shape              Param #   \n",
            "=================================================================\n",
            "conv2d_25 (Conv2D)           (None, 94, 70, 16)        160       \n",
            "_________________________________________________________________\n",
            "max_pooling2d_25 (MaxPooling (None, 47, 35, 16)        0         \n",
            "_________________________________________________________________\n",
            "dropout_24 (Dropout)         (None, 47, 35, 16)        0         \n",
            "_________________________________________________________________\n",
            "conv2d_26 (Conv2D)           (None, 45, 33, 64)        9280      \n",
            "_________________________________________________________________\n",
            "max_pooling2d_26 (MaxPooling (None, 22, 16, 64)        0         \n",
            "_________________________________________________________________\n",
            "dropout_25 (Dropout)         (None, 22, 16, 64)        0         \n",
            "_________________________________________________________________\n",
            "flatten_10 (Flatten)         (None, 22528)             0         \n",
            "_________________________________________________________________\n",
            "dense_20 (Dense)             (None, 128)               2883712   \n",
            "_________________________________________________________________\n",
            "dense_21 (Dense)             (None, 62)                7998      \n",
            "=================================================================\n",
            "Total params: 2,901,150\n",
            "Trainable params: 2,901,150\n",
            "Non-trainable params: 0\n",
            "_________________________________________________________________\n"
          ],
          "name": "stdout"
        }
      ]
    },
    {
      "cell_type": "markdown",
      "metadata": {
        "id": "lkdFiz5OEQ30"
      },
      "source": [
        "## Compile the model"
      ]
    },
    {
      "cell_type": "code",
      "metadata": {
        "trusted": true,
        "id": "8BWiX6KQEQ31"
      },
      "source": [
        "model.compile(\n",
        "    optimizer='adam',\n",
        "    loss='sparse_categorical_crossentropy',\n",
        "    metrics=['accuracy'],\n",
        "    verbose=2\n",
        ")"
      ],
      "execution_count": null,
      "outputs": []
    },
    {
      "cell_type": "markdown",
      "metadata": {
        "id": "oYc7T24DEQ31"
      },
      "source": [
        "## Train data"
      ]
    },
    {
      "cell_type": "code",
      "metadata": {
        "trusted": true,
        "id": "m1_3Q56vEQ31",
        "outputId": "23ffa573-199d-4bb2-a1a1-db8d67ef9565"
      },
      "source": [
        "history = model.fit(training_images, training_labels, epochs=100, validation_split=0.1)"
      ],
      "execution_count": null,
      "outputs": [
        {
          "output_type": "stream",
          "text": [
            "Epoch 1/100\n",
            "87/87 [==============================] - 1s 6ms/step - loss: 0.1406 - accuracy: 0.9569 - val_loss: 16.9745 - val_accuracy: 0.0261\n",
            "Epoch 2/100\n",
            "87/87 [==============================] - 1s 7ms/step - loss: 0.1494 - accuracy: 0.9551 - val_loss: 17.1281 - val_accuracy: 0.0261\n",
            "Epoch 3/100\n",
            "87/87 [==============================] - 1s 6ms/step - loss: 0.1540 - accuracy: 0.9537 - val_loss: 17.4789 - val_accuracy: 0.0326\n",
            "Epoch 4/100\n",
            "87/87 [==============================] - 0s 5ms/step - loss: 0.1360 - accuracy: 0.9555 - val_loss: 17.0594 - val_accuracy: 0.0391\n",
            "Epoch 5/100\n",
            "87/87 [==============================] - 0s 5ms/step - loss: 0.1508 - accuracy: 0.9537 - val_loss: 17.0430 - val_accuracy: 0.0261\n",
            "Epoch 6/100\n",
            "87/87 [==============================] - 0s 5ms/step - loss: 0.1283 - accuracy: 0.9605 - val_loss: 17.1204 - val_accuracy: 0.0293\n",
            "Epoch 7/100\n",
            "87/87 [==============================] - 0s 5ms/step - loss: 0.1354 - accuracy: 0.9587 - val_loss: 17.2411 - val_accuracy: 0.0326\n",
            "Epoch 8/100\n",
            "87/87 [==============================] - 0s 5ms/step - loss: 0.1348 - accuracy: 0.9620 - val_loss: 17.1690 - val_accuracy: 0.0326\n",
            "Epoch 9/100\n",
            "87/87 [==============================] - 0s 5ms/step - loss: 0.1761 - accuracy: 0.9504 - val_loss: 16.8761 - val_accuracy: 0.0261\n",
            "Epoch 10/100\n",
            "87/87 [==============================] - 0s 5ms/step - loss: 0.1387 - accuracy: 0.9547 - val_loss: 16.9620 - val_accuracy: 0.0293\n",
            "Epoch 11/100\n",
            "87/87 [==============================] - 0s 5ms/step - loss: 0.1406 - accuracy: 0.9547 - val_loss: 17.1696 - val_accuracy: 0.0326\n",
            "Epoch 12/100\n",
            "87/87 [==============================] - 1s 6ms/step - loss: 0.1408 - accuracy: 0.9551 - val_loss: 17.6728 - val_accuracy: 0.0228\n",
            "Epoch 13/100\n",
            "87/87 [==============================] - 0s 5ms/step - loss: 0.1279 - accuracy: 0.9573 - val_loss: 17.8118 - val_accuracy: 0.0195\n",
            "Epoch 14/100\n",
            "87/87 [==============================] - 0s 5ms/step - loss: 0.1461 - accuracy: 0.9551 - val_loss: 17.5498 - val_accuracy: 0.0261\n",
            "Epoch 15/100\n",
            "87/87 [==============================] - 0s 5ms/step - loss: 0.1287 - accuracy: 0.9591 - val_loss: 17.7098 - val_accuracy: 0.0293\n",
            "Epoch 16/100\n",
            "87/87 [==============================] - 0s 5ms/step - loss: 0.1298 - accuracy: 0.9613 - val_loss: 17.5286 - val_accuracy: 0.0261\n",
            "Epoch 17/100\n",
            "87/87 [==============================] - 0s 5ms/step - loss: 0.1241 - accuracy: 0.9623 - val_loss: 17.7736 - val_accuracy: 0.0228\n",
            "Epoch 18/100\n",
            "87/87 [==============================] - 0s 5ms/step - loss: 0.1269 - accuracy: 0.9598 - val_loss: 18.2867 - val_accuracy: 0.0293\n",
            "Epoch 19/100\n",
            "87/87 [==============================] - 0s 5ms/step - loss: 0.1364 - accuracy: 0.9569 - val_loss: 17.5555 - val_accuracy: 0.0261\n",
            "Epoch 20/100\n",
            "87/87 [==============================] - 0s 5ms/step - loss: 0.1232 - accuracy: 0.9594 - val_loss: 17.9478 - val_accuracy: 0.0326\n",
            "Epoch 21/100\n",
            "87/87 [==============================] - 0s 5ms/step - loss: 0.1216 - accuracy: 0.9573 - val_loss: 17.6951 - val_accuracy: 0.0326\n",
            "Epoch 22/100\n",
            "87/87 [==============================] - 0s 5ms/step - loss: 0.1379 - accuracy: 0.9551 - val_loss: 17.3131 - val_accuracy: 0.0326\n",
            "Epoch 23/100\n",
            "87/87 [==============================] - 0s 5ms/step - loss: 0.1409 - accuracy: 0.9551 - val_loss: 17.5743 - val_accuracy: 0.0326\n",
            "Epoch 24/100\n",
            "87/87 [==============================] - 0s 5ms/step - loss: 0.1228 - accuracy: 0.9573 - val_loss: 17.7101 - val_accuracy: 0.0261\n",
            "Epoch 25/100\n",
            "87/87 [==============================] - 0s 5ms/step - loss: 0.1228 - accuracy: 0.9660 - val_loss: 17.6604 - val_accuracy: 0.0293\n",
            "Epoch 26/100\n",
            "87/87 [==============================] - 0s 5ms/step - loss: 0.1292 - accuracy: 0.9602 - val_loss: 17.8012 - val_accuracy: 0.0293\n",
            "Epoch 27/100\n",
            "87/87 [==============================] - 0s 5ms/step - loss: 0.1031 - accuracy: 0.9678 - val_loss: 18.0753 - val_accuracy: 0.0358\n",
            "Epoch 28/100\n",
            "87/87 [==============================] - 0s 5ms/step - loss: 0.1203 - accuracy: 0.9645 - val_loss: 18.5379 - val_accuracy: 0.0326\n",
            "Epoch 29/100\n",
            "87/87 [==============================] - 0s 5ms/step - loss: 0.1227 - accuracy: 0.9591 - val_loss: 18.3030 - val_accuracy: 0.0195\n",
            "Epoch 30/100\n",
            "87/87 [==============================] - 0s 5ms/step - loss: 0.1086 - accuracy: 0.9667 - val_loss: 18.0306 - val_accuracy: 0.0293\n",
            "Epoch 31/100\n",
            "87/87 [==============================] - 0s 5ms/step - loss: 0.1089 - accuracy: 0.9645 - val_loss: 18.2523 - val_accuracy: 0.0261\n",
            "Epoch 32/100\n",
            "87/87 [==============================] - 0s 5ms/step - loss: 0.1148 - accuracy: 0.9623 - val_loss: 17.7417 - val_accuracy: 0.0261\n",
            "Epoch 33/100\n",
            "87/87 [==============================] - 0s 5ms/step - loss: 0.1125 - accuracy: 0.9671 - val_loss: 17.9960 - val_accuracy: 0.0228\n",
            "Epoch 34/100\n",
            "87/87 [==============================] - 0s 5ms/step - loss: 0.1162 - accuracy: 0.9598 - val_loss: 18.0971 - val_accuracy: 0.0261\n",
            "Epoch 35/100\n",
            "87/87 [==============================] - 0s 5ms/step - loss: 0.1203 - accuracy: 0.9642 - val_loss: 17.7698 - val_accuracy: 0.0228\n",
            "Epoch 36/100\n",
            "87/87 [==============================] - 1s 6ms/step - loss: 0.1136 - accuracy: 0.9591 - val_loss: 18.2982 - val_accuracy: 0.0228\n",
            "Epoch 37/100\n",
            "87/87 [==============================] - 0s 5ms/step - loss: 0.1021 - accuracy: 0.9671 - val_loss: 18.2946 - val_accuracy: 0.0293\n",
            "Epoch 38/100\n",
            "87/87 [==============================] - 0s 5ms/step - loss: 0.0983 - accuracy: 0.9692 - val_loss: 18.7153 - val_accuracy: 0.0261\n",
            "Epoch 39/100\n",
            "87/87 [==============================] - 0s 5ms/step - loss: 0.1034 - accuracy: 0.9667 - val_loss: 18.5367 - val_accuracy: 0.0261\n",
            "Epoch 40/100\n",
            "87/87 [==============================] - 0s 5ms/step - loss: 0.0940 - accuracy: 0.9678 - val_loss: 18.1495 - val_accuracy: 0.0195\n",
            "Epoch 41/100\n",
            "87/87 [==============================] - 0s 5ms/step - loss: 0.1047 - accuracy: 0.9638 - val_loss: 18.6346 - val_accuracy: 0.0326\n",
            "Epoch 42/100\n",
            "87/87 [==============================] - 0s 5ms/step - loss: 0.1153 - accuracy: 0.9609 - val_loss: 18.5702 - val_accuracy: 0.0228\n",
            "Epoch 43/100\n",
            "87/87 [==============================] - 0s 5ms/step - loss: 0.1015 - accuracy: 0.9671 - val_loss: 18.7065 - val_accuracy: 0.0326\n",
            "Epoch 44/100\n",
            "87/87 [==============================] - 0s 5ms/step - loss: 0.1200 - accuracy: 0.9656 - val_loss: 18.2997 - val_accuracy: 0.0228\n",
            "Epoch 45/100\n",
            "87/87 [==============================] - 0s 5ms/step - loss: 0.1057 - accuracy: 0.9671 - val_loss: 18.4148 - val_accuracy: 0.0261\n",
            "Epoch 46/100\n",
            "87/87 [==============================] - 0s 5ms/step - loss: 0.0986 - accuracy: 0.9714 - val_loss: 18.6535 - val_accuracy: 0.0326\n",
            "Epoch 47/100\n",
            "87/87 [==============================] - 0s 5ms/step - loss: 0.0894 - accuracy: 0.9718 - val_loss: 18.6404 - val_accuracy: 0.0261\n",
            "Epoch 48/100\n",
            "87/87 [==============================] - 0s 5ms/step - loss: 0.0963 - accuracy: 0.9732 - val_loss: 18.2469 - val_accuracy: 0.0261\n",
            "Epoch 49/100\n",
            "87/87 [==============================] - 0s 5ms/step - loss: 0.0931 - accuracy: 0.9689 - val_loss: 18.7620 - val_accuracy: 0.0261\n",
            "Epoch 50/100\n",
            "87/87 [==============================] - 0s 5ms/step - loss: 0.0783 - accuracy: 0.9761 - val_loss: 18.6639 - val_accuracy: 0.0358\n",
            "Epoch 51/100\n",
            "87/87 [==============================] - 0s 5ms/step - loss: 0.0940 - accuracy: 0.9736 - val_loss: 18.3295 - val_accuracy: 0.0228\n",
            "Epoch 52/100\n",
            "87/87 [==============================] - 0s 5ms/step - loss: 0.0920 - accuracy: 0.9696 - val_loss: 19.2287 - val_accuracy: 0.0326\n",
            "Epoch 53/100\n",
            "87/87 [==============================] - 0s 5ms/step - loss: 0.1020 - accuracy: 0.9667 - val_loss: 19.0026 - val_accuracy: 0.0228\n",
            "Epoch 54/100\n",
            "87/87 [==============================] - 0s 5ms/step - loss: 0.1042 - accuracy: 0.9689 - val_loss: 19.1443 - val_accuracy: 0.0293\n",
            "Epoch 55/100\n",
            "87/87 [==============================] - 0s 5ms/step - loss: 0.0834 - accuracy: 0.9754 - val_loss: 19.3030 - val_accuracy: 0.0195\n",
            "Epoch 56/100\n",
            "87/87 [==============================] - 0s 5ms/step - loss: 0.0809 - accuracy: 0.9739 - val_loss: 19.3509 - val_accuracy: 0.0228\n",
            "Epoch 57/100\n",
            "87/87 [==============================] - 0s 5ms/step - loss: 0.0917 - accuracy: 0.9710 - val_loss: 18.8152 - val_accuracy: 0.0228\n",
            "Epoch 58/100\n"
          ],
          "name": "stdout"
        },
        {
          "output_type": "stream",
          "text": [
            "87/87 [==============================] - 0s 5ms/step - loss: 0.1059 - accuracy: 0.9656 - val_loss: 19.0169 - val_accuracy: 0.0326\n",
            "Epoch 59/100\n",
            "87/87 [==============================] - 0s 5ms/step - loss: 0.0904 - accuracy: 0.9685 - val_loss: 18.9493 - val_accuracy: 0.0261\n",
            "Epoch 60/100\n",
            "87/87 [==============================] - 1s 6ms/step - loss: 0.0815 - accuracy: 0.9739 - val_loss: 19.5281 - val_accuracy: 0.0195\n",
            "Epoch 61/100\n",
            "87/87 [==============================] - 0s 5ms/step - loss: 0.0856 - accuracy: 0.9761 - val_loss: 19.0927 - val_accuracy: 0.0261\n",
            "Epoch 62/100\n",
            "87/87 [==============================] - 0s 5ms/step - loss: 0.0759 - accuracy: 0.9743 - val_loss: 19.0018 - val_accuracy: 0.0195\n",
            "Epoch 63/100\n",
            "87/87 [==============================] - 0s 5ms/step - loss: 0.0870 - accuracy: 0.9772 - val_loss: 19.2822 - val_accuracy: 0.0293\n",
            "Epoch 64/100\n",
            "87/87 [==============================] - 0s 5ms/step - loss: 0.0855 - accuracy: 0.9728 - val_loss: 19.2135 - val_accuracy: 0.0228\n",
            "Epoch 65/100\n",
            "87/87 [==============================] - 0s 5ms/step - loss: 0.0761 - accuracy: 0.9804 - val_loss: 18.7988 - val_accuracy: 0.0228\n",
            "Epoch 66/100\n",
            "87/87 [==============================] - 0s 5ms/step - loss: 0.1014 - accuracy: 0.9718 - val_loss: 18.3250 - val_accuracy: 0.0293\n",
            "Epoch 67/100\n",
            "87/87 [==============================] - 0s 5ms/step - loss: 0.0782 - accuracy: 0.9768 - val_loss: 19.0508 - val_accuracy: 0.0195\n",
            "Epoch 68/100\n",
            "87/87 [==============================] - 0s 5ms/step - loss: 0.0743 - accuracy: 0.9757 - val_loss: 19.2477 - val_accuracy: 0.0293\n",
            "Epoch 69/100\n",
            "87/87 [==============================] - 0s 5ms/step - loss: 0.0876 - accuracy: 0.9728 - val_loss: 19.0601 - val_accuracy: 0.0228\n",
            "Epoch 70/100\n",
            "87/87 [==============================] - 0s 5ms/step - loss: 0.0899 - accuracy: 0.9689 - val_loss: 18.9529 - val_accuracy: 0.0228\n",
            "Epoch 71/100\n",
            "87/87 [==============================] - 0s 5ms/step - loss: 0.0808 - accuracy: 0.9725 - val_loss: 19.2325 - val_accuracy: 0.0293\n",
            "Epoch 72/100\n",
            "87/87 [==============================] - 1s 7ms/step - loss: 0.0699 - accuracy: 0.9779 - val_loss: 19.5626 - val_accuracy: 0.0228\n",
            "Epoch 73/100\n",
            "87/87 [==============================] - 1s 6ms/step - loss: 0.0865 - accuracy: 0.9714 - val_loss: 19.0110 - val_accuracy: 0.0195\n",
            "Epoch 74/100\n",
            "87/87 [==============================] - 0s 5ms/step - loss: 0.0789 - accuracy: 0.9783 - val_loss: 19.4863 - val_accuracy: 0.0228\n",
            "Epoch 75/100\n",
            "87/87 [==============================] - 0s 5ms/step - loss: 0.0752 - accuracy: 0.9754 - val_loss: 19.3837 - val_accuracy: 0.0195\n",
            "Epoch 76/100\n",
            "87/87 [==============================] - 0s 5ms/step - loss: 0.0770 - accuracy: 0.9765 - val_loss: 19.6456 - val_accuracy: 0.0163\n",
            "Epoch 77/100\n",
            "87/87 [==============================] - 0s 5ms/step - loss: 0.0754 - accuracy: 0.9772 - val_loss: 19.4308 - val_accuracy: 0.0195\n",
            "Epoch 78/100\n",
            "87/87 [==============================] - 0s 5ms/step - loss: 0.0956 - accuracy: 0.9736 - val_loss: 18.8656 - val_accuracy: 0.0195\n",
            "Epoch 79/100\n",
            "87/87 [==============================] - 0s 5ms/step - loss: 0.0657 - accuracy: 0.9783 - val_loss: 18.8353 - val_accuracy: 0.0195\n",
            "Epoch 80/100\n",
            "87/87 [==============================] - 0s 5ms/step - loss: 0.0896 - accuracy: 0.9692 - val_loss: 19.0711 - val_accuracy: 0.0163\n",
            "Epoch 81/100\n",
            "87/87 [==============================] - 0s 5ms/step - loss: 0.0767 - accuracy: 0.9710 - val_loss: 19.2712 - val_accuracy: 0.0163\n",
            "Epoch 82/100\n",
            "87/87 [==============================] - 0s 5ms/step - loss: 0.0699 - accuracy: 0.9761 - val_loss: 19.1223 - val_accuracy: 0.0195\n",
            "Epoch 83/100\n",
            "87/87 [==============================] - 1s 6ms/step - loss: 0.0874 - accuracy: 0.9710 - val_loss: 18.9858 - val_accuracy: 0.0228\n",
            "Epoch 84/100\n",
            "87/87 [==============================] - 1s 6ms/step - loss: 0.0723 - accuracy: 0.9768 - val_loss: 19.7616 - val_accuracy: 0.0261\n",
            "Epoch 85/100\n",
            "87/87 [==============================] - 0s 5ms/step - loss: 0.0600 - accuracy: 0.9801 - val_loss: 19.2932 - val_accuracy: 0.0228\n",
            "Epoch 86/100\n",
            "87/87 [==============================] - 0s 5ms/step - loss: 0.0607 - accuracy: 0.9776 - val_loss: 19.5555 - val_accuracy: 0.0130\n",
            "Epoch 87/100\n",
            "87/87 [==============================] - 0s 5ms/step - loss: 0.0602 - accuracy: 0.9776 - val_loss: 19.9757 - val_accuracy: 0.0261\n",
            "Epoch 88/100\n",
            "87/87 [==============================] - 0s 5ms/step - loss: 0.0706 - accuracy: 0.9757 - val_loss: 19.2493 - val_accuracy: 0.0293\n",
            "Epoch 89/100\n",
            "87/87 [==============================] - 0s 5ms/step - loss: 0.0593 - accuracy: 0.9815 - val_loss: 19.8369 - val_accuracy: 0.0261\n",
            "Epoch 90/100\n",
            "87/87 [==============================] - 0s 5ms/step - loss: 0.0629 - accuracy: 0.9819 - val_loss: 19.8528 - val_accuracy: 0.0228\n",
            "Epoch 91/100\n",
            "87/87 [==============================] - 0s 5ms/step - loss: 0.0823 - accuracy: 0.9768 - val_loss: 19.1782 - val_accuracy: 0.0228\n",
            "Epoch 92/100\n",
            "87/87 [==============================] - 0s 5ms/step - loss: 0.0748 - accuracy: 0.9776 - val_loss: 19.0401 - val_accuracy: 0.0228\n",
            "Epoch 93/100\n",
            "87/87 [==============================] - 0s 5ms/step - loss: 0.0758 - accuracy: 0.9757 - val_loss: 19.0653 - val_accuracy: 0.0163\n",
            "Epoch 94/100\n",
            "87/87 [==============================] - 0s 5ms/step - loss: 0.0787 - accuracy: 0.9736 - val_loss: 19.6980 - val_accuracy: 0.0261\n",
            "Epoch 95/100\n",
            "87/87 [==============================] - 0s 5ms/step - loss: 0.0846 - accuracy: 0.9728 - val_loss: 19.1510 - val_accuracy: 0.0261\n",
            "Epoch 96/100\n",
            "87/87 [==============================] - 0s 5ms/step - loss: 0.0719 - accuracy: 0.9725 - val_loss: 19.9083 - val_accuracy: 0.0261\n",
            "Epoch 97/100\n",
            "87/87 [==============================] - 0s 5ms/step - loss: 0.0743 - accuracy: 0.9765 - val_loss: 19.7896 - val_accuracy: 0.0261\n",
            "Epoch 98/100\n",
            "87/87 [==============================] - 0s 5ms/step - loss: 0.0770 - accuracy: 0.9754 - val_loss: 19.5672 - val_accuracy: 0.0293\n",
            "Epoch 99/100\n",
            "87/87 [==============================] - 0s 5ms/step - loss: 0.0672 - accuracy: 0.9783 - val_loss: 19.5972 - val_accuracy: 0.0228\n",
            "Epoch 100/100\n",
            "87/87 [==============================] - 0s 5ms/step - loss: 0.0808 - accuracy: 0.9736 - val_loss: 19.9981 - val_accuracy: 0.0261\n"
          ],
          "name": "stdout"
        }
      ]
    },
    {
      "cell_type": "markdown",
      "metadata": {
        "id": "MbfxMSNbEQ32"
      },
      "source": [
        "## Evaluate data"
      ]
    },
    {
      "cell_type": "code",
      "metadata": {
        "trusted": true,
        "id": "Po6BSKXDEQ32",
        "outputId": "042c7b2e-c6c3-4d40-d3c8-219be4db6710"
      },
      "source": [
        "result = model.evaluate(testing_images, testing_labels)\n",
        "print(result)"
      ],
      "execution_count": null,
      "outputs": [
        {
          "output_type": "stream",
          "text": [
            "11/11 [==============================] - 0s 3ms/step - loss: 21.1610 - accuracy: 0.0264\n",
            "[21.1610164642334, 0.026392962783575058]\n"
          ],
          "name": "stdout"
        }
      ]
    },
    {
      "cell_type": "markdown",
      "metadata": {
        "id": "NCas_lNtEQ32"
      },
      "source": [
        "## Plot the learning curve"
      ]
    },
    {
      "cell_type": "code",
      "metadata": {
        "trusted": true,
        "id": "bvVsjfdiEQ33",
        "outputId": "1b6b8b03-d49a-482e-ff0b-71eac6db9588"
      },
      "source": [
        "plt.plot(history.history['accuracy'])\n",
        "plt.plot(history.history['val_accuracy'])\n",
        "plt.title('Accuracy vs. epochs')\n",
        "plt.ylabel('Accuracy')\n",
        "plt.xlabel('Epoch')\n",
        "plt.show()"
      ],
      "execution_count": null,
      "outputs": [
        {
          "output_type": "display_data",
          "data": {
            "text/plain": [
              "<Figure size 432x288 with 1 Axes>"
            ],
            "image/png": "[encoded data removed]"
          },
          "metadata": {
            "tags": [],
            "needs_background": "light"
          }
        }
      ]
    },
    {
      "cell_type": "code",
      "metadata": {
        "trusted": true,
        "id": "0t0FpaZ1EQ33",
        "outputId": "0ecba519-3fed-45f8-ff6f-c0d21fc5f88b"
      },
      "source": [
        "plt.plot(history.history['loss'])\n",
        "plt.plot(history.history['val_loss'])\n",
        "plt.title('Loss vs. epochs')\n",
        "plt.ylabel('Loss')\n",
        "plt.xlabel('Epoch')\n",
        "plt.show()"
      ],
      "execution_count": null,
      "outputs": [
        {
          "output_type": "display_data",
          "data": {
            "text/plain": [
              "<Figure size 432x288 with 1 Axes>"
            ],
            "image/png": "[encoded data removed]"
          },
          "metadata": {
            "tags": [],
            "needs_background": "light"
          }
        }
      ]
    },
    {
      "cell_type": "markdown",
      "metadata": {
        "id": "4mvK4RsxEQ33"
      },
      "source": [
        "## Conclusion\n",
        "\n",
        "I managed to build a model to learn from this dataset although it overfits. There are many possible root causes:  \n",
        "- Number of samples are too small, so it don't cover most senarios.\n",
        "- Every character is fit in a image with a large white background, so it makes the neural network harder to discover its pattern.\n",
        "- The neural network and its hyper parameters is not very suitable for this dataset.\n",
        "\n",
        "There can be some solutions to solve this problem:\n",
        "- Add more real samples with more senarios.\n",
        "- Use data augmentation.\n",
        "- Write some algorithm to search the location of character.\n",
        "- Define a better architecture to learn from this dataset."
      ]
    }
  ]
}