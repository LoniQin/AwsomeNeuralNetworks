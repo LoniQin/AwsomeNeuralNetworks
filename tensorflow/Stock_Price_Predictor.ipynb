{
  "nbformat": 4,
  "nbformat_minor": 0,
  "metadata": {
    "colab": {
      "name": "Stock Price Predictor.ipynb",
      "provenance": [],
      "collapsed_sections": [],
      "authorship_tag": "ABX9TyMoB8SkRA006MLiC79qC2HD",
      "include_colab_link": true
    },
    "kernelspec": {
      "name": "python3",
      "display_name": "Python 3"
    },
    "language_info": {
      "name": "python"
    }
  },
  "cells": [
    {
      "cell_type": "markdown",
      "metadata": {
        "id": "view-in-github",
        "colab_type": "text"
      },
      "source": [
        "<a href=\"https://colab.research.google.com/github/LoniQin/deep_learning_notebooks/blob/master/tensorflow/Stock_Price_Predictor.ipynb\" target=\"_parent\"><img src=\"https://colab.research.google.com/assets/colab-badge.svg\" alt=\"Open In Colab\"/></a>"
      ]
    },
    {
      "cell_type": "markdown",
      "metadata": {
        "id": "c7uGuarvDZgQ"
      },
      "source": [
        "## Import packages"
      ]
    },
    {
      "cell_type": "code",
      "metadata": {
        "id": "mUKdtednDbcc"
      },
      "source": [
        "import pandas as pd\n",
        "import numpy as np\n",
        "import matplotlib.pyplot as plt\n",
        "import seaborn as sns\n",
        "sns.set_style(\"whitegrid\")\n",
        "plt.style.use(\"fivethirtyeight\")\n",
        "from pandas_datareader.data import DataReader\n",
        "from datetime import datetime"
      ],
      "execution_count": 1,
      "outputs": []
    },
    {
      "cell_type": "markdown",
      "metadata": {
        "id": "YzsGvqFVD8Fu"
      },
      "source": [
        "## Load data\n",
        "We predict the stock price of apple here. If we want to predict other stocks, we can simply change the symbol and company name."
      ]
    },
    {
      "cell_type": "code",
      "metadata": {
        "id": "WwQyGrSOD-3Y"
      },
      "source": [
        "symbol = 'TSLA'\n",
        "company_name = 'TESLA'\n",
        "end = datetime.now()\n",
        "start = datetime(2012, end.month, end.day)\n",
        "stock_data = DataReader(symbol, 'yahoo', start, end)"
      ],
      "execution_count": 39,
      "outputs": []
    },
    {
      "cell_type": "code",
      "metadata": {
        "colab": {
          "base_uri": "https://localhost:8080/",
          "height": 390
        },
        "id": "8Unyzu9gEmnX",
        "outputId": "4e2286df-d463-4256-9ff9-17f2e913b398"
      },
      "source": [
        "stock_data.tail(10)"
      ],
      "execution_count": 40,
      "outputs": [
        {
          "output_type": "execute_result",
          "data": {
            "text/html": [
              "<div>\n",
              "<style scoped>\n",
              "    .dataframe tbody tr th:only-of-type {\n",
              "        vertical-align: middle;\n",
              "    }\n",
              "\n",
              "    .dataframe tbody tr th {\n",
              "        vertical-align: top;\n",
              "    }\n",
              "\n",
              "    .dataframe thead th {\n",
              "        text-align: right;\n",
              "    }\n",
              "</style>\n",
              "<table border=\"1\" class=\"dataframe\">\n",
              "  <thead>\n",
              "    <tr style=\"text-align: right;\">\n",
              "      <th></th>\n",
              "      <th>High</th>\n",
              "      <th>Low</th>\n",
              "      <th>Open</th>\n",
              "      <th>Close</th>\n",
              "      <th>Volume</th>\n",
              "      <th>Adj Close</th>\n",
              "    </tr>\n",
              "    <tr>\n",
              "      <th>Date</th>\n",
              "      <th></th>\n",
              "      <th></th>\n",
              "      <th></th>\n",
              "      <th></th>\n",
              "      <th></th>\n",
              "      <th></th>\n",
              "    </tr>\n",
              "  </thead>\n",
              "  <tbody>\n",
              "    <tr>\n",
              "      <th>2021-03-12</th>\n",
              "      <td>694.880005</td>\n",
              "      <td>666.140015</td>\n",
              "      <td>670.000000</td>\n",
              "      <td>693.729980</td>\n",
              "      <td>33583800.0</td>\n",
              "      <td>693.729980</td>\n",
              "    </tr>\n",
              "    <tr>\n",
              "      <th>2021-03-15</th>\n",
              "      <td>713.179993</td>\n",
              "      <td>684.039978</td>\n",
              "      <td>694.090027</td>\n",
              "      <td>707.940002</td>\n",
              "      <td>29335600.0</td>\n",
              "      <td>707.940002</td>\n",
              "    </tr>\n",
              "    <tr>\n",
              "      <th>2021-03-16</th>\n",
              "      <td>707.919983</td>\n",
              "      <td>671.000000</td>\n",
              "      <td>703.349976</td>\n",
              "      <td>676.880005</td>\n",
              "      <td>31903400.0</td>\n",
              "      <td>676.880005</td>\n",
              "    </tr>\n",
              "    <tr>\n",
              "      <th>2021-03-17</th>\n",
              "      <td>703.729980</td>\n",
              "      <td>651.010010</td>\n",
              "      <td>656.869995</td>\n",
              "      <td>701.809998</td>\n",
              "      <td>40083300.0</td>\n",
              "      <td>701.809998</td>\n",
              "    </tr>\n",
              "    <tr>\n",
              "      <th>2021-03-18</th>\n",
              "      <td>689.229980</td>\n",
              "      <td>652.000000</td>\n",
              "      <td>684.289978</td>\n",
              "      <td>653.159973</td>\n",
              "      <td>33224800.0</td>\n",
              "      <td>653.159973</td>\n",
              "    </tr>\n",
              "    <tr>\n",
              "      <th>2021-03-19</th>\n",
              "      <td>657.229980</td>\n",
              "      <td>624.619995</td>\n",
              "      <td>646.599976</td>\n",
              "      <td>654.869995</td>\n",
              "      <td>42827400.0</td>\n",
              "      <td>654.869995</td>\n",
              "    </tr>\n",
              "    <tr>\n",
              "      <th>2021-03-22</th>\n",
              "      <td>699.619995</td>\n",
              "      <td>668.750000</td>\n",
              "      <td>684.590027</td>\n",
              "      <td>670.000000</td>\n",
              "      <td>39512200.0</td>\n",
              "      <td>670.000000</td>\n",
              "    </tr>\n",
              "    <tr>\n",
              "      <th>2021-03-23</th>\n",
              "      <td>677.799988</td>\n",
              "      <td>657.510010</td>\n",
              "      <td>675.770020</td>\n",
              "      <td>662.159973</td>\n",
              "      <td>30491900.0</td>\n",
              "      <td>662.159973</td>\n",
              "    </tr>\n",
              "    <tr>\n",
              "      <th>2021-03-24</th>\n",
              "      <td>668.020020</td>\n",
              "      <td>630.109985</td>\n",
              "      <td>667.909973</td>\n",
              "      <td>630.270020</td>\n",
              "      <td>33684600.0</td>\n",
              "      <td>630.270020</td>\n",
              "    </tr>\n",
              "    <tr>\n",
              "      <th>2021-03-25</th>\n",
              "      <td>644.471313</td>\n",
              "      <td>609.969971</td>\n",
              "      <td>613.000000</td>\n",
              "      <td>640.155029</td>\n",
              "      <td>25956118.0</td>\n",
              "      <td>640.155029</td>\n",
              "    </tr>\n",
              "  </tbody>\n",
              "</table>\n",
              "</div>"
            ],
            "text/plain": [
              "                  High         Low  ...      Volume   Adj Close\n",
              "Date                                ...                        \n",
              "2021-03-12  694.880005  666.140015  ...  33583800.0  693.729980\n",
              "2021-03-15  713.179993  684.039978  ...  29335600.0  707.940002\n",
              "2021-03-16  707.919983  671.000000  ...  31903400.0  676.880005\n",
              "2021-03-17  703.729980  651.010010  ...  40083300.0  701.809998\n",
              "2021-03-18  689.229980  652.000000  ...  33224800.0  653.159973\n",
              "2021-03-19  657.229980  624.619995  ...  42827400.0  654.869995\n",
              "2021-03-22  699.619995  668.750000  ...  39512200.0  670.000000\n",
              "2021-03-23  677.799988  657.510010  ...  30491900.0  662.159973\n",
              "2021-03-24  668.020020  630.109985  ...  33684600.0  630.270020\n",
              "2021-03-25  644.471313  609.969971  ...  25956118.0  640.155029\n",
              "\n",
              "[10 rows x 6 columns]"
            ]
          },
          "metadata": {
            "tags": []
          },
          "execution_count": 40
        }
      ]
    },
    {
      "cell_type": "code",
      "metadata": {
        "colab": {
          "base_uri": "https://localhost:8080/"
        },
        "id": "aoxvJvM1FCtI",
        "outputId": "0d1e8cf6-44fd-4811-c0d7-8c8f593d3536"
      },
      "source": [
        "stock_data.info()"
      ],
      "execution_count": 41,
      "outputs": [
        {
          "output_type": "stream",
          "text": [
            "<class 'pandas.core.frame.DataFrame'>\n",
            "DatetimeIndex: 2265 entries, 2012-03-26 to 2021-03-25\n",
            "Data columns (total 6 columns):\n",
            " #   Column     Non-Null Count  Dtype  \n",
            "---  ------     --------------  -----  \n",
            " 0   High       2265 non-null   float64\n",
            " 1   Low        2265 non-null   float64\n",
            " 2   Open       2265 non-null   float64\n",
            " 3   Close      2265 non-null   float64\n",
            " 4   Volume     2265 non-null   float64\n",
            " 5   Adj Close  2265 non-null   float64\n",
            "dtypes: float64(6)\n",
            "memory usage: 123.9 KB\n"
          ],
          "name": "stdout"
        }
      ]
    },
    {
      "cell_type": "code",
      "metadata": {
        "colab": {
          "base_uri": "https://localhost:8080/",
          "height": 303
        },
        "id": "cp-m5TKaFXqC",
        "outputId": "6d8d9f4c-9ccd-4d25-c4cc-fc3649ad131f"
      },
      "source": [
        "stock_data[\"Adj Close\"].plot()\n",
        "plt.ylabel(\"Adj Close\")\n",
        "plt.title(company_name)"
      ],
      "execution_count": 42,
      "outputs": [
        {
          "output_type": "execute_result",
          "data": {
            "text/plain": [
              "Text(0.5, 1.0, 'TESLA')"
            ]
          },
          "metadata": {
            "tags": []
          },
          "execution_count": 42
        },
        {
          "output_type": "display_data",
          "data": {
            "image/png": "[encoded data removed]",
            "text/plain": [
              "<Figure size 432x288 with 1 Axes>"
            ]
          },
          "metadata": {
            "tags": [],
            "needs_background": "light"
          }
        }
      ]
    },
    {
      "cell_type": "markdown",
      "metadata": {
        "id": "BCT2zMXSGZJ6"
      },
      "source": [
        "## Calculate moving average of the stock"
      ]
    },
    {
      "cell_type": "code",
      "metadata": {
        "id": "BxaWODckGfSR"
      },
      "source": [
        "for ma in [10, 20, 50]:\n",
        "  stock_data[f\"MA for {ma} days\"] = stock_data['Adj Close'].rolling(ma).mean()"
      ],
      "execution_count": 43,
      "outputs": []
    },
    {
      "cell_type": "code",
      "metadata": {
        "colab": {
          "base_uri": "https://localhost:8080/"
        },
        "id": "VhAx7GDcHQ8D",
        "outputId": "bb6c7c67-5812-4530-8871-7b5663005b91"
      },
      "source": [
        "stock_data.columns"
      ],
      "execution_count": 44,
      "outputs": [
        {
          "output_type": "execute_result",
          "data": {
            "text/plain": [
              "Index(['High', 'Low', 'Open', 'Close', 'Volume', 'Adj Close', 'MA for 10 days',\n",
              "       'MA for 20 days', 'MA for 50 days'],\n",
              "      dtype='object')"
            ]
          },
          "metadata": {
            "tags": []
          },
          "execution_count": 44
        }
      ]
    },
    {
      "cell_type": "markdown",
      "metadata": {
        "id": "eAzGCqnFHsto"
      },
      "source": [
        "## Show histogram"
      ]
    },
    {
      "cell_type": "code",
      "metadata": {
        "colab": {
          "base_uri": "https://localhost:8080/",
          "height": 884
        },
        "id": "7EfgZTE3HX4q",
        "outputId": "b4f1d120-08d6-4d73-99b7-b94e568c5b08"
      },
      "source": [
        "stock_data.hist(figsize=(12, 12))"
      ],
      "execution_count": 45,
      "outputs": [
        {
          "output_type": "execute_result",
          "data": {
            "text/plain": [
              "array([[<matplotlib.axes._subplots.AxesSubplot object at 0x7fed30dd0750>,\n",
              "        <matplotlib.axes._subplots.AxesSubplot object at 0x7fed30d8bdd0>,\n",
              "        <matplotlib.axes._subplots.AxesSubplot object at 0x7fed30d4c490>],\n",
              "       [<matplotlib.axes._subplots.AxesSubplot object at 0x7fed30cffb10>,\n",
              "        <matplotlib.axes._subplots.AxesSubplot object at 0x7fed30cc31d0>,\n",
              "        <matplotlib.axes._subplots.AxesSubplot object at 0x7fed30c78850>],\n",
              "       [<matplotlib.axes._subplots.AxesSubplot object at 0x7fed30cadf50>,\n",
              "        <matplotlib.axes._subplots.AxesSubplot object at 0x7fed30c70550>,\n",
              "        <matplotlib.axes._subplots.AxesSubplot object at 0x7fed30c70590>]],\n",
              "      dtype=object)"
            ]
          },
          "metadata": {
            "tags": []
          },
          "execution_count": 45
        },
        {
          "output_type": "display_data",
          "data": {
            "image/png": "[encoded data removed]",
            "text/plain": [
              "<Figure size 864x864 with 9 Axes>"
            ]
          },
          "metadata": {
            "tags": [],
            "needs_background": "light"
          }
        }
      ]
    },
    {
      "cell_type": "markdown",
      "metadata": {
        "id": "Vb58SFklH7Aj"
      },
      "source": [
        "## "
      ]
    },
    {
      "cell_type": "code",
      "metadata": {
        "colab": {
          "base_uri": "https://localhost:8080/",
          "height": 303
        },
        "id": "SXnPd3dQH-mu",
        "outputId": "db8cd04f-28a0-4d7f-fa8d-dfe0aba7037e"
      },
      "source": [
        "stock_data[['Adj Close', 'MA for 10 days', 'MA for 20 days', 'MA for 50 days']].plot()\n",
        "plt.title(company_name)"
      ],
      "execution_count": 46,
      "outputs": [
        {
          "output_type": "execute_result",
          "data": {
            "text/plain": [
              "Text(0.5, 1.0, 'TESLA')"
            ]
          },
          "metadata": {
            "tags": []
          },
          "execution_count": 46
        },
        {
          "output_type": "display_data",
          "data": {
            "image/png": "[encoded data removed]",
            "text/plain": [
              "<Figure size 432x288 with 1 Axes>"
            ]
          },
          "metadata": {
            "tags": [],
            "needs_background": "light"
          }
        }
      ]
    },
    {
      "cell_type": "markdown",
      "metadata": {
        "id": "s0z9qdR_IbnM"
      },
      "source": [
        "## Calcuate daily return"
      ]
    },
    {
      "cell_type": "code",
      "metadata": {
        "id": "wDajplZ6IgTO"
      },
      "source": [
        "stock_data[\"Daily Return\"] = stock_data[\"Adj Close\"].pct_change()"
      ],
      "execution_count": 47,
      "outputs": []
    },
    {
      "cell_type": "code",
      "metadata": {
        "colab": {
          "base_uri": "https://localhost:8080/",
          "height": 303
        },
        "id": "a3L2bHOGIubl",
        "outputId": "fe729190-d410-48b5-ba78-4d4e58f9e6f5"
      },
      "source": [
        "stock_data[\"Daily Return\"].plot(legend=True, linestyle='--', marker='o')\n",
        "plt.title(company_name)"
      ],
      "execution_count": 48,
      "outputs": [
        {
          "output_type": "execute_result",
          "data": {
            "text/plain": [
              "Text(0.5, 1.0, 'TESLA')"
            ]
          },
          "metadata": {
            "tags": []
          },
          "execution_count": 48
        },
        {
          "output_type": "display_data",
          "data": {
            "image/png": "[encoded data removed]",
            "text/plain": [
              "<Figure size 432x288 with 1 Axes>"
            ]
          },
          "metadata": {
            "tags": [],
            "needs_background": "light"
          }
        }
      ]
    },
    {
      "cell_type": "code",
      "metadata": {
        "colab": {
          "base_uri": "https://localhost:8080/"
        },
        "id": "miOFFuGXLyyN",
        "outputId": "717c1802-bbb5-4818-c79c-0bfa12aa2d35"
      },
      "source": [
        "# Create a new dataframe with only the 'Close column \n",
        "data = stock_data.filter(['Close'])\n",
        "# Convert the dataframe to a numpy array\n",
        "dataset = data.values\n",
        "# Get the number of rows to train the model on\n",
        "training_data_len = int(np.ceil( len(dataset) * .95 ))\n",
        "\n",
        "training_data_len"
      ],
      "execution_count": 49,
      "outputs": [
        {
          "output_type": "execute_result",
          "data": {
            "text/plain": [
              "2152"
            ]
          },
          "metadata": {
            "tags": []
          },
          "execution_count": 49
        }
      ]
    },
    {
      "cell_type": "code",
      "metadata": {
        "colab": {
          "base_uri": "https://localhost:8080/"
        },
        "id": "zKLA0Y65L4b7",
        "outputId": "0907ccac-b758-406c-f1da-2fd71783d884"
      },
      "source": [
        "from sklearn.preprocessing import MinMaxScaler\n",
        "scaler = MinMaxScaler(feature_range=(0, 1))\n",
        "scaled_data = scaler.fit_transform(dataset)\n",
        "scaled_data"
      ],
      "execution_count": 50,
      "outputs": [
        {
          "output_type": "execute_result",
          "data": {
            "text/plain": [
              "array([[0.00257441],\n",
              "       [0.00269744],\n",
              "       [0.00267693],\n",
              "       ...,\n",
              "       [0.74833398],\n",
              "       [0.71200747],\n",
              "       [0.72326769]])"
            ]
          },
          "metadata": {
            "tags": []
          },
          "execution_count": 50
        }
      ]
    },
    {
      "cell_type": "code",
      "metadata": {
        "id": "U_EVx79SMP2n"
      },
      "source": [
        "train_data = scaled_data[0:int(training_data_len), :]\n",
        "x_train = []\n",
        "y_train = []\n",
        "for i in range(60, len(train_data)):\n",
        "  x_train.append(train_data[i-60:i, 0])\n",
        "  y_train.append(train_data[i, 0])\n",
        "x_train, y_train = np.array(x_train), np.array(y_train)"
      ],
      "execution_count": 51,
      "outputs": []
    },
    {
      "cell_type": "code",
      "metadata": {
        "id": "KMD8mAoEMvA3"
      },
      "source": [
        "x_train = np.reshape(x_train, (x_train.shape[0], x_train.shape[1], 1))"
      ],
      "execution_count": 52,
      "outputs": []
    },
    {
      "cell_type": "code",
      "metadata": {
        "colab": {
          "base_uri": "https://localhost:8080/"
        },
        "id": "iJO9bEqrM0Q9",
        "outputId": "2bcca488-44c6-46b1-c44c-27f057bbeb26"
      },
      "source": [
        "x_train.shape"
      ],
      "execution_count": 53,
      "outputs": [
        {
          "output_type": "execute_result",
          "data": {
            "text/plain": [
              "(2092, 60, 1)"
            ]
          },
          "metadata": {
            "tags": []
          },
          "execution_count": 53
        }
      ]
    },
    {
      "cell_type": "markdown",
      "metadata": {
        "id": "WROVHpWzM-O9"
      },
      "source": [
        "## Build the model"
      ]
    },
    {
      "cell_type": "code",
      "metadata": {
        "colab": {
          "base_uri": "https://localhost:8080/"
        },
        "id": "SS_n4PRsNANV",
        "outputId": "75ee153d-37a3-4eca-cc38-d60a401afd2b"
      },
      "source": [
        "from tensorflow.keras.models import Sequential\n",
        "from tensorflow.keras.layers import Dense, LSTM\n",
        "model = Sequential([\n",
        "  LSTM(128, return_sequences=True, input_shape = (x_train.shape[1], 1)),\n",
        "  LSTM(64, return_sequences=False),\n",
        "  Dense(25),\n",
        "  Dense(1)\n",
        "])\n",
        "model.compile(optimizer='adam', loss='mean_squared_error')\n",
        "model.summary()"
      ],
      "execution_count": 54,
      "outputs": [
        {
          "output_type": "stream",
          "text": [
            "Model: \"sequential_2\"\n",
            "_________________________________________________________________\n",
            "Layer (type)                 Output Shape              Param #   \n",
            "=================================================================\n",
            "lstm_4 (LSTM)                (None, 60, 128)           66560     \n",
            "_________________________________________________________________\n",
            "lstm_5 (LSTM)                (None, 64)                49408     \n",
            "_________________________________________________________________\n",
            "dense_4 (Dense)              (None, 25)                1625      \n",
            "_________________________________________________________________\n",
            "dense_5 (Dense)              (None, 1)                 26        \n",
            "=================================================================\n",
            "Total params: 117,619\n",
            "Trainable params: 117,619\n",
            "Non-trainable params: 0\n",
            "_________________________________________________________________\n"
          ],
          "name": "stdout"
        }
      ]
    },
    {
      "cell_type": "markdown",
      "metadata": {
        "id": "gRLX2MVaNwHi"
      },
      "source": [
        "## Train the model"
      ]
    },
    {
      "cell_type": "code",
      "metadata": {
        "colab": {
          "base_uri": "https://localhost:8080/"
        },
        "id": "90fgIguxNz51",
        "outputId": "cd7b456d-99a5-4bbf-eeed-2c4e7def9e12"
      },
      "source": [
        "model.fit(x_train, y_train, batch_size=1, epochs=1)"
      ],
      "execution_count": 58,
      "outputs": [
        {
          "output_type": "stream",
          "text": [
            "2092/2092 [==============================] - 60s 29ms/step - loss: 4.3415e-04\n"
          ],
          "name": "stdout"
        },
        {
          "output_type": "execute_result",
          "data": {
            "text/plain": [
              "<tensorflow.python.keras.callbacks.History at 0x7fed307871d0>"
            ]
          },
          "metadata": {
            "tags": []
          },
          "execution_count": 58
        }
      ]
    },
    {
      "cell_type": "markdown",
      "metadata": {
        "id": "BXU-pCN1OY-6"
      },
      "source": [
        "## Predict data"
      ]
    },
    {
      "cell_type": "code",
      "metadata": {
        "colab": {
          "base_uri": "https://localhost:8080/"
        },
        "id": "o1MxsD84Oc8D",
        "outputId": "54634567-2040-4464-b932-e54783addfdc"
      },
      "source": [
        "test_data = scaled_data[training_data_len - 60:, :]\n",
        "x_test = []\n",
        "y_test = dataset[training_data_len:, :]\n",
        "for i in range(60, len(test_data)):\n",
        "  x_test.append(test_data[i-60:i, 0])\n",
        "x_test = np.array(x_test)\n",
        "x_test = x_test.reshape((x_test.shape[0], x_test.shape[1], 1))\n",
        "predictions = model.predict(x_test)\n",
        "predictions = scaler.inverse_transform(predictions)\n",
        "rmse = np.sqrt(np.mean((predictions - y_test) ** 2))\n",
        "rmse"
      ],
      "execution_count": 59,
      "outputs": [
        {
          "output_type": "execute_result",
          "data": {
            "text/plain": [
              "69.60761751017333"
            ]
          },
          "metadata": {
            "tags": []
          },
          "execution_count": 59
        }
      ]
    },
    {
      "cell_type": "code",
      "metadata": {
        "colab": {
          "base_uri": "https://localhost:8080/",
          "height": 616
        },
        "id": "i1cSwtDpPmKf",
        "outputId": "028fadd2-f639-40a5-c358-6cfba56dae14"
      },
      "source": [
        "train = data[:training_data_len]\n",
        "valid = data[training_data_len:]\n",
        "valid['Predictions'] = predictions\n",
        "plt.figure(figsize=(16, 8))\n",
        "plt.title('Model')\n",
        "plt.xlabel('Date', fontsize=18)\n",
        "plt.ylabel('Close Price USD ($)')\n",
        "plt.plot(train['Close'])\n",
        "plt.plot(valid[['Close', 'Predictions']])\n",
        "plt.legend(['Train', 'Val', 'Predictions'], loc='lower right')\n",
        "plt.show()"
      ],
      "execution_count": 60,
      "outputs": [
        {
          "output_type": "stream",
          "text": [
            "/usr/local/lib/python3.7/dist-packages/ipykernel_launcher.py:3: SettingWithCopyWarning: \n",
            "A value is trying to be set on a copy of a slice from a DataFrame.\n",
            "Try using .loc[row_indexer,col_indexer] = value instead\n",
            "\n",
            "See the caveats in the documentation: https://pandas.pydata.org/pandas-docs/stable/user_guide/indexing.html#returning-a-view-versus-a-copy\n",
            "  This is separate from the ipykernel package so we can avoid doing imports until\n"
          ],
          "name": "stderr"
        },
        {
          "output_type": "display_data",
          "data": {
            "image/png": "[encoded data removed]",
            "text/plain": [
              "<Figure size 1152x576 with 1 Axes>"
            ]
          },
          "metadata": {
            "tags": [],
            "needs_background": "light"
          }
        }
      ]
    }
  ]
}