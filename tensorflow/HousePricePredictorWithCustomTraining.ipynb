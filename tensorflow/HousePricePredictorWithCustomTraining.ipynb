{
  "nbformat": 4,
  "nbformat_minor": 0,
  "metadata": {
    "colab": {
      "name": "HousePricePredictorWithCustomTraining.ipynb",
      "provenance": [],
      "collapsed_sections": [],
      "toc_visible": true,
      "include_colab_link": true
    },
    "kernelspec": {
      "display_name": "Python 3",
      "name": "python3"
    }
  },
  "cells": [
    {
      "cell_type": "markdown",
      "metadata": {
        "id": "view-in-github",
        "colab_type": "text"
      },
      "source": [
        "<a href=\"https://colab.research.google.com/github/LoniQin/deep_learning_notebooks/blob/master/tensorflow/HousePricePredictorWithCustomTraining.ipynb\" target=\"_parent\"><img src=\"https://colab.research.google.com/assets/colab-badge.svg\" alt=\"Open In Colab\"/></a>"
      ]
    },
    {
      "cell_type": "markdown",
      "metadata": {
        "id": "fcag9nrqnIZy"
      },
      "source": [
        "## Import Packages"
      ]
    },
    {
      "cell_type": "code",
      "metadata": {
        "id": "JLru6KxKoB5h"
      },
      "source": [
        "import tensorflow as tf\n",
        "import numpy as np\n",
        "from tensorflow import keras\n",
        "from sklearn.preprocessing import MinMaxScaler\n",
        "import matplotlib.pyplot as plt"
      ],
      "execution_count": 155,
      "outputs": []
    },
    {
      "cell_type": "markdown",
      "metadata": {
        "id": "2yofRwTooEAd"
      },
      "source": [
        "## Load and preprocess data"
      ]
    },
    {
      "cell_type": "code",
      "metadata": {
        "id": "LldtPLpMmklp"
      },
      "source": [
        "(x_train, y_train), (x_test, y_test) = keras.datasets.boston_housing.load_data()\n",
        "y_train = y_train.reshape((y_train.shape[0], 1))\n",
        "y_test = y_test.reshape((y_test.shape[0], 1))"
      ],
      "execution_count": 156,
      "outputs": []
    },
    {
      "cell_type": "code",
      "metadata": {
        "id": "rlrfcFR9qfGI"
      },
      "source": [
        "train = np.concatenate((x_train, y_train), axis=1)\n",
        "test = np.concatenate((x_test, y_test), axis=1)\n",
        "all = np.concatenate((train, test), axis=0)\n",
        "scaler = MinMaxScaler((0, 1.0))\n",
        "all_scaled = scaler.fit_transform(all.reshape((all.shape[0] * all.shape[1], 1))).reshape((all.shape[0], all.shape[1]))"
      ],
      "execution_count": 157,
      "outputs": []
    },
    {
      "cell_type": "code",
      "metadata": {
        "id": "rq6uYjtBs-bt"
      },
      "source": [
        "x_train_scaled = all_scaled[:x_train.shape[0], :x_train.shape[1]]\n",
        "y_train_scaled = all_scaled[:x_train.shape[0], x_train.shape[1]:]\n",
        "x_test_scaled = all_scaled[x_train.shape[0]:, :x_train.shape[1]]\n",
        "y_test_scaled = all_scaled[x_train.shape[0]:, x_train.shape[1]:]"
      ],
      "execution_count": 158,
      "outputs": []
    },
    {
      "cell_type": "markdown",
      "metadata": {
        "id": "42PCe3aUnZ4Q"
      },
      "source": [
        "## Create Nerual Network"
      ]
    },
    {
      "cell_type": "code",
      "metadata": {
        "id": "qBljKVqBBxmf"
      },
      "source": [
        "def mean_square_error(y_pred, y_true):\n",
        "  return tf.reduce_mean(tf.square(y_pred - y_true))"
      ],
      "execution_count": 159,
      "outputs": []
    },
    {
      "cell_type": "code",
      "metadata": {
        "colab": {
          "base_uri": "https://localhost:8080/"
        },
        "id": "tz1erZeBncAr",
        "outputId": "6c5179bb-ef15-45f3-f25c-df7d006a075a"
      },
      "source": [
        "model = keras.models.Sequential([\n",
        "    keras.layers.InputLayer((13, )),\n",
        "    keras.layers.Dense(32),\n",
        "    keras.layers.Dense(1)\n",
        "])\n",
        "model.compile(optimizer='adam', loss=mean_square_error)\n",
        "model.summary()"
      ],
      "execution_count": 160,
      "outputs": [
        {
          "output_type": "stream",
          "text": [
            "Model: \"sequential_13\"\n",
            "_________________________________________________________________\n",
            "Layer (type)                 Output Shape              Param #   \n",
            "=================================================================\n",
            "dense_26 (Dense)             (None, 32)                448       \n",
            "_________________________________________________________________\n",
            "dense_27 (Dense)             (None, 1)                 33        \n",
            "=================================================================\n",
            "Total params: 481\n",
            "Trainable params: 481\n",
            "Non-trainable params: 0\n",
            "_________________________________________________________________\n"
          ],
          "name": "stdout"
        }
      ]
    },
    {
      "cell_type": "markdown",
      "metadata": {
        "id": "FxRq5yOvnmlX"
      },
      "source": [
        "## Train the Nerual Network"
      ]
    },
    {
      "cell_type": "code",
      "metadata": {
        "id": "V_YzJlNUCMOz"
      },
      "source": [
        "def train(model, x, y, loss, epochs=1, learning_rate = 0.1, batch_size=32):\n",
        "  variables = model.variables\n",
        "  steps_per_epoch = x.shape[0] // batch_size\n",
        "  actual_learning_rate = learning_rate / float(steps_per_epoch)\n",
        "  if x.shape[0] % batch_size > 0:\n",
        "    steps_per_epoch += 1\n",
        "  losses = []\n",
        "  for epoch in range(epochs):\n",
        "    total_loss = tf.Variable(0.0)\n",
        "    for step in range(steps_per_epoch):\n",
        "      indices = np.random.choice(x.shape[0], batch_size)\n",
        "      x_batch = x[indices]\n",
        "      y_batch = y[indices]\n",
        "      with tf.GradientTape() as t:\n",
        "        current_loss = loss(model(x_batch), y_batch)\n",
        "      gradients = t.gradient(current_loss, variables)\n",
        "      total_loss.assign_add(current_loss)\n",
        "      for i in range(len(variables)):\n",
        "          variables[i].assign_sub(actual_learning_rate * gradients[i])\n",
        "    losses.append(total_loss)\n",
        "  return losses"
      ],
      "execution_count": 161,
      "outputs": []
    },
    {
      "cell_type": "code",
      "metadata": {
        "id": "WES53D3VE9vX"
      },
      "source": [
        "losses = train(model, x_train_scaled, y_train_scaled, mean_square_error, epochs=500, learning_rate=0.1)"
      ],
      "execution_count": 162,
      "outputs": []
    },
    {
      "cell_type": "markdown",
      "metadata": {
        "id": "L_R81nYj5CbB"
      },
      "source": [
        "## Plot the learning curve"
      ]
    },
    {
      "cell_type": "code",
      "metadata": {
        "colab": {
          "base_uri": "https://localhost:8080/",
          "height": 312
        },
        "id": "ZgcFQCrR5zeG",
        "outputId": "8782620c-a3ba-49d5-a415-e4bffe7a6c34"
      },
      "source": [
        "plt.plot(losses, label='loss')\n",
        "plt.title('Loss vs. epochs')\n",
        "plt.ylabel('Loss')\n",
        "plt.xlabel('Epoch')\n",
        "plt.legend()"
      ],
      "execution_count": 163,
      "outputs": [
        {
          "output_type": "execute_result",
          "data": {
            "text/plain": [
              "<matplotlib.legend.Legend at 0x7ff1befaf8d0>"
            ]
          },
          "metadata": {
            "tags": []
          },
          "execution_count": 163
        },
        {
          "output_type": "display_data",
          "data": {
            "image/png": "[encoded data removed]",
            "text/plain": [
              "<Figure size 432x288 with 1 Axes>"
            ]
          },
          "metadata": {
            "tags": [],
            "needs_background": "light"
          }
        }
      ]
    },
    {
      "cell_type": "markdown",
      "metadata": {
        "id": "GCb3br66otM5"
      },
      "source": [
        "## Predict data"
      ]
    },
    {
      "cell_type": "code",
      "metadata": {
        "id": "ewA8-fzTovOW"
      },
      "source": [
        "y_test_predicted = scaler.inverse_transform(model.predict(x_test_scaled))"
      ],
      "execution_count": 164,
      "outputs": []
    },
    {
      "cell_type": "code",
      "metadata": {
        "colab": {
          "base_uri": "https://localhost:8080/",
          "height": 298
        },
        "id": "fpihNUIg2Hzy",
        "outputId": "71d4a917-0442-4bcb-e7f8-a906d7c8d69f"
      },
      "source": [
        "fig, ax = plt.subplots()\n",
        "x = np.arange(y_test.shape[0])\n",
        "ax.plot(y_test, label='prices', color='r')\n",
        "ax.plot(y_test_predicted, label='predicted price', color='g')\n",
        "ax.set_ylabel('Prices')\n",
        "ax.set_title(\"Compare the predicted price and actual price\")\n",
        "ax.legend()"
      ],
      "execution_count": 165,
      "outputs": [
        {
          "output_type": "execute_result",
          "data": {
            "text/plain": [
              "<matplotlib.legend.Legend at 0x7ff1be54be50>"
            ]
          },
          "metadata": {
            "tags": []
          },
          "execution_count": 165
        },
        {
          "output_type": "display_data",
          "data": {
            "image/png": "[encoded data removed]",
            "text/plain": [
              "<Figure size 432x288 with 1 Axes>"
            ]
          },
          "metadata": {
            "tags": [],
            "needs_background": "light"
          }
        }
      ]
    }
  ]
}